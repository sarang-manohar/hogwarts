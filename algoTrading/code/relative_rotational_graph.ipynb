{
  "cells": [
    {
      "cell_type": "code",
      "source": [
        "!pip install nsetools plotly"
      ],
      "metadata": {
        "id": "m_Q8GIrb4Rap",
        "outputId": "70b656a0-3538-4274-d00d-12d3424ef07e",
        "colab": {
          "base_uri": "https://localhost:8080/"
        }
      },
      "execution_count": 1,
      "outputs": [
        {
          "output_type": "stream",
          "name": "stdout",
          "text": [
            "Collecting nsetools\n",
            "  Downloading nsetools-1.0.11-py3-none-any.whl (9.6 kB)\n",
            "Requirement already satisfied: plotly in /usr/local/lib/python3.10/dist-packages (5.15.0)\n",
            "Requirement already satisfied: six in /usr/local/lib/python3.10/dist-packages (from nsetools) (1.16.0)\n",
            "Collecting dateutils (from nsetools)\n",
            "  Downloading dateutils-0.6.12-py2.py3-none-any.whl (5.7 kB)\n",
            "Requirement already satisfied: tenacity>=6.2.0 in /usr/local/lib/python3.10/dist-packages (from plotly) (8.2.3)\n",
            "Requirement already satisfied: packaging in /usr/local/lib/python3.10/dist-packages (from plotly) (24.0)\n",
            "Requirement already satisfied: python-dateutil in /usr/local/lib/python3.10/dist-packages (from dateutils->nsetools) (2.8.2)\n",
            "Requirement already satisfied: pytz in /usr/local/lib/python3.10/dist-packages (from dateutils->nsetools) (2023.4)\n",
            "Installing collected packages: dateutils, nsetools\n",
            "Successfully installed dateutils-0.6.12 nsetools-1.0.11\n"
          ]
        }
      ]
    },
    {
      "cell_type": "code",
      "execution_count": 5,
      "metadata": {
        "id": "mQAq4SDsm29u"
      },
      "outputs": [],
      "source": [
        "import pandas as pd\n",
        "from nsetools import Nse\n",
        "from datetime import date, timedelta\n",
        "import plotly.graph_objects as go\n",
        "\n",
        "# Define list of securities and benchmark\n",
        "sectors = [\"ITBEES\", \"PSUBNKBEES\", \"CONSUMBEES\", \"INFRABEES\", \"HNGSNGBEES\",\n",
        "           \"AUTOBEES\", \"GILT5YBEES\", \"LTGILTBEES\", \"BANKBEES\", \"LIQUIDBEES\",\n",
        "           \"PHARMABEES\", \"GOLDBEES\", \"SILVERBEES\"]\n",
        "\n",
        "benchmark = \"NIFTYBEES\""
      ]
    }
  ],
  "metadata": {
    "interpreter": {
      "hash": "5a5151b5857e62a6d4a59d2463f938917e341cfa18ad008385d2f09a52f8885c"
    },
    "kernelspec": {
      "display_name": "Python 3 (ipykernel)",
      "language": "python",
      "name": "python3"
    },
    "language_info": {
      "codemirror_mode": {
        "name": "ipython",
        "version": 3
      },
      "file_extension": ".py",
      "mimetype": "text/x-python",
      "name": "python",
      "nbconvert_exporter": "python",
      "pygments_lexer": "ipython3",
      "version": "3.9.7"
    },
    "colab": {
      "provenance": []
    }
  },
  "nbformat": 4,
  "nbformat_minor": 0
}