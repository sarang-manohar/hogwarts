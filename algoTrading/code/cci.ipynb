{
 "cells": [
  {
   "cell_type": "code",
   "execution_count": 147,
   "metadata": {},
   "outputs": [
    {
     "ename": "AttributeError",
     "evalue": "'NoneType' object has no attribute 'find'",
     "output_type": "error",
     "traceback": [
      "\u001b[1;31m---------------------------------------------------------------------------\u001b[0m",
      "\u001b[1;31mAttributeError\u001b[0m                            Traceback (most recent call last)",
      "Cell \u001b[1;32mIn[147], line 32\u001b[0m\n\u001b[0;32m     27\u001b[0m table \u001b[39m=\u001b[39m soup\u001b[39m.\u001b[39mfind(\u001b[39m'\u001b[39m\u001b[39mtable\u001b[39m\u001b[39m'\u001b[39m, {\u001b[39m'\u001b[39m\u001b[39mclass\u001b[39m\u001b[39m'\u001b[39m: \u001b[39m'\u001b[39m\u001b[39mdata-table responsive-text-nowrap\u001b[39m\u001b[39m'\u001b[39m})\n\u001b[0;32m     29\u001b[0m \u001b[39m#headers = table.find_all('th')\u001b[39;00m\n\u001b[0;32m     30\u001b[0m \u001b[39m#header_texts = [header.text.replace('\\n','').strip() for header in headers]\u001b[39;00m\n\u001b[1;32m---> 32\u001b[0m tbody \u001b[39m=\u001b[39m table\u001b[39m.\u001b[39;49mfind(\u001b[39m'\u001b[39m\u001b[39mtbody\u001b[39m\u001b[39m'\u001b[39m)\n\u001b[0;32m     33\u001b[0m rows \u001b[39m=\u001b[39m tbody\u001b[39m.\u001b[39mfind_all(\u001b[39m'\u001b[39m\u001b[39mtr\u001b[39m\u001b[39m'\u001b[39m)\n\u001b[0;32m     34\u001b[0m cell_text\u001b[39m=\u001b[39m[cell\u001b[39m.\u001b[39mtext\u001b[39m.\u001b[39mreplace(\u001b[39m'\u001b[39m\u001b[39m\\n\u001b[39;00m\u001b[39m'\u001b[39m,\u001b[39m'\u001b[39m\u001b[39m'\u001b[39m)\u001b[39m.\u001b[39mreplace(\u001b[39m'\u001b[39m\u001b[39m,\u001b[39m\u001b[39m'\u001b[39m,\u001b[39m'\u001b[39m\u001b[39m'\u001b[39m)\u001b[39m.\u001b[39mstrip() \u001b[39mfor\u001b[39;00m cell \u001b[39min\u001b[39;00m rows[\u001b[39m0\u001b[39m]\u001b[39m.\u001b[39mfind_all(\u001b[39m'\u001b[39m\u001b[39mtd\u001b[39m\u001b[39m'\u001b[39m)]\n",
      "\u001b[1;31mAttributeError\u001b[0m: 'NoneType' object has no attribute 'find'"
     ]
    }
   ],
   "source": [
    "import requests\n",
    "from bs4 import BeautifulSoup\n",
    "import pandas as pd\n",
    "\n",
    "all_stocks = pd.read_csv(r'..\\data\\raw_data.csv')\n",
    "#all_stocks = all_stocks[all_stocks[' SERIES']=='EQ']\n",
    "#all_stocks = all_stocks[all_stocks[' DATE OF LISTING']<'01/01/2018']\n",
    "\n",
    "symbol=[]\n",
    "years_of_ops = []\n",
    "yoy_sales_growth_flag = []\n",
    "\n",
    "\n",
    "for x, scrip_name in enumerate(all_stocks['Ticker']):\n",
    "    url = \"https://www.screener.in/company/\"+scrip_name+\"/#profit-loss\"\n",
    "    \n",
    "    response = requests.get(url)\n",
    "    soup = BeautifulSoup(response.text, 'html.parser')\n",
    "    \n",
    "    # Find the profit-loss section on the page\n",
    "    section = soup.find('section', {'id': 'profit-loss'})\n",
    "    \n",
    "    # Find div within section\n",
    "    #div = soup.find('div', {'class':'responsive-holder hidden'})\n",
    "\n",
    "    # Find the table on the page\n",
    "    table = soup.find('table', {'class': 'data-table responsive-text-nowrap'})\n",
    "    \n",
    "    #headers = table.find_all('th')\n",
    "    #header_texts = [header.text.replace('\\n','').strip() for header in headers]\n",
    "    \n",
    "    tbody = table.find('tbody')\n",
    "    rows = tbody.find_all('tr')\n",
    "    cell_text=[cell.text.replace('\\n','').replace(',','').strip() for cell in rows[0].find_all('td')]\n",
    "\n",
    "    scrip_data = pd.DataFrame()\n",
    "    #scrip_data['Year'] = header_texts[1:-1]\n",
    "    scrip_data['Sales'] = cell_text[1:-1]\n",
    "    scrip_data['Sales'] = scrip_data['Sales'].astype(float)\n",
    "    \n",
    "    temp_list = [0]\n",
    "    for x in range(0,scrip_data.shape[0]-1):\n",
    "        temp = (scrip_data.Sales[x+1] - scrip_data.Sales[x]) / scrip_data.Sales[x]\n",
    "        temp_list.append(temp)\n",
    "    \n",
    "    scrip_data['YoY_Sales_Growth'] = temp_list\n",
    "    \n",
    "    temp_list = []\n",
    "    for x in range(0,scrip_data.shape[0]):\n",
    "        if scrip_data.YoY_Sales_Growth[x] >= 0.1:\n",
    "            temp = 1\n",
    "        else:\n",
    "            temp = 0\n",
    "        temp_list.append(temp)\n",
    "    \n",
    "    scrip_data['YoY_Sales_Growth_flag'] = temp_list\n",
    "\n",
    "    symbol.append(scrip_name)\n",
    "    years_of_ops.append(scrip_data.shape[0])\n",
    "    yoy_sales_growth_flag.append(scrip_data['YoY_Sales_Growth_flag'].sum())\n",
    "    \n",
    "\n",
    "screener = pd.DataFrame({'symbol':symbol, 'years_of_ops':years_of_ops,'yoy_sales_growth_flag':yoy_sales_growth_flag})"
   ]
  },
  {
   "cell_type": "code",
   "execution_count": 148,
   "metadata": {},
   "outputs": [
    {
     "data": {
      "text/plain": [
       "'https://www.screener.in/company/ESCORTS/#profit-loss'"
      ]
     },
     "execution_count": 148,
     "metadata": {},
     "output_type": "execute_result"
    }
   ],
   "source": [
    "url"
   ]
  },
  {
   "cell_type": "code",
   "execution_count": null,
   "metadata": {},
   "outputs": [
    {
     "ename": "NameError",
     "evalue": "name 'screener' is not defined",
     "output_type": "error",
     "traceback": [
      "\u001b[1;31m---------------------------------------------------------------------------\u001b[0m",
      "\u001b[1;31mNameError\u001b[0m                                 Traceback (most recent call last)",
      "Cell \u001b[1;32mIn[142], line 1\u001b[0m\n\u001b[1;32m----> 1\u001b[0m screener\n",
      "\u001b[1;31mNameError\u001b[0m: name 'screener' is not defined"
     ]
    }
   ],
   "source": [
    "screener"
   ]
  },
  {
   "cell_type": "code",
   "execution_count": null,
   "metadata": {},
   "outputs": [
    {
     "data": {
      "text/plain": [
       "['Revenue',\n",
       " '9361',\n",
       " '12231',\n",
       " '13897',\n",
       " '15249',\n",
       " '15853',\n",
       " '16244',\n",
       " '16040',\n",
       " '17114',\n",
       " '19185',\n",
       " '21405',\n",
       " '39106',\n",
       " '38856',\n",
       " '42530']"
      ]
     },
     "execution_count": 137,
     "metadata": {},
     "output_type": "execute_result"
    }
   ],
   "source": [
    "cell_text"
   ]
  },
  {
   "cell_type": "markdown",
   "metadata": {},
   "source": []
  }
 ],
 "metadata": {
  "kernelspec": {
   "display_name": "Python 3.11.1 64-bit",
   "language": "python",
   "name": "python3"
  },
  "language_info": {
   "codemirror_mode": {
    "name": "ipython",
    "version": 3
   },
   "file_extension": ".py",
   "mimetype": "text/x-python",
   "name": "python",
   "nbconvert_exporter": "python",
   "pygments_lexer": "ipython3",
   "version": "3.10.6"
  },
  "orig_nbformat": 4,
  "vscode": {
   "interpreter": {
    "hash": "d1d93f31072b160a6739d80e58e4b4e8e76314a8acb531063b73218f3d532d25"
   }
  }
 },
 "nbformat": 4,
 "nbformat_minor": 2
}
