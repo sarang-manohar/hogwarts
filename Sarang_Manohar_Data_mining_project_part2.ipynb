{
  "nbformat": 4,
  "nbformat_minor": 0,
  "metadata": {
    "colab": {
      "name": "Untitled1.ipynb",
      "provenance": [],
      "authorship_tag": "ABX9TyOkwhCGZI/lVItxIY8crhff",
      "include_colab_link": true
    },
    "kernelspec": {
      "name": "python3",
      "display_name": "Python 3"
    },
    "language_info": {
      "name": "python"
    }
  },
  "cells": [
    {
      "cell_type": "markdown",
      "metadata": {
        "id": "view-in-github",
        "colab_type": "text"
      },
      "source": [
        "<a href=\"https://colab.research.google.com/github/sarang-manohar/hogwarts/blob/main/Sarang_Manohar_Data_mining_project_part2.ipynb\" target=\"_parent\"><img src=\"https://colab.research.google.com/assets/colab-badge.svg\" alt=\"Open In Colab\"/></a>"
      ]
    },
    {
      "cell_type": "markdown",
      "metadata": {
        "id": "yoXmZX4oPNcF"
      },
      "source": [
        "# Import libraries"
      ]
    },
    {
      "cell_type": "code",
      "metadata": {
        "id": "5ok02UFiO1hE"
      },
      "source": [
        "import numpy as np\n",
        "import pandas as pd\n",
        "import matplotlib.pyplot as plt\n",
        "import seaborn as sns\n",
        "\n",
        "from sklearn.model_selection import train_test_split, GridSearchCV\n",
        "\n",
        "from sklearn.tree import DecisionTreeClassifier\n",
        "from sklearn.ensemble import RandomForestClassifier\n",
        "from sklearn.neural_network import MLPClassifier\n",
        "\n",
        "from sklearn.preprocessing import StandardScaler\n",
        "\n",
        "from sklearn.metrics import roc_auc_score, roc_curve, classification_report, confusion_matrix\n",
        "\n",
        "import warnings\n",
        "warnings.filterwarnings('ignore')"
      ],
      "execution_count": null,
      "outputs": []
    },
    {
      "cell_type": "code",
      "metadata": {
        "colab": {
          "base_uri": "https://localhost:8080/",
          "height": 195
        },
        "id": "qJzGw2T6PLGe",
        "outputId": "0ea5836f-8bbb-4b4d-e5bf-669108e6c510"
      },
      "source": [
        "raw_data = pd.read_csv(r'insurance_part2_data.csv')\n",
        "raw_data.head()"
      ],
      "execution_count": null,
      "outputs": [
        {
          "output_type": "execute_result",
          "data": {
            "text/html": [
              "<div>\n",
              "<style scoped>\n",
              "    .dataframe tbody tr th:only-of-type {\n",
              "        vertical-align: middle;\n",
              "    }\n",
              "\n",
              "    .dataframe tbody tr th {\n",
              "        vertical-align: top;\n",
              "    }\n",
              "\n",
              "    .dataframe thead th {\n",
              "        text-align: right;\n",
              "    }\n",
              "</style>\n",
              "<table border=\"1\" class=\"dataframe\">\n",
              "  <thead>\n",
              "    <tr style=\"text-align: right;\">\n",
              "      <th></th>\n",
              "      <th>Age</th>\n",
              "      <th>Agency_Code</th>\n",
              "      <th>Type</th>\n",
              "      <th>Claimed</th>\n",
              "      <th>Commision</th>\n",
              "      <th>Channel</th>\n",
              "      <th>Duration</th>\n",
              "      <th>Sales</th>\n",
              "      <th>Product Name</th>\n",
              "      <th>Destination</th>\n",
              "    </tr>\n",
              "  </thead>\n",
              "  <tbody>\n",
              "    <tr>\n",
              "      <th>0</th>\n",
              "      <td>48</td>\n",
              "      <td>C2B</td>\n",
              "      <td>Airlines</td>\n",
              "      <td>No</td>\n",
              "      <td>0.70</td>\n",
              "      <td>Online</td>\n",
              "      <td>7</td>\n",
              "      <td>2.51</td>\n",
              "      <td>Customised Plan</td>\n",
              "      <td>ASIA</td>\n",
              "    </tr>\n",
              "    <tr>\n",
              "      <th>1</th>\n",
              "      <td>36</td>\n",
              "      <td>EPX</td>\n",
              "      <td>Travel Agency</td>\n",
              "      <td>No</td>\n",
              "      <td>0.00</td>\n",
              "      <td>Online</td>\n",
              "      <td>34</td>\n",
              "      <td>20.00</td>\n",
              "      <td>Customised Plan</td>\n",
              "      <td>ASIA</td>\n",
              "    </tr>\n",
              "    <tr>\n",
              "      <th>2</th>\n",
              "      <td>39</td>\n",
              "      <td>CWT</td>\n",
              "      <td>Travel Agency</td>\n",
              "      <td>No</td>\n",
              "      <td>5.94</td>\n",
              "      <td>Online</td>\n",
              "      <td>3</td>\n",
              "      <td>9.90</td>\n",
              "      <td>Customised Plan</td>\n",
              "      <td>Americas</td>\n",
              "    </tr>\n",
              "    <tr>\n",
              "      <th>3</th>\n",
              "      <td>36</td>\n",
              "      <td>EPX</td>\n",
              "      <td>Travel Agency</td>\n",
              "      <td>No</td>\n",
              "      <td>0.00</td>\n",
              "      <td>Online</td>\n",
              "      <td>4</td>\n",
              "      <td>26.00</td>\n",
              "      <td>Cancellation Plan</td>\n",
              "      <td>ASIA</td>\n",
              "    </tr>\n",
              "    <tr>\n",
              "      <th>4</th>\n",
              "      <td>33</td>\n",
              "      <td>JZI</td>\n",
              "      <td>Airlines</td>\n",
              "      <td>No</td>\n",
              "      <td>6.30</td>\n",
              "      <td>Online</td>\n",
              "      <td>53</td>\n",
              "      <td>18.00</td>\n",
              "      <td>Bronze Plan</td>\n",
              "      <td>ASIA</td>\n",
              "    </tr>\n",
              "  </tbody>\n",
              "</table>\n",
              "</div>"
            ],
            "text/plain": [
              "   Age Agency_Code           Type  ...  Sales       Product Name Destination\n",
              "0   48         C2B       Airlines  ...   2.51    Customised Plan        ASIA\n",
              "1   36         EPX  Travel Agency  ...  20.00    Customised Plan        ASIA\n",
              "2   39         CWT  Travel Agency  ...   9.90    Customised Plan    Americas\n",
              "3   36         EPX  Travel Agency  ...  26.00  Cancellation Plan        ASIA\n",
              "4   33         JZI       Airlines  ...  18.00        Bronze Plan        ASIA\n",
              "\n",
              "[5 rows x 10 columns]"
            ]
          },
          "metadata": {
            "tags": []
          },
          "execution_count": 3
        }
      ]
    },
    {
      "cell_type": "code",
      "metadata": {
        "colab": {
          "base_uri": "https://localhost:8080/"
        },
        "id": "57P8PB9KQKHs",
        "outputId": "4ed5fd4f-ef04-4059-9a16-10bd8c3a7bc1"
      },
      "source": [
        "raw_data.isnull().sum()"
      ],
      "execution_count": null,
      "outputs": [
        {
          "output_type": "execute_result",
          "data": {
            "text/plain": [
              "Age             0\n",
              "Agency_Code     0\n",
              "Type            0\n",
              "Claimed         0\n",
              "Commision       0\n",
              "Channel         0\n",
              "Duration        0\n",
              "Sales           0\n",
              "Product Name    0\n",
              "Destination     0\n",
              "dtype: int64"
            ]
          },
          "metadata": {
            "tags": []
          },
          "execution_count": 4
        }
      ]
    },
    {
      "cell_type": "code",
      "metadata": {
        "colab": {
          "base_uri": "https://localhost:8080/"
        },
        "id": "OKwLmxRvQvtk",
        "outputId": "e0c8a62e-0ac6-4c8f-d025-1cfb3f436ae5"
      },
      "source": [
        "raw_data.info()"
      ],
      "execution_count": null,
      "outputs": [
        {
          "output_type": "stream",
          "text": [
            "<class 'pandas.core.frame.DataFrame'>\n",
            "RangeIndex: 3000 entries, 0 to 2999\n",
            "Data columns (total 10 columns):\n",
            " #   Column        Non-Null Count  Dtype  \n",
            "---  ------        --------------  -----  \n",
            " 0   Age           3000 non-null   int64  \n",
            " 1   Agency_Code   3000 non-null   object \n",
            " 2   Type          3000 non-null   object \n",
            " 3   Claimed       3000 non-null   object \n",
            " 4   Commision     3000 non-null   float64\n",
            " 5   Channel       3000 non-null   object \n",
            " 6   Duration      3000 non-null   int64  \n",
            " 7   Sales         3000 non-null   float64\n",
            " 8   Product Name  3000 non-null   object \n",
            " 9   Destination   3000 non-null   object \n",
            "dtypes: float64(2), int64(2), object(6)\n",
            "memory usage: 234.5+ KB\n"
          ],
          "name": "stdout"
        }
      ]
    },
    {
      "cell_type": "code",
      "metadata": {
        "colab": {
          "base_uri": "https://localhost:8080/"
        },
        "id": "Zb18X51XQzhG",
        "outputId": "471cf560-dc07-4bd0-8edb-1770ff5a2b3e"
      },
      "source": [
        "raw_data.columns"
      ],
      "execution_count": null,
      "outputs": [
        {
          "output_type": "execute_result",
          "data": {
            "text/plain": [
              "Index(['Age', 'Agency_Code', 'Type', 'Claimed', 'Commision', 'Channel',\n",
              "       'Duration', 'Sales', 'Product Name', 'Destination'],\n",
              "      dtype='object')"
            ]
          },
          "metadata": {
            "tags": []
          },
          "execution_count": 6
        }
      ]
    },
    {
      "cell_type": "code",
      "metadata": {
        "colab": {
          "base_uri": "https://localhost:8080/"
        },
        "id": "BRDPZh9QRRJr",
        "outputId": "2fd76f56-5113-4ebf-e073-1d96d78352ab"
      },
      "source": [
        "for x in ['Age', 'Agency_Code', 'Type', 'Claimed', 'Commision', 'Channel','Duration', 'Sales', 'Product Name', 'Destination']:\n",
        "    print(x.upper())\n",
        "    print(raw_data[x].value_counts())\n",
        "    print('\\n')"
      ],
      "execution_count": null,
      "outputs": [
        {
          "output_type": "stream",
          "text": [
            "AGE\n",
            "36    999\n",
            "31    125\n",
            "48    108\n",
            "30     96\n",
            "35     94\n",
            "     ... \n",
            "11      1\n",
            "84      1\n",
            "15      1\n",
            "77      1\n",
            "8       1\n",
            "Name: Age, Length: 70, dtype: int64\n",
            "\n",
            "\n",
            "AGENCY_CODE\n",
            "EPX    1365\n",
            "C2B     924\n",
            "CWT     472\n",
            "JZI     239\n",
            "Name: Agency_Code, dtype: int64\n",
            "\n",
            "\n",
            "TYPE\n",
            "Travel Agency    1837\n",
            "Airlines         1163\n",
            "Name: Type, dtype: int64\n",
            "\n",
            "\n",
            "CLAIMED\n",
            "No     2076\n",
            "Yes     924\n",
            "Name: Claimed, dtype: int64\n",
            "\n",
            "\n",
            "COMMISION\n",
            "0.00     1366\n",
            "63.21      62\n",
            "54.00      61\n",
            "23.76      61\n",
            "7.70       57\n",
            "         ... \n",
            "67.75       1\n",
            "17.29       1\n",
            "18.13       1\n",
            "49.40       1\n",
            "0.18        1\n",
            "Name: Commision, Length: 324, dtype: int64\n",
            "\n",
            "\n",
            "CHANNEL\n",
            "Online     2954\n",
            "Offline      46\n",
            "Name: Channel, dtype: int64\n",
            "\n",
            "\n",
            "DURATION\n",
            " 8       83\n",
            " 5       82\n",
            " 6       81\n",
            " 10      81\n",
            " 11      81\n",
            "         ..\n",
            " 466      1\n",
            " 421      1\n",
            "-1        1\n",
            " 119      1\n",
            " 4580     1\n",
            "Name: Duration, Length: 257, dtype: int64\n",
            "\n",
            "\n",
            "SALES\n",
            "20.00     225\n",
            "10.00     163\n",
            "22.00      79\n",
            "252.85     60\n",
            "216.00     59\n",
            "         ... \n",
            "199.00      1\n",
            "177.00      1\n",
            "171.00      1\n",
            "206.60      1\n",
            "271.00      1\n",
            "Name: Sales, Length: 380, dtype: int64\n",
            "\n",
            "\n",
            "PRODUCT NAME\n",
            "Customised Plan      1136\n",
            "Cancellation Plan     678\n",
            "Bronze Plan           650\n",
            "Silver Plan           427\n",
            "Gold Plan             109\n",
            "Name: Product Name, dtype: int64\n",
            "\n",
            "\n",
            "DESTINATION\n",
            "ASIA        2465\n",
            "Americas     320\n",
            "EUROPE       215\n",
            "Name: Destination, dtype: int64\n",
            "\n",
            "\n"
          ],
          "name": "stdout"
        }
      ]
    },
    {
      "cell_type": "code",
      "metadata": {
        "colab": {
          "base_uri": "https://localhost:8080/"
        },
        "id": "KYimmc-tRjWt",
        "outputId": "79fabe77-4d66-4ae2-e17f-be1687752beb"
      },
      "source": [
        "raw_data[raw_data.Claimed=='Yes'].duplicated().sum()"
      ],
      "execution_count": null,
      "outputs": [
        {
          "output_type": "execute_result",
          "data": {
            "text/plain": [
              "10"
            ]
          },
          "metadata": {
            "tags": []
          },
          "execution_count": 26
        }
      ]
    },
    {
      "cell_type": "code",
      "metadata": {
        "id": "RskLeWshTeiZ"
      },
      "source": [
        ""
      ],
      "execution_count": null,
      "outputs": []
    }
  ]
}