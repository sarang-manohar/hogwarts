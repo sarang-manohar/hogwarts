{
 "cells": [
  {
   "cell_type": "code",
   "execution_count": 48,
   "id": "55a39db2-7389-444a-a894-be9ff9cc343e",
   "metadata": {},
   "outputs": [],
   "source": [
    "import numpy as np\n",
    "import pandas as pd\n",
    "import matplotlib.pyplot as plt\n",
    "import seaborn as sns\n",
    "\n",
    "from sklearn.model_selection import train_test_split, GridSearchCV\n",
    "\n",
    "from sklearn.tree import DecisionTreeClassifier\n",
    "from sklearn.ensemble import RandomForestClassifier\n",
    "from sklearn.neural_network import MLPClassifier\n",
    "\n",
    "from sklearn.preprocessing import StandardScaler\n",
    "\n",
    "from sklearn.metrics import roc_auc_score, roc_curve, classification_report, confusion_matrix\n",
    "\n",
    "import warnings\n",
    "warnings.filterwarnings('ignore')"
   ]
  },
  {
   "cell_type": "code",
   "execution_count": 2,
   "id": "8018fa01-7bef-454b-abf6-6be090bb3316",
   "metadata": {},
   "outputs": [
    {
     "data": {
      "text/html": [
       "<div>\n",
       "<style scoped>\n",
       "    .dataframe tbody tr th:only-of-type {\n",
       "        vertical-align: middle;\n",
       "    }\n",
       "\n",
       "    .dataframe tbody tr th {\n",
       "        vertical-align: top;\n",
       "    }\n",
       "\n",
       "    .dataframe thead th {\n",
       "        text-align: right;\n",
       "    }\n",
       "</style>\n",
       "<table border=\"1\" class=\"dataframe\">\n",
       "  <thead>\n",
       "    <tr style=\"text-align: right;\">\n",
       "      <th></th>\n",
       "      <th>Age</th>\n",
       "      <th>Attrition</th>\n",
       "      <th>DailyRate</th>\n",
       "      <th>DistanceFromHome</th>\n",
       "      <th>Education</th>\n",
       "      <th>EmployeeCount</th>\n",
       "      <th>EmployeeNumber</th>\n",
       "      <th>EnvironmentSatisfaction</th>\n",
       "      <th>HourlyRate</th>\n",
       "      <th>JobInvolvement</th>\n",
       "      <th>...</th>\n",
       "      <th>RelationshipSatisfaction</th>\n",
       "      <th>StandardHours</th>\n",
       "      <th>StockOptionLevel</th>\n",
       "      <th>TotalWorkingYears</th>\n",
       "      <th>TrainingTimesLastYear</th>\n",
       "      <th>WorkLifeBalance</th>\n",
       "      <th>YearsAtCompany</th>\n",
       "      <th>YearsInCurrentRole</th>\n",
       "      <th>YearsSinceLastPromotion</th>\n",
       "      <th>YearsWithCurrManager</th>\n",
       "    </tr>\n",
       "  </thead>\n",
       "  <tbody>\n",
       "    <tr>\n",
       "      <th>0</th>\n",
       "      <td>41</td>\n",
       "      <td>1</td>\n",
       "      <td>1102</td>\n",
       "      <td>1</td>\n",
       "      <td>2</td>\n",
       "      <td>1</td>\n",
       "      <td>1</td>\n",
       "      <td>2</td>\n",
       "      <td>94</td>\n",
       "      <td>3</td>\n",
       "      <td>...</td>\n",
       "      <td>1</td>\n",
       "      <td>80</td>\n",
       "      <td>0</td>\n",
       "      <td>8</td>\n",
       "      <td>0</td>\n",
       "      <td>1</td>\n",
       "      <td>6</td>\n",
       "      <td>4</td>\n",
       "      <td>0</td>\n",
       "      <td>5</td>\n",
       "    </tr>\n",
       "    <tr>\n",
       "      <th>1</th>\n",
       "      <td>49</td>\n",
       "      <td>0</td>\n",
       "      <td>279</td>\n",
       "      <td>8</td>\n",
       "      <td>1</td>\n",
       "      <td>1</td>\n",
       "      <td>2</td>\n",
       "      <td>3</td>\n",
       "      <td>61</td>\n",
       "      <td>2</td>\n",
       "      <td>...</td>\n",
       "      <td>4</td>\n",
       "      <td>80</td>\n",
       "      <td>1</td>\n",
       "      <td>10</td>\n",
       "      <td>3</td>\n",
       "      <td>3</td>\n",
       "      <td>10</td>\n",
       "      <td>7</td>\n",
       "      <td>1</td>\n",
       "      <td>7</td>\n",
       "    </tr>\n",
       "    <tr>\n",
       "      <th>2</th>\n",
       "      <td>37</td>\n",
       "      <td>1</td>\n",
       "      <td>1373</td>\n",
       "      <td>2</td>\n",
       "      <td>2</td>\n",
       "      <td>1</td>\n",
       "      <td>3</td>\n",
       "      <td>4</td>\n",
       "      <td>92</td>\n",
       "      <td>2</td>\n",
       "      <td>...</td>\n",
       "      <td>2</td>\n",
       "      <td>80</td>\n",
       "      <td>0</td>\n",
       "      <td>7</td>\n",
       "      <td>3</td>\n",
       "      <td>3</td>\n",
       "      <td>0</td>\n",
       "      <td>0</td>\n",
       "      <td>0</td>\n",
       "      <td>0</td>\n",
       "    </tr>\n",
       "    <tr>\n",
       "      <th>3</th>\n",
       "      <td>33</td>\n",
       "      <td>0</td>\n",
       "      <td>1392</td>\n",
       "      <td>3</td>\n",
       "      <td>4</td>\n",
       "      <td>1</td>\n",
       "      <td>4</td>\n",
       "      <td>4</td>\n",
       "      <td>56</td>\n",
       "      <td>3</td>\n",
       "      <td>...</td>\n",
       "      <td>3</td>\n",
       "      <td>80</td>\n",
       "      <td>0</td>\n",
       "      <td>8</td>\n",
       "      <td>3</td>\n",
       "      <td>3</td>\n",
       "      <td>8</td>\n",
       "      <td>7</td>\n",
       "      <td>3</td>\n",
       "      <td>0</td>\n",
       "    </tr>\n",
       "    <tr>\n",
       "      <th>4</th>\n",
       "      <td>27</td>\n",
       "      <td>0</td>\n",
       "      <td>591</td>\n",
       "      <td>2</td>\n",
       "      <td>1</td>\n",
       "      <td>1</td>\n",
       "      <td>5</td>\n",
       "      <td>1</td>\n",
       "      <td>40</td>\n",
       "      <td>3</td>\n",
       "      <td>...</td>\n",
       "      <td>4</td>\n",
       "      <td>80</td>\n",
       "      <td>1</td>\n",
       "      <td>6</td>\n",
       "      <td>3</td>\n",
       "      <td>3</td>\n",
       "      <td>2</td>\n",
       "      <td>2</td>\n",
       "      <td>2</td>\n",
       "      <td>2</td>\n",
       "    </tr>\n",
       "  </tbody>\n",
       "</table>\n",
       "<p>5 rows × 27 columns</p>\n",
       "</div>"
      ],
      "text/plain": [
       "   Age  Attrition  DailyRate  DistanceFromHome  Education  EmployeeCount  \\\n",
       "0   41          1       1102                 1          2              1   \n",
       "1   49          0        279                 8          1              1   \n",
       "2   37          1       1373                 2          2              1   \n",
       "3   33          0       1392                 3          4              1   \n",
       "4   27          0        591                 2          1              1   \n",
       "\n",
       "   EmployeeNumber  EnvironmentSatisfaction  HourlyRate  JobInvolvement  ...  \\\n",
       "0               1                        2          94               3  ...   \n",
       "1               2                        3          61               2  ...   \n",
       "2               3                        4          92               2  ...   \n",
       "3               4                        4          56               3  ...   \n",
       "4               5                        1          40               3  ...   \n",
       "\n",
       "   RelationshipSatisfaction  StandardHours  StockOptionLevel  \\\n",
       "0                         1             80                 0   \n",
       "1                         4             80                 1   \n",
       "2                         2             80                 0   \n",
       "3                         3             80                 0   \n",
       "4                         4             80                 1   \n",
       "\n",
       "   TotalWorkingYears  TrainingTimesLastYear  WorkLifeBalance  YearsAtCompany  \\\n",
       "0                  8                      0                1               6   \n",
       "1                 10                      3                3              10   \n",
       "2                  7                      3                3               0   \n",
       "3                  8                      3                3               8   \n",
       "4                  6                      3                3               2   \n",
       "\n",
       "   YearsInCurrentRole  YearsSinceLastPromotion  YearsWithCurrManager  \n",
       "0                   4                        0                     5  \n",
       "1                   7                        1                     7  \n",
       "2                   0                        0                     0  \n",
       "3                   7                        3                     0  \n",
       "4                   2                        2                     2  \n",
       "\n",
       "[5 rows x 27 columns]"
      ]
     },
     "execution_count": 2,
     "metadata": {},
     "output_type": "execute_result"
    }
   ],
   "source": [
    "raw_data = pd.read_csv(r'C:\\Users\\saran\\Desktop\\up-skill\\PGP - DSBA\\Data Mining\\HR_Employee_Attrition_Data.csv')\n",
    "raw_data.head()"
   ]
  },
  {
   "cell_type": "code",
   "execution_count": 3,
   "id": "ac5238e0-4e0a-4b6e-b90c-2cbf006e8ed1",
   "metadata": {},
   "outputs": [
    {
     "name": "stdout",
     "output_type": "stream",
     "text": [
      "<class 'pandas.core.frame.DataFrame'>\n",
      "RangeIndex: 2940 entries, 0 to 2939\n",
      "Data columns (total 27 columns):\n",
      " #   Column                    Non-Null Count  Dtype\n",
      "---  ------                    --------------  -----\n",
      " 0   Age                       2940 non-null   int64\n",
      " 1   Attrition                 2940 non-null   int64\n",
      " 2   DailyRate                 2940 non-null   int64\n",
      " 3   DistanceFromHome          2940 non-null   int64\n",
      " 4   Education                 2940 non-null   int64\n",
      " 5   EmployeeCount             2940 non-null   int64\n",
      " 6   EmployeeNumber            2940 non-null   int64\n",
      " 7   EnvironmentSatisfaction   2940 non-null   int64\n",
      " 8   HourlyRate                2940 non-null   int64\n",
      " 9   JobInvolvement            2940 non-null   int64\n",
      " 10  JobLevel                  2940 non-null   int64\n",
      " 11  JobSatisfaction           2940 non-null   int64\n",
      " 12  MonthlyIncome             2940 non-null   int64\n",
      " 13  MonthlyRate               2940 non-null   int64\n",
      " 14  NumCompaniesWorked        2940 non-null   int64\n",
      " 15  PercentSalaryHike         2940 non-null   int64\n",
      " 16  PerformanceRating         2940 non-null   int64\n",
      " 17  RelationshipSatisfaction  2940 non-null   int64\n",
      " 18  StandardHours             2940 non-null   int64\n",
      " 19  StockOptionLevel          2940 non-null   int64\n",
      " 20  TotalWorkingYears         2940 non-null   int64\n",
      " 21  TrainingTimesLastYear     2940 non-null   int64\n",
      " 22  WorkLifeBalance           2940 non-null   int64\n",
      " 23  YearsAtCompany            2940 non-null   int64\n",
      " 24  YearsInCurrentRole        2940 non-null   int64\n",
      " 25  YearsSinceLastPromotion   2940 non-null   int64\n",
      " 26  YearsWithCurrManager      2940 non-null   int64\n",
      "dtypes: int64(27)\n",
      "memory usage: 620.3 KB\n"
     ]
    }
   ],
   "source": [
    "raw_data.info()"
   ]
  },
  {
   "cell_type": "code",
   "execution_count": 4,
   "id": "6d75fa6b-6631-4f7b-a8d9-0cd461adc829",
   "metadata": {},
   "outputs": [],
   "source": [
    "raw_data = raw_data.drop(['EmployeeCount','EmployeeNumber'], axis=1)"
   ]
  },
  {
   "cell_type": "code",
   "execution_count": 5,
   "id": "26430b62-0e83-4eb2-8707-d4ce44e452fc",
   "metadata": {},
   "outputs": [
    {
     "data": {
      "text/plain": [
       "(2940, 25)"
      ]
     },
     "execution_count": 5,
     "metadata": {},
     "output_type": "execute_result"
    }
   ],
   "source": [
    "raw_data.shape"
   ]
  },
  {
   "cell_type": "code",
   "execution_count": 6,
   "id": "5c596eda-2164-4a25-83ff-fabe7aea668e",
   "metadata": {},
   "outputs": [],
   "source": [
    "X = raw_data.drop(['Attrition'], axis=1)\n",
    "y = raw_data.pop('Attrition')"
   ]
  },
  {
   "cell_type": "code",
   "execution_count": 7,
   "id": "29a31ffa-7d93-4fc0-9411-25b02b5300f1",
   "metadata": {},
   "outputs": [],
   "source": [
    "X_train, X_test, train_labels, test_labels = train_test_split(X,y,test_size=0.3, random_state=1)"
   ]
  },
  {
   "cell_type": "code",
   "execution_count": 8,
   "id": "d7230a55-8b55-4b35-b5a5-f643e7bb641f",
   "metadata": {},
   "outputs": [],
   "source": [
    "dt = DecisionTreeClassifier(criterion='gini')"
   ]
  },
  {
   "cell_type": "code",
   "execution_count": 9,
   "id": "f9cf9115-90b9-40d5-bb9f-c327c7527871",
   "metadata": {},
   "outputs": [
    {
     "data": {
      "text/plain": [
       "DecisionTreeClassifier()"
      ]
     },
     "execution_count": 9,
     "metadata": {},
     "output_type": "execute_result"
    }
   ],
   "source": [
    "dt.fit(X_train, train_labels)"
   ]
  },
  {
   "cell_type": "code",
   "execution_count": 10,
   "id": "66454820-5f08-4c9f-9822-b51df824c42b",
   "metadata": {},
   "outputs": [],
   "source": [
    "from sklearn import tree"
   ]
  },
  {
   "cell_type": "code",
   "execution_count": 11,
   "id": "4fe93856-26d7-45cd-8780-9e070ffe3eae",
   "metadata": {},
   "outputs": [],
   "source": [
    "train_char_labels = ['No','Yes']\n",
    "\n",
    "tree_graph = open(r'./hr_attrition_dt.dot','w')\n",
    "\n",
    "dot_data = tree.export_graphviz(dt, out_file = tree_graph, feature_names = list(X_train), class_names = train_char_labels)\n",
    "\n",
    "tree_graph.close()"
   ]
  },
  {
   "cell_type": "code",
   "execution_count": 12,
   "id": "bbc983d2-593f-4935-8509-337a7b85d127",
   "metadata": {},
   "outputs": [
    {
     "data": {
      "image/png": "[encoded data removed]",
      "text/plain": [
       "<Figure size 432x288 with 1 Axes>"
      ]
     },
     "metadata": {
      "needs_background": "light"
     },
     "output_type": "display_data"
    },
    {
     "data": {
      "image/png": "[encoded data removed]",
      "text/plain": [
       "<Figure size 432x288 with 1 Axes>"
      ]
     },
     "metadata": {
      "needs_background": "light"
     },
     "output_type": "display_data"
    }
   ],
   "source": [
    "importances = pd.DataFrame(dt.feature_importances_, columns = ['Imp'], index = X_train.columns)\n",
    "importances['features'] = pd.DataFrame(dt.feature_importances_, columns = ['Imp'], index = X_train.columns).index\n",
    "importances.reset_index\n",
    "\n",
    "importances = importances.sort_values(by='Imp', ascending=False)\n",
    "importances.set_index(np.arange(0,importances.shape[0]),inplace = True)\n",
    "\n",
    "importances['cumsum'] = np.cumsum(importances.Imp)\n",
    "x_vals = list(range(len(importances)))\n",
    "\n",
    "sns.barplot(data = importances, x='features', y='Imp')\n",
    "plt.xticks(x_vals, importances['features'], rotation='vertical')\n",
    "plt.ylabel('Importance'); plt.xlabel('Features'); plt.title('Feature Importance');\n",
    "plt.show()\n",
    "\n",
    "plt.plot(x_vals, importances['cumsum'], 'g-')\n",
    "plt.hlines(y = 0.95, xmin=0, xmax=len(importances), color = 'r', linestyles = 'dashed')\n",
    "plt.xticks(x_vals, importances['features'], rotation='vertical')\n",
    "plt.ylabel('Importance'); plt.xlabel('Features'); plt.title('Cumulative Importance');\n",
    "plt.show()"
   ]
  },
  {
   "cell_type": "code",
   "execution_count": 13,
   "id": "65d26ccb-47c4-4bc5-8ce5-69408264b8f2",
   "metadata": {},
   "outputs": [],
   "source": [
    "dt_param_grid = {\n",
    "    'max_depth' : [5,6,7,8,9,10,11,12],\n",
    "    'min_samples_leaf' : [15,20,25,30],\n",
    "    'min_samples_split' : [50,60,75,90,100]\n",
    "}"
   ]
  },
  {
   "cell_type": "code",
   "execution_count": 14,
   "id": "037c2d2f-358f-4211-91fe-007a35cceb53",
   "metadata": {},
   "outputs": [],
   "source": [
    "dt_ht = DecisionTreeClassifier()"
   ]
  },
  {
   "cell_type": "code",
   "execution_count": 15,
   "id": "f64ba3e1-a662-4770-bd52-330451e41120",
   "metadata": {},
   "outputs": [],
   "source": [
    "dt_gs = GridSearchCV(estimator=dt_ht, param_grid=dt_param_grid, cv = 3)"
   ]
  },
  {
   "cell_type": "code",
   "execution_count": 16,
   "id": "368d56b0-126e-40d4-9def-e777a0e78390",
   "metadata": {},
   "outputs": [
    {
     "data": {
      "text/plain": [
       "GridSearchCV(cv=3, estimator=DecisionTreeClassifier(),\n",
       "             param_grid={'max_depth': [5, 6, 7, 8, 9, 10, 11, 12],\n",
       "                         'min_samples_leaf': [15, 20, 25, 30],\n",
       "                         'min_samples_split': [50, 60, 75, 90, 100]})"
      ]
     },
     "execution_count": 16,
     "metadata": {},
     "output_type": "execute_result"
    }
   ],
   "source": [
    "dt_gs.fit(X_train, train_labels)"
   ]
  },
  {
   "cell_type": "code",
   "execution_count": 17,
   "id": "cdb93f86-b9ab-465c-8315-1a2c77e90705",
   "metadata": {},
   "outputs": [
    {
     "data": {
      "text/plain": [
       "{'max_depth': 6, 'min_samples_leaf': 20, 'min_samples_split': 50}"
      ]
     },
     "execution_count": 17,
     "metadata": {},
     "output_type": "execute_result"
    }
   ],
   "source": [
    "dt_gs.best_params_"
   ]
  },
  {
   "cell_type": "code",
   "execution_count": 18,
   "id": "d5650ffb-b04a-45d4-a13e-24144cb5b97c",
   "metadata": {},
   "outputs": [],
   "source": [
    "best_dt = dt_gs.best_estimator_"
   ]
  },
  {
   "cell_type": "code",
   "execution_count": 19,
   "id": "6b145b80-7bdf-4104-86f0-71f65aa2ccbe",
   "metadata": {},
   "outputs": [],
   "source": [
    "ytrain_predict = best_dt.predict(X_train)\n",
    "ytest_predict = best_dt.predict(X_test)"
   ]
  },
  {
   "cell_type": "code",
   "execution_count": 20,
   "id": "bd8aedd7-3504-4166-b6f9-93cf1306576d",
   "metadata": {},
   "outputs": [
    {
     "name": "stdout",
     "output_type": "stream",
     "text": [
      "[[1691   46]\n",
      " [ 226   95]]\n",
      "0.8678328474246841\n",
      "              precision    recall  f1-score   support\n",
      "\n",
      "           0       0.88      0.97      0.93      1737\n",
      "           1       0.67      0.30      0.41       321\n",
      "\n",
      "    accuracy                           0.87      2058\n",
      "   macro avg       0.78      0.63      0.67      2058\n",
      "weighted avg       0.85      0.87      0.85      2058\n",
      "\n"
     ]
    }
   ],
   "source": [
    "#Train data Confusion Matrix\n",
    "print(confusion_matrix(train_labels, ytrain_predict))\n",
    "#Train Data Accuracy\n",
    "print(best_dt.score(X_train,train_labels) )\n",
    "print(classification_report(train_labels, ytrain_predict))"
   ]
  },
  {
   "cell_type": "code",
   "execution_count": 21,
   "id": "7f14f508-c72a-454e-b969-3434abb83acb",
   "metadata": {},
   "outputs": [
    {
     "name": "stdout",
     "output_type": "stream",
     "text": [
      "[[701  28]\n",
      " [122  31]]\n",
      "0.8299319727891157\n",
      "              precision    recall  f1-score   support\n",
      "\n",
      "           0       0.85      0.96      0.90       729\n",
      "           1       0.53      0.20      0.29       153\n",
      "\n",
      "    accuracy                           0.83       882\n",
      "   macro avg       0.69      0.58      0.60       882\n",
      "weighted avg       0.80      0.83      0.80       882\n",
      "\n"
     ]
    }
   ],
   "source": [
    "#Test data Confusion Matrix\n",
    "print(confusion_matrix(test_labels, ytest_predict))\n",
    "#Test Data Accuracy\n",
    "print(best_dt.score(X_test,test_labels) )\n",
    "print(classification_report(test_labels, ytest_predict))"
   ]
  },
  {
   "cell_type": "code",
   "execution_count": 22,
   "id": "505a8928-422e-427e-bc6e-f6e1856cf132",
   "metadata": {},
   "outputs": [
    {
     "name": "stdout",
     "output_type": "stream",
     "text": [
      "0.8707909400854053\n"
     ]
    }
   ],
   "source": [
    "probs = best_dt.predict_proba(X_train)[:,1]\n",
    "auc_dev = roc_auc_score(train_labels, probs)\n",
    "print(auc_dev)\n",
    "fpr, tpr, thresholds = roc_curve(train_labels, probs)"
   ]
  },
  {
   "cell_type": "code",
   "execution_count": 23,
   "id": "7288a344-4bfc-481e-89e2-0447dd7204e9",
   "metadata": {},
   "outputs": [
    {
     "name": "stdout",
     "output_type": "stream",
     "text": [
      "Best Threshold=0.208333, G-Mean=0.800\n"
     ]
    }
   ],
   "source": [
    "# calculate the g-mean for each threshold\n",
    "gmeans = np.sqrt(tpr * (1-fpr))\n",
    "# locate the index of the largest g-mean\n",
    "ix = np.argmax(gmeans)\n",
    "print('Best Threshold=%f, G-Mean=%.3f' % (thresholds[ix], gmeans[ix]))"
   ]
  },
  {
   "cell_type": "code",
   "execution_count": 24,
   "id": "cee31cfa-6d19-481c-9d47-2ae7b5f3a5ed",
   "metadata": {},
   "outputs": [
    {
     "data": {
      "image/png": "[encoded data removed]",
      "text/plain": [
       "<Figure size 432x288 with 1 Axes>"
      ]
     },
     "metadata": {
      "needs_background": "light"
     },
     "output_type": "display_data"
    }
   ],
   "source": [
    "# plot the roc curve for the model\n",
    "plt.plot([0,1], [0,1], linestyle='--', label='No Skill')\n",
    "plt.plot(fpr, tpr, marker='.', label='Logistic')\n",
    "plt.scatter(fpr[ix], tpr[ix], marker='o', color='black', label='Best')\n",
    "# axis labels\n",
    "plt.xlabel('False Positive Rate')\n",
    "plt.ylabel('True Positive Rate')\n",
    "plt.legend()\n",
    "# show the plot\n",
    "plt.show()"
   ]
  },
  {
   "cell_type": "code",
   "execution_count": 38,
   "id": "64e30271-30db-43a3-8dbe-a4df2b273633",
   "metadata": {},
   "outputs": [],
   "source": [
    "rf_param_grid = {\n",
    "    'max_depth' : [5,6],\n",
    "    'min_samples_leaf' : [10,15,20,30],\n",
    "    'min_samples_split' : [40,50,60],\n",
    "    'max_features' : [5,6],\n",
    "    'n_estimators' : [100]\n",
    "}"
   ]
  },
  {
   "cell_type": "code",
   "execution_count": 39,
   "id": "8a0e889a-a0a7-4e08-bb32-a1a8de6dfa83",
   "metadata": {},
   "outputs": [
    {
     "data": {
      "text/plain": [
       "GridSearchCV(cv=3, estimator=RandomForestClassifier(),\n",
       "             param_grid={'max_depth': [5, 6], 'max_features': [5, 6],\n",
       "                         'min_samples_leaf': [10, 15, 20, 30],\n",
       "                         'min_samples_split': [40, 50, 60],\n",
       "                         'n_estimators': [100]})"
      ]
     },
     "execution_count": 39,
     "metadata": {},
     "output_type": "execute_result"
    }
   ],
   "source": [
    "rf_ht = RandomForestClassifier()\n",
    "rf_gs = GridSearchCV(estimator=rf_ht, param_grid=rf_param_grid, cv = 3)\n",
    "rf_gs.fit(X_train, train_labels)"
   ]
  },
  {
   "cell_type": "code",
   "execution_count": 40,
   "id": "bf9408af-927c-4062-be04-8db3553327cc",
   "metadata": {},
   "outputs": [
    {
     "data": {
      "text/plain": [
       "{'max_depth': 6,\n",
       " 'max_features': 6,\n",
       " 'min_samples_leaf': 10,\n",
       " 'min_samples_split': 40,\n",
       " 'n_estimators': 100}"
      ]
     },
     "execution_count": 40,
     "metadata": {},
     "output_type": "execute_result"
    }
   ],
   "source": [
    "rf_gs.best_params_"
   ]
  },
  {
   "cell_type": "code",
   "execution_count": 41,
   "id": "632d2ad6-0c51-46b8-923b-52c9f1a9617f",
   "metadata": {},
   "outputs": [],
   "source": [
    "best_rf = rf_gs.best_estimator_"
   ]
  },
  {
   "cell_type": "code",
   "execution_count": 42,
   "id": "bdb431d5-bf4f-4376-886a-54b45a4e7027",
   "metadata": {},
   "outputs": [],
   "source": [
    "ytrain_predict = best_rf.predict(X_train)\n",
    "ytest_predict = best_rf.predict(X_test)"
   ]
  },
  {
   "cell_type": "code",
   "execution_count": 43,
   "id": "8a5c679a-476d-4c80-a37b-ec405315323b",
   "metadata": {},
   "outputs": [
    {
     "name": "stdout",
     "output_type": "stream",
     "text": [
      "[[1734    3]\n",
      " [ 277   44]]\n",
      "0.8639455782312925\n",
      "              precision    recall  f1-score   support\n",
      "\n",
      "           0       0.86      1.00      0.93      1737\n",
      "           1       0.94      0.14      0.24       321\n",
      "\n",
      "    accuracy                           0.86      2058\n",
      "   macro avg       0.90      0.57      0.58      2058\n",
      "weighted avg       0.87      0.86      0.82      2058\n",
      "\n"
     ]
    }
   ],
   "source": [
    "#Train data Confusion Matrix\n",
    "print(confusion_matrix(train_labels, ytrain_predict))\n",
    "#Train Data Accuracy\n",
    "print(best_rf.score(X_train,train_labels) )\n",
    "print(classification_report(train_labels, ytrain_predict))"
   ]
  },
  {
   "cell_type": "code",
   "execution_count": 44,
   "id": "4a0c4b5f-fdd7-42c6-92ad-052ec03f1b56",
   "metadata": {},
   "outputs": [
    {
     "name": "stdout",
     "output_type": "stream",
     "text": [
      "[[726   3]\n",
      " [135  18]]\n",
      "0.8435374149659864\n",
      "              precision    recall  f1-score   support\n",
      "\n",
      "           0       0.84      1.00      0.91       729\n",
      "           1       0.86      0.12      0.21       153\n",
      "\n",
      "    accuracy                           0.84       882\n",
      "   macro avg       0.85      0.56      0.56       882\n",
      "weighted avg       0.85      0.84      0.79       882\n",
      "\n"
     ]
    }
   ],
   "source": [
    "#Test data Confusion Matrix\n",
    "print(confusion_matrix(test_labels, ytest_predict))\n",
    "#Test Data Accuracy\n",
    "print(best_rf.score(X_test,test_labels) )\n",
    "print(classification_report(test_labels, ytest_predict))"
   ]
  },
  {
   "cell_type": "code",
   "execution_count": 45,
   "id": "c792f04c-a1b9-4195-9e6b-ede5185419c4",
   "metadata": {},
   "outputs": [
    {
     "name": "stdout",
     "output_type": "stream",
     "text": [
      "0.9175001838311121\n"
     ]
    }
   ],
   "source": [
    "probs = best_rf.predict_proba(X_train)[:,1]\n",
    "auc_dev = roc_auc_score(train_labels, probs)\n",
    "print(auc_dev)\n",
    "fpr, tpr, thresholds = roc_curve(train_labels, probs)"
   ]
  },
  {
   "cell_type": "code",
   "execution_count": 46,
   "id": "656330b2-c261-4cc9-be41-ba9e32489823",
   "metadata": {},
   "outputs": [
    {
     "name": "stdout",
     "output_type": "stream",
     "text": [
      "Best Threshold=0.184608, G-Mean=0.851\n"
     ]
    }
   ],
   "source": [
    "# calculate the g-mean for each threshold\n",
    "gmeans = np.sqrt(tpr * (1-fpr))\n",
    "# locate the index of the largest g-mean\n",
    "ix = np.argmax(gmeans)\n",
    "print('Best Threshold=%f, G-Mean=%.3f' % (thresholds[ix], gmeans[ix]))"
   ]
  },
  {
   "cell_type": "code",
   "execution_count": 47,
   "id": "2a3725c9-cd0a-4536-9570-56420ab8c09d",
   "metadata": {},
   "outputs": [
    {
     "data": {
      "image/png": "[encoded data removed]",
      "text/plain": [
       "<Figure size 432x288 with 1 Axes>"
      ]
     },
     "metadata": {
      "needs_background": "light"
     },
     "output_type": "display_data"
    }
   ],
   "source": [
    "# plot the roc curve for the model\n",
    "plt.plot([0,1], [0,1], linestyle='--', label='No Skill')\n",
    "plt.plot(fpr, tpr, marker='.', label='Logistic')\n",
    "plt.scatter(fpr[ix], tpr[ix], marker='o', color='black', label='Best')\n",
    "# axis labels\n",
    "plt.xlabel('False Positive Rate')\n",
    "plt.ylabel('True Positive Rate')\n",
    "plt.legend()\n",
    "# show the plot\n",
    "plt.show()"
   ]
  },
  {
   "cell_type": "code",
   "execution_count": 49,
   "id": "4212c0a4-4a90-49c7-8c47-00a7f9d421f4",
   "metadata": {},
   "outputs": [],
   "source": [
    "ss = StandardScaler()"
   ]
  },
  {
   "cell_type": "code",
   "execution_count": 50,
   "id": "e2744fae-49c1-4757-b908-5453e466d6c5",
   "metadata": {},
   "outputs": [],
   "source": [
    "X_train_s = ss.fit_transform(X_train)"
   ]
  },
  {
   "cell_type": "code",
   "execution_count": 51,
   "id": "d0193b0d-3fd7-400d-ad3e-ec542b555a7b",
   "metadata": {},
   "outputs": [],
   "source": [
    "X_test_s = ss.transform(X_test)"
   ]
  },
  {
   "cell_type": "code",
   "execution_count": 52,
   "id": "b91f62b2-8879-4ba2-bf02-7edc51522c78",
   "metadata": {
    "tags": []
   },
   "outputs": [
    {
     "data": {
      "text/plain": [
       "array([[ 1.75904517,  1.04289644, -0.27238444, ...,  0.76397248,\n",
       "         0.56720724,  0.82525338],\n",
       "       [ 0.2198339 , -1.64621765, -0.76671175, ..., -0.33955822,\n",
       "         0.25683434,  0.54043509],\n",
       "       [-0.10999708, -0.5899575 ,  1.08701567, ..., -1.16720624,\n",
       "        -0.67428439, -1.16847464],\n",
       "       ...,\n",
       "       [ 0.32977756,  0.23516808, -0.39596627, ...,  0.76397248,\n",
       "         1.49832597,  0.82525338],\n",
       "       [ 0.65960855,  0.57317133,  0.83985201, ...,  2.41926852,\n",
       "        -0.36391148,  1.39488995],\n",
       "       [-1.42932103,  0.06616646,  0.46910653, ..., -1.16720624,\n",
       "        -0.67428439, -1.16847464]])"
      ]
     },
     "execution_count": 52,
     "metadata": {},
     "output_type": "execute_result"
    }
   ],
   "source": [
    "X_train_s"
   ]
  },
  {
   "cell_type": "code",
   "execution_count": 53,
   "id": "f3f29f02-3703-4337-9ad7-fc91b393db40",
   "metadata": {},
   "outputs": [],
   "source": [
    "nn_param_grid = {\n",
    "    'hidden_layer_sizes' : [100,100,100],\n",
    "    'activation' : ['logistic','relu'],\n",
    "    'solver' : ['sgd','adam'],\n",
    "    'max_iter' : [10000],\n",
    "    'tol' : [0.000001]\n",
    "}"
   ]
  },
  {
   "cell_type": "code",
   "execution_count": null,
   "id": "6439aafe-99bb-402c-9c9d-455eed4e76da",
   "metadata": {},
   "outputs": [],
   "source": [
    "nn_ht = MLPClassifier()\n",
    "nn_gs = GridSearchCV(estimator=nn_ht, param_grid=nn_param_grid, cv = 3)\n",
    "nn_gs.fit(X_train_s, train_labels)"
   ]
  },
  {
   "cell_type": "code",
   "execution_count": 40,
   "id": "c21e80e7-de0c-4d4e-89a3-96ee88db5a59",
   "metadata": {},
   "outputs": [
    {
     "data": {
      "text/plain": [
       "{'max_depth': 6,\n",
       " 'max_features': 6,\n",
       " 'min_samples_leaf': 10,\n",
       " 'min_samples_split': 40,\n",
       " 'n_estimators': 100}"
      ]
     },
     "execution_count": 40,
     "metadata": {},
     "output_type": "execute_result"
    }
   ],
   "source": [
    "nn_gs.best_params_"
   ]
  },
  {
   "cell_type": "code",
   "execution_count": 41,
   "id": "99e19d49-b55f-42d4-98e3-a923bd789dc0",
   "metadata": {},
   "outputs": [],
   "source": [
    "best_nn = nn_gs.best_estimator_"
   ]
  },
  {
   "cell_type": "code",
   "execution_count": 42,
   "id": "77b3aeef-6596-4a30-8d2a-981898b7e80a",
   "metadata": {},
   "outputs": [],
   "source": [
    "ytrain_predict = best_nn.predict(X_train_s)\n",
    "ytest_predict = best_nn.predict(X_test_s)"
   ]
  },
  {
   "cell_type": "code",
   "execution_count": 43,
   "id": "1d01f35e-9ee5-41ca-ad11-d02135257d05",
   "metadata": {},
   "outputs": [
    {
     "name": "stdout",
     "output_type": "stream",
     "text": [
      "[[1734    3]\n",
      " [ 277   44]]\n",
      "0.8639455782312925\n",
      "              precision    recall  f1-score   support\n",
      "\n",
      "           0       0.86      1.00      0.93      1737\n",
      "           1       0.94      0.14      0.24       321\n",
      "\n",
      "    accuracy                           0.86      2058\n",
      "   macro avg       0.90      0.57      0.58      2058\n",
      "weighted avg       0.87      0.86      0.82      2058\n",
      "\n"
     ]
    }
   ],
   "source": [
    "#Train data Confusion Matrix\n",
    "print(confusion_matrix(train_labels, ytrain_predict))\n",
    "#Train Data Accuracy\n",
    "print(best_rf.score(X_train,train_labels) )\n",
    "print(classification_report(train_labels, ytrain_predict))"
   ]
  },
  {
   "cell_type": "code",
   "execution_count": 44,
   "id": "1b2e9642-d9c3-4b06-ae5e-d6c2f5ee44fd",
   "metadata": {},
   "outputs": [
    {
     "name": "stdout",
     "output_type": "stream",
     "text": [
      "[[726   3]\n",
      " [135  18]]\n",
      "0.8435374149659864\n",
      "              precision    recall  f1-score   support\n",
      "\n",
      "           0       0.84      1.00      0.91       729\n",
      "           1       0.86      0.12      0.21       153\n",
      "\n",
      "    accuracy                           0.84       882\n",
      "   macro avg       0.85      0.56      0.56       882\n",
      "weighted avg       0.85      0.84      0.79       882\n",
      "\n"
     ]
    }
   ],
   "source": [
    "#Test data Confusion Matrix\n",
    "print(confusion_matrix(test_labels, ytest_predict))\n",
    "#Test Data Accuracy\n",
    "print(best_rf.score(X_test,test_labels) )\n",
    "print(classification_report(test_labels, ytest_predict))"
   ]
  },
  {
   "cell_type": "code",
   "execution_count": 45,
   "id": "11480103-be84-40a4-b0b7-95a7362371c9",
   "metadata": {},
   "outputs": [
    {
     "name": "stdout",
     "output_type": "stream",
     "text": [
      "0.9175001838311121\n"
     ]
    }
   ],
   "source": [
    "probs = best_rf.predict_proba(X_train)[:,1]\n",
    "auc_dev = roc_auc_score(train_labels, probs)\n",
    "print(auc_dev)\n",
    "fpr, tpr, thresholds = roc_curve(train_labels, probs)"
   ]
  },
  {
   "cell_type": "code",
   "execution_count": 46,
   "id": "3476a36a-1f78-4393-970b-a596d3741311",
   "metadata": {},
   "outputs": [
    {
     "name": "stdout",
     "output_type": "stream",
     "text": [
      "Best Threshold=0.184608, G-Mean=0.851\n"
     ]
    }
   ],
   "source": [
    "# calculate the g-mean for each threshold\n",
    "gmeans = np.sqrt(tpr * (1-fpr))\n",
    "# locate the index of the largest g-mean\n",
    "ix = np.argmax(gmeans)\n",
    "print('Best Threshold=%f, G-Mean=%.3f' % (thresholds[ix], gmeans[ix]))"
   ]
  },
  {
   "cell_type": "code",
   "execution_count": 47,
   "id": "b168f271-2f01-4846-b8a4-7ea498177bbb",
   "metadata": {},
   "outputs": [
    {
     "data": {
      "image/png": "[encoded data removed]",
      "text/plain": [
       "<Figure size 432x288 with 1 Axes>"
      ]
     },
     "metadata": {
      "needs_background": "light"
     },
     "output_type": "display_data"
    }
   ],
   "source": [
    "# plot the roc curve for the model\n",
    "plt.plot([0,1], [0,1], linestyle='--', label='No Skill')\n",
    "plt.plot(fpr, tpr, marker='.', label='Logistic')\n",
    "plt.scatter(fpr[ix], tpr[ix], marker='o', color='black', label='Best')\n",
    "# axis labels\n",
    "plt.xlabel('False Positive Rate')\n",
    "plt.ylabel('True Positive Rate')\n",
    "plt.legend()\n",
    "# show the plot\n",
    "plt.show()"
   ]
  }
 ],
 "metadata": {
  "kernelspec": {
   "display_name": "Python 3",
   "language": "python",
   "name": "python3"
  },
  "language_info": {
   "codemirror_mode": {
    "name": "ipython",
    "version": 3
   },
   "file_extension": ".py",
   "mimetype": "text/x-python",
   "name": "python",
   "nbconvert_exporter": "python",
   "pygments_lexer": "ipython3",
   "version": "3.8.8"
  }
 },
 "nbformat": 4,
 "nbformat_minor": 5
}
