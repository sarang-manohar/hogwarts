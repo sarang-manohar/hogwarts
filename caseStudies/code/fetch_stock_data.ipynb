{
 "cells": [
  {
   "cell_type": "code",
   "execution_count": 5,
   "metadata": {},
   "outputs": [
    {
     "name": "stdout",
     "output_type": "stream",
     "text": [
      "{'ebitdaMargins': None, 'profitMargins': None, 'grossMargins': None, 'operatingCashflow': None, 'revenueGrowth': None, 'operatingMargins': None, 'ebitda': None, 'targetLowPrice': 550, 'recommendationKey': 'none', 'grossProfits': 9941500000, 'freeCashflow': None, 'targetMedianPrice': 690, 'currentPrice': 189.3, 'earningsGrowth': None, 'currentRatio': None, 'returnOnAssets': None, 'numberOfAnalystOpinions': 11, 'targetMeanPrice': 698.09, 'debtToEquity': None, 'returnOnEquity': None, 'targetHighPrice': 814, 'totalCash': None, 'totalDebt': None, 'totalRevenue': None, 'totalCashPerShare': None, 'financialCurrency': 'INR', 'maxAge': 1, 'revenuePerShare': None, 'quickRatio': None, 'recommendationMean': None, 'exchange': 'BSE', 'shortName': 'FINOLEX INDUSTRIES LTD.', 'longName': 'Finolex Industries Limited', 'exchangeTimezoneName': 'Asia/Kolkata', 'exchangeTimezoneShortName': 'IST', 'isEsgPopulated': False, 'gmtOffSetMilliseconds': '19800000', 'quoteType': 'EQUITY', 'symbol': 'FINOLEXIND.BO', 'market': 'in_market', 'previousClose': 183.6, 'regularMarketOpen': 183, 'twoHundredDayAverage': 573.46936, 'trailingAnnualDividendYield': 0.05446623, 'payoutRatio': None, 'volume24Hr': None, 'regularMarketDayHigh': 194.95, 'navPrice': None, 'averageDailyVolume10Day': 112426, 'totalAssets': None, 'regularMarketPreviousClose': 183.6, 'fiftyDayAverage': 640.3714, 'trailingAnnualDividendRate': 10, 'open': 183, 'toCurrency': None, 'averageVolume10days': 112426, 'expireDate': None, 'yield': None, 'algorithm': None, 'dividendRate': None, 'exDividendDate': None, 'beta': None, 'circulatingSupply': None, 'startDate': None, 'regularMarketDayLow': 178.35, 'priceHint': 2, 'currency': 'INR', 'trailingPE': 7.429648, 'regularMarketVolume': 452533, 'lastMarket': None, 'maxSupply': None, 'openInterest': None, 'marketCap': 23507464192, 'volumeAllCurrencies': None, 'strikePrice': None, 'averageVolume': 36151, 'priceToSalesTrailing12Months': None, 'dayLow': 178.35, 'ask': 191.1, 'ytdReturn': None, 'askSize': 0, 'volume': 452533, 'fiftyTwoWeekHigh': 695.5, 'forwardPE': 5.7520514, 'fromCurrency': None, 'fiveYearAvgDividendYield': None, 'fiftyTwoWeekLow': 178.35, 'bid': 189.3, 'tradeable': False, 'dividendYield': None, 'bidSize': 0, 'dayHigh': 194.95, 'coinMarketCapLink': None, 'regularMarketPrice': 189.3, 'preMarketPrice': None, 'logo_url': 'https://logo.clearbit.com/FINOLEX.com', 'trailingPegRatio': None}\n"
     ]
    }
   ],
   "source": [
    "import yfinance as yf\n",
    "\n",
    "# Get the stock data for a specific stock\n",
    "ticker = 'FINOLEXIND.BO'\n",
    "stock_data = yf.Ticker(ticker)\n",
    "\n",
    "# Get the stock info\n",
    "stock_info = stock_data.info\n",
    "\n",
    "# Print the stock info\n",
    "print(stock_info)"
   ]
  },
  {
   "cell_type": "code",
   "execution_count": 7,
   "metadata": {},
   "outputs": [
    {
     "data": {
      "text/plain": [
       "Open            float64\n",
       "High            float64\n",
       "Low             float64\n",
       "Close           float64\n",
       "Volume            int64\n",
       "Dividends       float64\n",
       "Stock Splits    float64\n",
       "dtype: object"
      ]
     },
     "execution_count": 7,
     "metadata": {},
     "output_type": "execute_result"
    }
   ],
   "source": [
    "# Get the stock history for the past year\n",
    "stock_history = stock_data.history(period=\"2y\")\n"
   ]
  },
  {
   "cell_type": "code",
   "execution_count": 9,
   "metadata": {},
   "outputs": [],
   "source": [
    "import pandas as pd\n",
    "stock_hist_df = pd.DataFrame(stock_history)\n",
    "stock_hist_df[\"close\"] = stock_hist_df[\"Close\"]\n",
    "stock_hist_df.to_csv(r\"../data/stock_data.csv\")"
   ]
  },
  {
   "cell_type": "code",
   "execution_count": null,
   "metadata": {},
   "outputs": [],
   "source": []
  }
 ],
 "metadata": {
  "kernelspec": {
   "display_name": "Python 3 (ipykernel)",
   "language": "python",
   "name": "python3"
  },
  "language_info": {
   "codemirror_mode": {
    "name": "ipython",
    "version": 3
   },
   "file_extension": ".py",
   "mimetype": "text/x-python",
   "name": "python",
   "nbconvert_exporter": "python",
   "pygments_lexer": "ipython3",
   "version": "3.10.6"
  },
  "orig_nbformat": 4
 },
 "nbformat": 4,
 "nbformat_minor": 2
}
