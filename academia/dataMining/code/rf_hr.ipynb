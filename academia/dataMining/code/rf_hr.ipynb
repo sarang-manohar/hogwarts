{
  "nbformat": 4,
  "nbformat_minor": 0,
  "metadata": {
    "colab": {
      "name": "rf-hr.ipynb",
      "provenance": [],
      "collapsed_sections": [],
      "authorship_tag": "ABX9TyOcEvBMdsyyNRkKx4fbuB/K",
      "include_colab_link": true
    },
    "kernelspec": {
      "name": "python3",
      "display_name": "Python 3"
    },
    "language_info": {
      "name": "python"
    }
  },
  "cells": [
    {
      "cell_type": "markdown",
      "metadata": {
        "id": "view-in-github",
        "colab_type": "text"
      },
      "source": [
        "<a href=\"https://colab.research.google.com/github/sarang-manohar/hogwarts/blob/main/academia/dataMining/code/rf_hr.ipynb\" target=\"_parent\"><img src=\"https://colab.research.google.com/assets/colab-badge.svg\" alt=\"Open In Colab\"/></a>"
      ]
    },
    {
      "cell_type": "code",
      "metadata": {
        "colab": {
          "base_uri": "https://localhost:8080/"
        },
        "id": "orVC_UlV7v9b",
        "outputId": "30bbade8-a535-47bf-c1bc-53b8cc751d17"
      },
      "source": [
        "!git clone 'https://github.com/sarang-manohar/hogwarts.git'"
      ],
      "execution_count": null,
      "outputs": [
        {
          "output_type": "stream",
          "text": [
            "Cloning into 'hogwarts'...\n",
            "remote: Enumerating objects: 207, done.\u001b[K\n",
            "remote: Counting objects: 100% (207/207), done.\u001b[K\n",
            "remote: Compressing objects: 100% (173/173), done.\u001b[K\n",
            "remote: Total 207 (delta 110), reused 81 (delta 19), pack-reused 0\u001b[K\n",
            "Receiving objects: 100% (207/207), 23.67 MiB | 20.21 MiB/s, done.\n",
            "Resolving deltas: 100% (110/110), done.\n"
          ],
          "name": "stdout"
        }
      ]
    },
    {
      "cell_type": "markdown",
      "metadata": {
        "id": "rlIpLtQD9lPF"
      },
      "source": [
        "Path on git\n",
        "\n",
        "academia/dataMining/code/rf_hr.ipynb"
      ]
    },
    {
      "cell_type": "code",
      "metadata": {
        "id": "velQA8EG49Bf"
      },
      "source": [
        "import numpy as np \n",
        "import pandas as pd\n",
        "import matplotlib.pyplot as plt\n",
        "import seaborn as sns\n",
        "%matplotlib inline\n",
        "plt.style.use('seaborn-talk')\n",
        "\n",
        "from sklearn.ensemble import RandomForestClassifier\n",
        "from sklearn.model_selection import train_test_split, GridSearchCV\n",
        "\n",
        "from sklearn.metrics import roc_auc_score, roc_curve, classification_report, confusion_matrix\n",
        "\n",
        "import warnings\n",
        "warnings.filterwarnings('ignore')"
      ],
      "execution_count": 62,
      "outputs": []
    },
    {
      "cell_type": "code",
      "metadata": {
        "colab": {
          "base_uri": "https://localhost:8080/",
          "height": 506
        },
        "id": "KJiY2thz6-E4",
        "outputId": "11ac4104-2f9c-42ea-8328-1e0006001627"
      },
      "source": [
        "rd=pd.read_csv(r'/content/hogwarts/academia/dataMining/data/hrdata.csv')\n",
        "\n",
        "display(rd)"
      ],
      "execution_count": 63,
      "outputs": [
        {
          "output_type": "display_data",
          "data": {
            "text/html": [
              "<div>\n",
              "<style scoped>\n",
              "    .dataframe tbody tr th:only-of-type {\n",
              "        vertical-align: middle;\n",
              "    }\n",
              "\n",
              "    .dataframe tbody tr th {\n",
              "        vertical-align: top;\n",
              "    }\n",
              "\n",
              "    .dataframe thead th {\n",
              "        text-align: right;\n",
              "    }\n",
              "</style>\n",
              "<table border=\"1\" class=\"dataframe\">\n",
              "  <thead>\n",
              "    <tr style=\"text-align: right;\">\n",
              "      <th></th>\n",
              "      <th>Unnamed: 0</th>\n",
              "      <th>employee_id</th>\n",
              "      <th>department</th>\n",
              "      <th>education</th>\n",
              "      <th>gender</th>\n",
              "      <th>no_of_trainings</th>\n",
              "      <th>age</th>\n",
              "      <th>last_promotion_rating</th>\n",
              "      <th>employee_since_years</th>\n",
              "      <th>all_tasks_completed</th>\n",
              "      <th>training_marks</th>\n",
              "      <th>is_promoted</th>\n",
              "    </tr>\n",
              "  </thead>\n",
              "  <tbody>\n",
              "    <tr>\n",
              "      <th>0</th>\n",
              "      <td>0</td>\n",
              "      <td>2001001</td>\n",
              "      <td>Sales &amp; Marketing</td>\n",
              "      <td>Master's &amp; above</td>\n",
              "      <td>f</td>\n",
              "      <td>1</td>\n",
              "      <td>35</td>\n",
              "      <td>5</td>\n",
              "      <td>8</td>\n",
              "      <td>1</td>\n",
              "      <td>49</td>\n",
              "      <td>0</td>\n",
              "    </tr>\n",
              "    <tr>\n",
              "      <th>1</th>\n",
              "      <td>1</td>\n",
              "      <td>2001002</td>\n",
              "      <td>Operations</td>\n",
              "      <td>Bachelor's</td>\n",
              "      <td>m</td>\n",
              "      <td>1</td>\n",
              "      <td>30</td>\n",
              "      <td>5</td>\n",
              "      <td>4</td>\n",
              "      <td>0</td>\n",
              "      <td>60</td>\n",
              "      <td>0</td>\n",
              "    </tr>\n",
              "    <tr>\n",
              "      <th>2</th>\n",
              "      <td>2</td>\n",
              "      <td>2001003</td>\n",
              "      <td>Sales &amp; Marketing</td>\n",
              "      <td>Bachelor's</td>\n",
              "      <td>m</td>\n",
              "      <td>1</td>\n",
              "      <td>34</td>\n",
              "      <td>3</td>\n",
              "      <td>7</td>\n",
              "      <td>0</td>\n",
              "      <td>50</td>\n",
              "      <td>0</td>\n",
              "    </tr>\n",
              "    <tr>\n",
              "      <th>3</th>\n",
              "      <td>3</td>\n",
              "      <td>2001004</td>\n",
              "      <td>Sales &amp; Marketing</td>\n",
              "      <td>Bachelor's</td>\n",
              "      <td>m</td>\n",
              "      <td>2</td>\n",
              "      <td>39</td>\n",
              "      <td>1</td>\n",
              "      <td>10</td>\n",
              "      <td>0</td>\n",
              "      <td>50</td>\n",
              "      <td>0</td>\n",
              "    </tr>\n",
              "    <tr>\n",
              "      <th>4</th>\n",
              "      <td>4</td>\n",
              "      <td>2001005</td>\n",
              "      <td>Technology</td>\n",
              "      <td>Bachelor's</td>\n",
              "      <td>m</td>\n",
              "      <td>1</td>\n",
              "      <td>45</td>\n",
              "      <td>3</td>\n",
              "      <td>2</td>\n",
              "      <td>0</td>\n",
              "      <td>73</td>\n",
              "      <td>0</td>\n",
              "    </tr>\n",
              "    <tr>\n",
              "      <th>...</th>\n",
              "      <td>...</td>\n",
              "      <td>...</td>\n",
              "      <td>...</td>\n",
              "      <td>...</td>\n",
              "      <td>...</td>\n",
              "      <td>...</td>\n",
              "      <td>...</td>\n",
              "      <td>...</td>\n",
              "      <td>...</td>\n",
              "      <td>...</td>\n",
              "      <td>...</td>\n",
              "      <td>...</td>\n",
              "    </tr>\n",
              "    <tr>\n",
              "      <th>48655</th>\n",
              "      <td>54802</td>\n",
              "      <td>2049656</td>\n",
              "      <td>Sales &amp; Marketing</td>\n",
              "      <td>Bachelor's</td>\n",
              "      <td>m</td>\n",
              "      <td>2</td>\n",
              "      <td>31</td>\n",
              "      <td>1</td>\n",
              "      <td>2</td>\n",
              "      <td>0</td>\n",
              "      <td>49</td>\n",
              "      <td>0</td>\n",
              "    </tr>\n",
              "    <tr>\n",
              "      <th>48656</th>\n",
              "      <td>54803</td>\n",
              "      <td>2049657</td>\n",
              "      <td>Technology</td>\n",
              "      <td>Bachelor's</td>\n",
              "      <td>m</td>\n",
              "      <td>1</td>\n",
              "      <td>48</td>\n",
              "      <td>3</td>\n",
              "      <td>17</td>\n",
              "      <td>0</td>\n",
              "      <td>78</td>\n",
              "      <td>0</td>\n",
              "    </tr>\n",
              "    <tr>\n",
              "      <th>48657</th>\n",
              "      <td>54804</td>\n",
              "      <td>2049658</td>\n",
              "      <td>Operations</td>\n",
              "      <td>Master's &amp; above</td>\n",
              "      <td>f</td>\n",
              "      <td>1</td>\n",
              "      <td>37</td>\n",
              "      <td>2</td>\n",
              "      <td>6</td>\n",
              "      <td>0</td>\n",
              "      <td>56</td>\n",
              "      <td>0</td>\n",
              "    </tr>\n",
              "    <tr>\n",
              "      <th>48658</th>\n",
              "      <td>54805</td>\n",
              "      <td>2049659</td>\n",
              "      <td>Analytics</td>\n",
              "      <td>Bachelor's</td>\n",
              "      <td>m</td>\n",
              "      <td>1</td>\n",
              "      <td>27</td>\n",
              "      <td>5</td>\n",
              "      <td>3</td>\n",
              "      <td>1</td>\n",
              "      <td>79</td>\n",
              "      <td>0</td>\n",
              "    </tr>\n",
              "    <tr>\n",
              "      <th>48659</th>\n",
              "      <td>54807</td>\n",
              "      <td>2049660</td>\n",
              "      <td>HR</td>\n",
              "      <td>Bachelor's</td>\n",
              "      <td>m</td>\n",
              "      <td>1</td>\n",
              "      <td>27</td>\n",
              "      <td>1</td>\n",
              "      <td>5</td>\n",
              "      <td>0</td>\n",
              "      <td>49</td>\n",
              "      <td>0</td>\n",
              "    </tr>\n",
              "  </tbody>\n",
              "</table>\n",
              "<p>48660 rows × 12 columns</p>\n",
              "</div>"
            ],
            "text/plain": [
              "       Unnamed: 0  employee_id  ... training_marks is_promoted\n",
              "0               0      2001001  ...             49           0\n",
              "1               1      2001002  ...             60           0\n",
              "2               2      2001003  ...             50           0\n",
              "3               3      2001004  ...             50           0\n",
              "4               4      2001005  ...             73           0\n",
              "...           ...          ...  ...            ...         ...\n",
              "48655       54802      2049656  ...             49           0\n",
              "48656       54803      2049657  ...             78           0\n",
              "48657       54804      2049658  ...             56           0\n",
              "48658       54805      2049659  ...             79           0\n",
              "48659       54807      2049660  ...             49           0\n",
              "\n",
              "[48660 rows x 12 columns]"
            ]
          },
          "metadata": {
            "tags": []
          }
        }
      ]
    },
    {
      "cell_type": "code",
      "metadata": {
        "id": "rriZbSvm7P-a",
        "colab": {
          "base_uri": "https://localhost:8080/"
        },
        "outputId": "f1a202f0-0b21-4ee1-993f-b7ee12f2c53b"
      },
      "source": [
        "rd.info()"
      ],
      "execution_count": 64,
      "outputs": [
        {
          "output_type": "stream",
          "text": [
            "<class 'pandas.core.frame.DataFrame'>\n",
            "RangeIndex: 48660 entries, 0 to 48659\n",
            "Data columns (total 12 columns):\n",
            " #   Column                 Non-Null Count  Dtype \n",
            "---  ------                 --------------  ----- \n",
            " 0   Unnamed: 0             48660 non-null  int64 \n",
            " 1   employee_id            48660 non-null  int64 \n",
            " 2   department             48660 non-null  object\n",
            " 3   education              48660 non-null  object\n",
            " 4   gender                 48660 non-null  object\n",
            " 5   no_of_trainings        48660 non-null  int64 \n",
            " 6   age                    48660 non-null  int64 \n",
            " 7   last_promotion_rating  48660 non-null  int64 \n",
            " 8   employee_since_years   48660 non-null  int64 \n",
            " 9   all_tasks_completed    48660 non-null  int64 \n",
            " 10  training_marks         48660 non-null  int64 \n",
            " 11  is_promoted            48660 non-null  int64 \n",
            "dtypes: int64(9), object(3)\n",
            "memory usage: 4.5+ MB\n"
          ],
          "name": "stdout"
        }
      ]
    },
    {
      "cell_type": "code",
      "metadata": {
        "colab": {
          "base_uri": "https://localhost:8080/",
          "height": 287
        },
        "id": "GPuUMPTvmPnl",
        "outputId": "79b68268-9a01-42d4-bfcf-db627ee51add"
      },
      "source": [
        "rd.describe()"
      ],
      "execution_count": 65,
      "outputs": [
        {
          "output_type": "execute_result",
          "data": {
            "text/html": [
              "<div>\n",
              "<style scoped>\n",
              "    .dataframe tbody tr th:only-of-type {\n",
              "        vertical-align: middle;\n",
              "    }\n",
              "\n",
              "    .dataframe tbody tr th {\n",
              "        vertical-align: top;\n",
              "    }\n",
              "\n",
              "    .dataframe thead th {\n",
              "        text-align: right;\n",
              "    }\n",
              "</style>\n",
              "<table border=\"1\" class=\"dataframe\">\n",
              "  <thead>\n",
              "    <tr style=\"text-align: right;\">\n",
              "      <th></th>\n",
              "      <th>Unnamed: 0</th>\n",
              "      <th>employee_id</th>\n",
              "      <th>no_of_trainings</th>\n",
              "      <th>age</th>\n",
              "      <th>last_promotion_rating</th>\n",
              "      <th>employee_since_years</th>\n",
              "      <th>all_tasks_completed</th>\n",
              "      <th>training_marks</th>\n",
              "      <th>is_promoted</th>\n",
              "    </tr>\n",
              "  </thead>\n",
              "  <tbody>\n",
              "    <tr>\n",
              "      <th>count</th>\n",
              "      <td>48660.000000</td>\n",
              "      <td>4.866000e+04</td>\n",
              "      <td>48660.000000</td>\n",
              "      <td>48660.000000</td>\n",
              "      <td>48660.000000</td>\n",
              "      <td>48660.00000</td>\n",
              "      <td>48660.000000</td>\n",
              "      <td>48660.000000</td>\n",
              "      <td>48660.000000</td>\n",
              "    </tr>\n",
              "    <tr>\n",
              "      <th>mean</th>\n",
              "      <td>27440.951541</td>\n",
              "      <td>2.025330e+06</td>\n",
              "      <td>1.251993</td>\n",
              "      <td>35.589437</td>\n",
              "      <td>3.337526</td>\n",
              "      <td>6.31157</td>\n",
              "      <td>0.356473</td>\n",
              "      <td>63.603309</td>\n",
              "      <td>0.086971</td>\n",
              "    </tr>\n",
              "    <tr>\n",
              "      <th>std</th>\n",
              "      <td>15824.359536</td>\n",
              "      <td>1.404708e+04</td>\n",
              "      <td>0.604994</td>\n",
              "      <td>7.534571</td>\n",
              "      <td>1.257922</td>\n",
              "      <td>4.20476</td>\n",
              "      <td>0.478962</td>\n",
              "      <td>13.273502</td>\n",
              "      <td>0.281795</td>\n",
              "    </tr>\n",
              "    <tr>\n",
              "      <th>min</th>\n",
              "      <td>0.000000</td>\n",
              "      <td>2.001001e+06</td>\n",
              "      <td>1.000000</td>\n",
              "      <td>20.000000</td>\n",
              "      <td>1.000000</td>\n",
              "      <td>1.00000</td>\n",
              "      <td>0.000000</td>\n",
              "      <td>39.000000</td>\n",
              "      <td>0.000000</td>\n",
              "    </tr>\n",
              "    <tr>\n",
              "      <th>25%</th>\n",
              "      <td>13712.750000</td>\n",
              "      <td>2.013166e+06</td>\n",
              "      <td>1.000000</td>\n",
              "      <td>30.000000</td>\n",
              "      <td>3.000000</td>\n",
              "      <td>3.00000</td>\n",
              "      <td>0.000000</td>\n",
              "      <td>51.000000</td>\n",
              "      <td>0.000000</td>\n",
              "    </tr>\n",
              "    <tr>\n",
              "      <th>50%</th>\n",
              "      <td>27466.500000</td>\n",
              "      <td>2.025330e+06</td>\n",
              "      <td>1.000000</td>\n",
              "      <td>34.000000</td>\n",
              "      <td>3.000000</td>\n",
              "      <td>5.00000</td>\n",
              "      <td>0.000000</td>\n",
              "      <td>60.000000</td>\n",
              "      <td>0.000000</td>\n",
              "    </tr>\n",
              "    <tr>\n",
              "      <th>75%</th>\n",
              "      <td>41142.250000</td>\n",
              "      <td>2.037495e+06</td>\n",
              "      <td>1.000000</td>\n",
              "      <td>39.000000</td>\n",
              "      <td>4.000000</td>\n",
              "      <td>8.00000</td>\n",
              "      <td>1.000000</td>\n",
              "      <td>76.000000</td>\n",
              "      <td>0.000000</td>\n",
              "    </tr>\n",
              "    <tr>\n",
              "      <th>max</th>\n",
              "      <td>54807.000000</td>\n",
              "      <td>2.049660e+06</td>\n",
              "      <td>10.000000</td>\n",
              "      <td>60.000000</td>\n",
              "      <td>5.000000</td>\n",
              "      <td>37.00000</td>\n",
              "      <td>1.000000</td>\n",
              "      <td>99.000000</td>\n",
              "      <td>1.000000</td>\n",
              "    </tr>\n",
              "  </tbody>\n",
              "</table>\n",
              "</div>"
            ],
            "text/plain": [
              "         Unnamed: 0   employee_id  ...  training_marks   is_promoted\n",
              "count  48660.000000  4.866000e+04  ...    48660.000000  48660.000000\n",
              "mean   27440.951541  2.025330e+06  ...       63.603309      0.086971\n",
              "std    15824.359536  1.404708e+04  ...       13.273502      0.281795\n",
              "min        0.000000  2.001001e+06  ...       39.000000      0.000000\n",
              "25%    13712.750000  2.013166e+06  ...       51.000000      0.000000\n",
              "50%    27466.500000  2.025330e+06  ...       60.000000      0.000000\n",
              "75%    41142.250000  2.037495e+06  ...       76.000000      0.000000\n",
              "max    54807.000000  2.049660e+06  ...       99.000000      1.000000\n",
              "\n",
              "[8 rows x 9 columns]"
            ]
          },
          "metadata": {
            "tags": []
          },
          "execution_count": 65
        }
      ]
    },
    {
      "cell_type": "code",
      "metadata": {
        "colab": {
          "base_uri": "https://localhost:8080/",
          "height": 47
        },
        "id": "mcn0_G48nUDZ",
        "outputId": "c126e24e-9daa-4a45-a37a-f9d5fad481d3"
      },
      "source": [
        "dups = rd.duplicated()\n",
        "rd[dups]"
      ],
      "execution_count": 66,
      "outputs": [
        {
          "output_type": "execute_result",
          "data": {
            "text/html": [
              "<div>\n",
              "<style scoped>\n",
              "    .dataframe tbody tr th:only-of-type {\n",
              "        vertical-align: middle;\n",
              "    }\n",
              "\n",
              "    .dataframe tbody tr th {\n",
              "        vertical-align: top;\n",
              "    }\n",
              "\n",
              "    .dataframe thead th {\n",
              "        text-align: right;\n",
              "    }\n",
              "</style>\n",
              "<table border=\"1\" class=\"dataframe\">\n",
              "  <thead>\n",
              "    <tr style=\"text-align: right;\">\n",
              "      <th></th>\n",
              "      <th>Unnamed: 0</th>\n",
              "      <th>employee_id</th>\n",
              "      <th>department</th>\n",
              "      <th>education</th>\n",
              "      <th>gender</th>\n",
              "      <th>no_of_trainings</th>\n",
              "      <th>age</th>\n",
              "      <th>last_promotion_rating</th>\n",
              "      <th>employee_since_years</th>\n",
              "      <th>all_tasks_completed</th>\n",
              "      <th>training_marks</th>\n",
              "      <th>is_promoted</th>\n",
              "    </tr>\n",
              "  </thead>\n",
              "  <tbody>\n",
              "  </tbody>\n",
              "</table>\n",
              "</div>"
            ],
            "text/plain": [
              "Empty DataFrame\n",
              "Columns: [Unnamed: 0, employee_id, department, education, gender, no_of_trainings, age, last_promotion_rating, employee_since_years, all_tasks_completed, training_marks, is_promoted]\n",
              "Index: []"
            ]
          },
          "metadata": {
            "tags": []
          },
          "execution_count": 66
        }
      ]
    },
    {
      "cell_type": "code",
      "metadata": {
        "colab": {
          "base_uri": "https://localhost:8080/",
          "height": 406
        },
        "id": "xjz4TB2ZmmKi",
        "outputId": "4022c7ec-52ca-4a1c-e538-f6865e945424"
      },
      "source": [
        "rd = rd.drop({'Unnamed: 0','employee_id'}, axis=1)\n",
        "display(rd)"
      ],
      "execution_count": 67,
      "outputs": [
        {
          "output_type": "display_data",
          "data": {
            "text/html": [
              "<div>\n",
              "<style scoped>\n",
              "    .dataframe tbody tr th:only-of-type {\n",
              "        vertical-align: middle;\n",
              "    }\n",
              "\n",
              "    .dataframe tbody tr th {\n",
              "        vertical-align: top;\n",
              "    }\n",
              "\n",
              "    .dataframe thead th {\n",
              "        text-align: right;\n",
              "    }\n",
              "</style>\n",
              "<table border=\"1\" class=\"dataframe\">\n",
              "  <thead>\n",
              "    <tr style=\"text-align: right;\">\n",
              "      <th></th>\n",
              "      <th>department</th>\n",
              "      <th>education</th>\n",
              "      <th>gender</th>\n",
              "      <th>no_of_trainings</th>\n",
              "      <th>age</th>\n",
              "      <th>last_promotion_rating</th>\n",
              "      <th>employee_since_years</th>\n",
              "      <th>all_tasks_completed</th>\n",
              "      <th>training_marks</th>\n",
              "      <th>is_promoted</th>\n",
              "    </tr>\n",
              "  </thead>\n",
              "  <tbody>\n",
              "    <tr>\n",
              "      <th>0</th>\n",
              "      <td>Sales &amp; Marketing</td>\n",
              "      <td>Master's &amp; above</td>\n",
              "      <td>f</td>\n",
              "      <td>1</td>\n",
              "      <td>35</td>\n",
              "      <td>5</td>\n",
              "      <td>8</td>\n",
              "      <td>1</td>\n",
              "      <td>49</td>\n",
              "      <td>0</td>\n",
              "    </tr>\n",
              "    <tr>\n",
              "      <th>1</th>\n",
              "      <td>Operations</td>\n",
              "      <td>Bachelor's</td>\n",
              "      <td>m</td>\n",
              "      <td>1</td>\n",
              "      <td>30</td>\n",
              "      <td>5</td>\n",
              "      <td>4</td>\n",
              "      <td>0</td>\n",
              "      <td>60</td>\n",
              "      <td>0</td>\n",
              "    </tr>\n",
              "    <tr>\n",
              "      <th>2</th>\n",
              "      <td>Sales &amp; Marketing</td>\n",
              "      <td>Bachelor's</td>\n",
              "      <td>m</td>\n",
              "      <td>1</td>\n",
              "      <td>34</td>\n",
              "      <td>3</td>\n",
              "      <td>7</td>\n",
              "      <td>0</td>\n",
              "      <td>50</td>\n",
              "      <td>0</td>\n",
              "    </tr>\n",
              "    <tr>\n",
              "      <th>3</th>\n",
              "      <td>Sales &amp; Marketing</td>\n",
              "      <td>Bachelor's</td>\n",
              "      <td>m</td>\n",
              "      <td>2</td>\n",
              "      <td>39</td>\n",
              "      <td>1</td>\n",
              "      <td>10</td>\n",
              "      <td>0</td>\n",
              "      <td>50</td>\n",
              "      <td>0</td>\n",
              "    </tr>\n",
              "    <tr>\n",
              "      <th>4</th>\n",
              "      <td>Technology</td>\n",
              "      <td>Bachelor's</td>\n",
              "      <td>m</td>\n",
              "      <td>1</td>\n",
              "      <td>45</td>\n",
              "      <td>3</td>\n",
              "      <td>2</td>\n",
              "      <td>0</td>\n",
              "      <td>73</td>\n",
              "      <td>0</td>\n",
              "    </tr>\n",
              "    <tr>\n",
              "      <th>...</th>\n",
              "      <td>...</td>\n",
              "      <td>...</td>\n",
              "      <td>...</td>\n",
              "      <td>...</td>\n",
              "      <td>...</td>\n",
              "      <td>...</td>\n",
              "      <td>...</td>\n",
              "      <td>...</td>\n",
              "      <td>...</td>\n",
              "      <td>...</td>\n",
              "    </tr>\n",
              "    <tr>\n",
              "      <th>48655</th>\n",
              "      <td>Sales &amp; Marketing</td>\n",
              "      <td>Bachelor's</td>\n",
              "      <td>m</td>\n",
              "      <td>2</td>\n",
              "      <td>31</td>\n",
              "      <td>1</td>\n",
              "      <td>2</td>\n",
              "      <td>0</td>\n",
              "      <td>49</td>\n",
              "      <td>0</td>\n",
              "    </tr>\n",
              "    <tr>\n",
              "      <th>48656</th>\n",
              "      <td>Technology</td>\n",
              "      <td>Bachelor's</td>\n",
              "      <td>m</td>\n",
              "      <td>1</td>\n",
              "      <td>48</td>\n",
              "      <td>3</td>\n",
              "      <td>17</td>\n",
              "      <td>0</td>\n",
              "      <td>78</td>\n",
              "      <td>0</td>\n",
              "    </tr>\n",
              "    <tr>\n",
              "      <th>48657</th>\n",
              "      <td>Operations</td>\n",
              "      <td>Master's &amp; above</td>\n",
              "      <td>f</td>\n",
              "      <td>1</td>\n",
              "      <td>37</td>\n",
              "      <td>2</td>\n",
              "      <td>6</td>\n",
              "      <td>0</td>\n",
              "      <td>56</td>\n",
              "      <td>0</td>\n",
              "    </tr>\n",
              "    <tr>\n",
              "      <th>48658</th>\n",
              "      <td>Analytics</td>\n",
              "      <td>Bachelor's</td>\n",
              "      <td>m</td>\n",
              "      <td>1</td>\n",
              "      <td>27</td>\n",
              "      <td>5</td>\n",
              "      <td>3</td>\n",
              "      <td>1</td>\n",
              "      <td>79</td>\n",
              "      <td>0</td>\n",
              "    </tr>\n",
              "    <tr>\n",
              "      <th>48659</th>\n",
              "      <td>HR</td>\n",
              "      <td>Bachelor's</td>\n",
              "      <td>m</td>\n",
              "      <td>1</td>\n",
              "      <td>27</td>\n",
              "      <td>1</td>\n",
              "      <td>5</td>\n",
              "      <td>0</td>\n",
              "      <td>49</td>\n",
              "      <td>0</td>\n",
              "    </tr>\n",
              "  </tbody>\n",
              "</table>\n",
              "<p>48660 rows × 10 columns</p>\n",
              "</div>"
            ],
            "text/plain": [
              "              department         education  ... training_marks  is_promoted\n",
              "0      Sales & Marketing  Master's & above  ...             49            0\n",
              "1             Operations        Bachelor's  ...             60            0\n",
              "2      Sales & Marketing        Bachelor's  ...             50            0\n",
              "3      Sales & Marketing        Bachelor's  ...             50            0\n",
              "4             Technology        Bachelor's  ...             73            0\n",
              "...                  ...               ...  ...            ...          ...\n",
              "48655  Sales & Marketing        Bachelor's  ...             49            0\n",
              "48656         Technology        Bachelor's  ...             78            0\n",
              "48657         Operations  Master's & above  ...             56            0\n",
              "48658          Analytics        Bachelor's  ...             79            0\n",
              "48659                 HR        Bachelor's  ...             49            0\n",
              "\n",
              "[48660 rows x 10 columns]"
            ]
          },
          "metadata": {
            "tags": []
          }
        }
      ]
    },
    {
      "cell_type": "code",
      "metadata": {
        "colab": {
          "base_uri": "https://localhost:8080/"
        },
        "id": "-rspB2PPm2SO",
        "outputId": "3aae0306-50a8-415b-eaf7-8287525de97f"
      },
      "source": [
        "rd.department.value_counts()"
      ],
      "execution_count": 68,
      "outputs": [
        {
          "output_type": "execute_result",
          "data": {
            "text/plain": [
              "Sales & Marketing    14239\n",
              "Operations           10547\n",
              "Procurement           6641\n",
              "Technology            6502\n",
              "Analytics             4610\n",
              "Finance               2219\n",
              "HR                    2142\n",
              "R&D                    893\n",
              "Legal                  867\n",
              "Name: department, dtype: int64"
            ]
          },
          "metadata": {
            "tags": []
          },
          "execution_count": 68
        }
      ]
    },
    {
      "cell_type": "code",
      "metadata": {
        "colab": {
          "base_uri": "https://localhost:8080/"
        },
        "id": "yMRTH7lHnmgy",
        "outputId": "f663f0b4-1902-4753-f796-ce2ba95afa1a"
      },
      "source": [
        "rd.education.value_counts()"
      ],
      "execution_count": 69,
      "outputs": [
        {
          "output_type": "execute_result",
          "data": {
            "text/plain": [
              "Bachelor's          33404\n",
              "Master's & above    14798\n",
              "Below Secondary       458\n",
              "Name: education, dtype: int64"
            ]
          },
          "metadata": {
            "tags": []
          },
          "execution_count": 69
        }
      ]
    },
    {
      "cell_type": "code",
      "metadata": {
        "colab": {
          "base_uri": "https://localhost:8080/"
        },
        "id": "ssZ_sYe0nqCv",
        "outputId": "48c36b65-d968-4a09-d06d-090b742d3c31"
      },
      "source": [
        "rd.gender.value_counts()"
      ],
      "execution_count": 70,
      "outputs": [
        {
          "output_type": "execute_result",
          "data": {
            "text/plain": [
              "m    33852\n",
              "f    14808\n",
              "Name: gender, dtype: int64"
            ]
          },
          "metadata": {
            "tags": []
          },
          "execution_count": 70
        }
      ]
    },
    {
      "cell_type": "code",
      "metadata": {
        "colab": {
          "base_uri": "https://localhost:8080/"
        },
        "id": "oix7T6JfoE13",
        "outputId": "ef1388e1-9098-4d2e-c9dc-3ed7d3833bac"
      },
      "source": [
        "rd.columns"
      ],
      "execution_count": 71,
      "outputs": [
        {
          "output_type": "execute_result",
          "data": {
            "text/plain": [
              "Index(['department', 'education', 'gender', 'no_of_trainings', 'age',\n",
              "       'last_promotion_rating', 'employee_since_years', 'all_tasks_completed',\n",
              "       'training_marks', 'is_promoted'],\n",
              "      dtype='object')"
            ]
          },
          "metadata": {
            "tags": []
          },
          "execution_count": 71
        }
      ]
    },
    {
      "cell_type": "code",
      "metadata": {
        "id": "oErfqj8snt2y"
      },
      "source": [
        "rd_con = rd[{'no_of_trainings', 'age', 'last_promotion_rating', 'employee_since_years', 'all_tasks_completed', 'training_marks'}]"
      ],
      "execution_count": 72,
      "outputs": []
    },
    {
      "cell_type": "code",
      "metadata": {
        "colab": {
          "base_uri": "https://localhost:8080/",
          "height": 1000
        },
        "id": "jAbvg3hboGAB",
        "outputId": "d9656c53-e6a0-48cb-c07a-d9caf79a7403"
      },
      "source": [
        "for var in rd_con.columns:\n",
        "    sns.boxplot(data=rd[var],orient='h')\n",
        "    plt.xlabel(var)\n",
        "    plt.show()\n",
        "    sns.distplot(rd[var],hist_kws = { 'label': var},kde_kws={\"lw\": 3, \"label\": \"KDE\"})\n",
        "    plt.xlabel(var)\n",
        "    plt.show()"
      ],
      "execution_count": 73,
      "outputs": [
        {
          "output_type": "display_data",
          "data": {
            "image/png": "[encoded data removed]",
            "text/plain": [
              "<Figure size 748.8x514.8 with 1 Axes>"
            ]
          },
          "metadata": {
            "tags": [],
            "needs_background": "light"
          }
        },
        {
          "output_type": "display_data",
          "data": {
            "image/png": "[encoded data removed]",
            "text/plain": [
              "<Figure size 748.8x514.8 with 1 Axes>"
            ]
          },
          "metadata": {
            "tags": [],
            "needs_background": "light"
          }
        },
        {
          "output_type": "display_data",
          "data": {
            "image/png": "[encoded data removed]",
            "text/plain": [
              "<Figure size 748.8x514.8 with 1 Axes>"
            ]
          },
          "metadata": {
            "tags": [],
            "needs_background": "light"
          }
        },
        {
          "output_type": "display_data",
          "data": {
            "image/png": "[encoded data removed]",
            "text/plain": [
              "<Figure size 748.8x514.8 with 1 Axes>"
            ]
          },
          "metadata": {
            "tags": [],
            "needs_background": "light"
          }
        },
        {
          "output_type": "display_data",
          "data": {
            "image/png": "[encoded data removed]",
            "text/plain": [
              "<Figure size 748.8x514.8 with 1 Axes>"
            ]
          },
          "metadata": {
            "tags": [],
            "needs_background": "light"
          }
        },
        {
          "output_type": "display_data",
          "data": {
            "image/png": "[encoded data removed]",
            "text/plain": [
              "<Figure size 748.8x514.8 with 1 Axes>"
            ]
          },
          "metadata": {
            "tags": [],
            "needs_background": "light"
          }
        },
        {
          "output_type": "display_data",
          "data": {
            "image/png": "[encoded data removed]",
            "text/plain": [
              "<Figure size 748.8x514.8 with 1 Axes>"
            ]
          },
          "metadata": {
            "tags": [],
            "needs_background": "light"
          }
        },
        {
          "output_type": "display_data",
          "data": {
            "image/png": "[encoded data removed]",
            "text/plain": [
              "<Figure size 748.8x514.8 with 1 Axes>"
            ]
          },
          "metadata": {
            "tags": [],
            "needs_background": "light"
          }
        },
        {
          "output_type": "display_data",
          "data": {
            "image/png": "[encoded data removed]",
            "text/plain": [
              "<Figure size 748.8x514.8 with 1 Axes>"
            ]
          },
          "metadata": {
            "tags": [],
            "needs_background": "light"
          }
        },
        {
          "output_type": "display_data",
          "data": {
            "image/png": "[encoded data removed]",
            "text/plain": [
              "<Figure size 748.8x514.8 with 1 Axes>"
            ]
          },
          "metadata": {
            "tags": [],
            "needs_background": "light"
          }
        },
        {
          "output_type": "display_data",
          "data": {
            "image/png": "[encoded data removed]",
            "text/plain": [
              "<Figure size 748.8x514.8 with 1 Axes>"
            ]
          },
          "metadata": {
            "tags": [],
            "needs_background": "light"
          }
        },
        {
          "output_type": "display_data",
          "data": {
            "image/png": "[encoded data removed]",
            "text/plain": [
              "<Figure size 748.8x514.8 with 1 Axes>"
            ]
          },
          "metadata": {
            "tags": [],
            "needs_background": "light"
          }
        }
      ]
    },
    {
      "cell_type": "code",
      "metadata": {
        "colab": {
          "base_uri": "https://localhost:8080/"
        },
        "id": "PgDnhqKJokLz",
        "outputId": "6b0c807d-cd1e-4b42-d23c-69d9725de5d1"
      },
      "source": [
        "for var in rd.columns: \n",
        "    if rd[var].dtype == 'object': \n",
        "        print('\\n')\n",
        "        print('var:',var)\n",
        "        print(pd.Categorical(rd[var].unique()))\n",
        "        print(pd.Categorical(rd[var].unique()).codes)\n",
        "        rd[var] = pd.Categorical(rd[var]).codes"
      ],
      "execution_count": 74,
      "outputs": [
        {
          "output_type": "stream",
          "text": [
            "\n",
            "\n",
            "var: department\n",
            "['Sales & Marketing', 'Operations', 'Technology', 'Analytics', 'R&D', 'Procurement', 'Finance', 'HR', 'Legal']\n",
            "Categories (9, object): ['Analytics', 'Finance', 'HR', 'Legal', ..., 'Procurement', 'R&D',\n",
            "                         'Sales & Marketing', 'Technology']\n",
            "[7 4 8 0 6 5 1 2 3]\n",
            "\n",
            "\n",
            "var: education\n",
            "['Master's & above', 'Bachelor's', 'Below Secondary']\n",
            "Categories (3, object): ['Bachelor's', 'Below Secondary', 'Master's & above']\n",
            "[2 0 1]\n",
            "\n",
            "\n",
            "var: gender\n",
            "['f', 'm']\n",
            "Categories (2, object): ['f', 'm']\n",
            "[0 1]\n"
          ],
          "name": "stdout"
        }
      ]
    },
    {
      "cell_type": "code",
      "metadata": {
        "colab": {
          "base_uri": "https://localhost:8080/",
          "height": 406
        },
        "id": "8JKlY4V80QPI",
        "outputId": "e183d041-8658-46af-c93e-7cb5a6d0c87a"
      },
      "source": [
        "display(rd)"
      ],
      "execution_count": 75,
      "outputs": [
        {
          "output_type": "display_data",
          "data": {
            "text/html": [
              "<div>\n",
              "<style scoped>\n",
              "    .dataframe tbody tr th:only-of-type {\n",
              "        vertical-align: middle;\n",
              "    }\n",
              "\n",
              "    .dataframe tbody tr th {\n",
              "        vertical-align: top;\n",
              "    }\n",
              "\n",
              "    .dataframe thead th {\n",
              "        text-align: right;\n",
              "    }\n",
              "</style>\n",
              "<table border=\"1\" class=\"dataframe\">\n",
              "  <thead>\n",
              "    <tr style=\"text-align: right;\">\n",
              "      <th></th>\n",
              "      <th>department</th>\n",
              "      <th>education</th>\n",
              "      <th>gender</th>\n",
              "      <th>no_of_trainings</th>\n",
              "      <th>age</th>\n",
              "      <th>last_promotion_rating</th>\n",
              "      <th>employee_since_years</th>\n",
              "      <th>all_tasks_completed</th>\n",
              "      <th>training_marks</th>\n",
              "      <th>is_promoted</th>\n",
              "    </tr>\n",
              "  </thead>\n",
              "  <tbody>\n",
              "    <tr>\n",
              "      <th>0</th>\n",
              "      <td>7</td>\n",
              "      <td>2</td>\n",
              "      <td>0</td>\n",
              "      <td>1</td>\n",
              "      <td>35</td>\n",
              "      <td>5</td>\n",
              "      <td>8</td>\n",
              "      <td>1</td>\n",
              "      <td>49</td>\n",
              "      <td>0</td>\n",
              "    </tr>\n",
              "    <tr>\n",
              "      <th>1</th>\n",
              "      <td>4</td>\n",
              "      <td>0</td>\n",
              "      <td>1</td>\n",
              "      <td>1</td>\n",
              "      <td>30</td>\n",
              "      <td>5</td>\n",
              "      <td>4</td>\n",
              "      <td>0</td>\n",
              "      <td>60</td>\n",
              "      <td>0</td>\n",
              "    </tr>\n",
              "    <tr>\n",
              "      <th>2</th>\n",
              "      <td>7</td>\n",
              "      <td>0</td>\n",
              "      <td>1</td>\n",
              "      <td>1</td>\n",
              "      <td>34</td>\n",
              "      <td>3</td>\n",
              "      <td>7</td>\n",
              "      <td>0</td>\n",
              "      <td>50</td>\n",
              "      <td>0</td>\n",
              "    </tr>\n",
              "    <tr>\n",
              "      <th>3</th>\n",
              "      <td>7</td>\n",
              "      <td>0</td>\n",
              "      <td>1</td>\n",
              "      <td>2</td>\n",
              "      <td>39</td>\n",
              "      <td>1</td>\n",
              "      <td>10</td>\n",
              "      <td>0</td>\n",
              "      <td>50</td>\n",
              "      <td>0</td>\n",
              "    </tr>\n",
              "    <tr>\n",
              "      <th>4</th>\n",
              "      <td>8</td>\n",
              "      <td>0</td>\n",
              "      <td>1</td>\n",
              "      <td>1</td>\n",
              "      <td>45</td>\n",
              "      <td>3</td>\n",
              "      <td>2</td>\n",
              "      <td>0</td>\n",
              "      <td>73</td>\n",
              "      <td>0</td>\n",
              "    </tr>\n",
              "    <tr>\n",
              "      <th>...</th>\n",
              "      <td>...</td>\n",
              "      <td>...</td>\n",
              "      <td>...</td>\n",
              "      <td>...</td>\n",
              "      <td>...</td>\n",
              "      <td>...</td>\n",
              "      <td>...</td>\n",
              "      <td>...</td>\n",
              "      <td>...</td>\n",
              "      <td>...</td>\n",
              "    </tr>\n",
              "    <tr>\n",
              "      <th>48655</th>\n",
              "      <td>7</td>\n",
              "      <td>0</td>\n",
              "      <td>1</td>\n",
              "      <td>2</td>\n",
              "      <td>31</td>\n",
              "      <td>1</td>\n",
              "      <td>2</td>\n",
              "      <td>0</td>\n",
              "      <td>49</td>\n",
              "      <td>0</td>\n",
              "    </tr>\n",
              "    <tr>\n",
              "      <th>48656</th>\n",
              "      <td>8</td>\n",
              "      <td>0</td>\n",
              "      <td>1</td>\n",
              "      <td>1</td>\n",
              "      <td>48</td>\n",
              "      <td>3</td>\n",
              "      <td>17</td>\n",
              "      <td>0</td>\n",
              "      <td>78</td>\n",
              "      <td>0</td>\n",
              "    </tr>\n",
              "    <tr>\n",
              "      <th>48657</th>\n",
              "      <td>4</td>\n",
              "      <td>2</td>\n",
              "      <td>0</td>\n",
              "      <td>1</td>\n",
              "      <td>37</td>\n",
              "      <td>2</td>\n",
              "      <td>6</td>\n",
              "      <td>0</td>\n",
              "      <td>56</td>\n",
              "      <td>0</td>\n",
              "    </tr>\n",
              "    <tr>\n",
              "      <th>48658</th>\n",
              "      <td>0</td>\n",
              "      <td>0</td>\n",
              "      <td>1</td>\n",
              "      <td>1</td>\n",
              "      <td>27</td>\n",
              "      <td>5</td>\n",
              "      <td>3</td>\n",
              "      <td>1</td>\n",
              "      <td>79</td>\n",
              "      <td>0</td>\n",
              "    </tr>\n",
              "    <tr>\n",
              "      <th>48659</th>\n",
              "      <td>2</td>\n",
              "      <td>0</td>\n",
              "      <td>1</td>\n",
              "      <td>1</td>\n",
              "      <td>27</td>\n",
              "      <td>1</td>\n",
              "      <td>5</td>\n",
              "      <td>0</td>\n",
              "      <td>49</td>\n",
              "      <td>0</td>\n",
              "    </tr>\n",
              "  </tbody>\n",
              "</table>\n",
              "<p>48660 rows × 10 columns</p>\n",
              "</div>"
            ],
            "text/plain": [
              "       department  education  ...  training_marks  is_promoted\n",
              "0               7          2  ...              49            0\n",
              "1               4          0  ...              60            0\n",
              "2               7          0  ...              50            0\n",
              "3               7          0  ...              50            0\n",
              "4               8          0  ...              73            0\n",
              "...           ...        ...  ...             ...          ...\n",
              "48655           7          0  ...              49            0\n",
              "48656           8          0  ...              78            0\n",
              "48657           4          2  ...              56            0\n",
              "48658           0          0  ...              79            0\n",
              "48659           2          0  ...              49            0\n",
              "\n",
              "[48660 rows x 10 columns]"
            ]
          },
          "metadata": {
            "tags": []
          }
        }
      ]
    },
    {
      "cell_type": "code",
      "metadata": {
        "colab": {
          "base_uri": "https://localhost:8080/"
        },
        "id": "k-62WFlWELm5",
        "outputId": "41760ffe-6711-4c72-f58b-b26b57d3fd01"
      },
      "source": [
        "rd['is_promoted'].value_counts(normalize=True)"
      ],
      "execution_count": 76,
      "outputs": [
        {
          "output_type": "execute_result",
          "data": {
            "text/plain": [
              "0    0.913029\n",
              "1    0.086971\n",
              "Name: is_promoted, dtype: float64"
            ]
          },
          "metadata": {
            "tags": []
          },
          "execution_count": 76
        }
      ]
    },
    {
      "cell_type": "code",
      "metadata": {
        "id": "50UqVZao0T_9"
      },
      "source": [
        "X = rd.drop({'is_promoted'}, axis=1)\n",
        "\n",
        "y = rd.pop('is_promoted')"
      ],
      "execution_count": 77,
      "outputs": []
    },
    {
      "cell_type": "code",
      "metadata": {
        "id": "TZ8QIv0Q0rrd"
      },
      "source": [
        "X_train, X_test, train_labels, test_labels = train_test_split(X,y,test_size=0.1, random_state=1)"
      ],
      "execution_count": 106,
      "outputs": []
    },
    {
      "cell_type": "code",
      "metadata": {
        "colab": {
          "base_uri": "https://localhost:8080/"
        },
        "id": "jv8DlZOg0qiG",
        "outputId": "de2c74db-e7ee-48ae-9882-c55e423960f3"
      },
      "source": [
        "rf = RandomForestClassifier()\n",
        "rf.fit(X_train, train_labels)"
      ],
      "execution_count": 79,
      "outputs": [
        {
          "output_type": "execute_result",
          "data": {
            "text/plain": [
              "RandomForestClassifier(bootstrap=True, ccp_alpha=0.0, class_weight=None,\n",
              "                       criterion='gini', max_depth=None, max_features='auto',\n",
              "                       max_leaf_nodes=None, max_samples=None,\n",
              "                       min_impurity_decrease=0.0, min_impurity_split=None,\n",
              "                       min_samples_leaf=1, min_samples_split=2,\n",
              "                       min_weight_fraction_leaf=0.0, n_estimators=100,\n",
              "                       n_jobs=None, oob_score=False, random_state=None,\n",
              "                       verbose=0, warm_start=False)"
            ]
          },
          "metadata": {
            "tags": []
          },
          "execution_count": 79
        }
      ]
    },
    {
      "cell_type": "code",
      "metadata": {
        "colab": {
          "base_uri": "https://localhost:8080/",
          "height": 1000
        },
        "id": "vjqVeeck09Vj",
        "outputId": "817f6bcc-a255-4820-e4a8-c7fcd8d68c48"
      },
      "source": [
        "importances = pd.DataFrame(rf.feature_importances_, columns = ['Imp'], index = X_train.columns)\n",
        "importances['features'] = pd.DataFrame(rf.feature_importances_, columns = ['Imp'], index = X_train.columns).index\n",
        "importances.reset_index\n",
        "\n",
        "importances = importances.sort_values(by='Imp', ascending=False)\n",
        "importances.set_index(np.arange(0,importances.shape[0]),inplace = True)\n",
        "\n",
        "importances['cumsum'] = np.cumsum(importances.Imp)\n",
        "x_vals = list(range(len(importances)))\n",
        "\n",
        "sns.barplot(data = importances, x='features', y='Imp')\n",
        "plt.xticks(x_vals, importances['features'], rotation='vertical')\n",
        "plt.ylabel('Importance'); plt.xlabel('Features'); plt.title('Feature Importance');\n",
        "plt.show()\n",
        "\n",
        "plt.plot(x_vals, importances['cumsum'], 'g-')\n",
        "plt.hlines(y = 0.95, xmin=0, xmax=len(importances), color = 'r', linestyles = 'dashed')\n",
        "plt.xticks(x_vals, importances['features'], rotation='vertical')\n",
        "plt.ylabel('Importance'); plt.xlabel('Features'); plt.title('Cumulative Importance');\n",
        "plt.show()"
      ],
      "execution_count": 80,
      "outputs": [
        {
          "output_type": "display_data",
          "data": {
            "image/png": "[encoded data removed]",
            "text/plain": [
              "<Figure size 748.8x514.8 with 1 Axes>"
            ]
          },
          "metadata": {
            "tags": [],
            "needs_background": "light"
          }
        },
        {
          "output_type": "display_data",
          "data": {
            "image/png": "[encoded data removed]",
            "text/plain": [
              "<Figure size 748.8x514.8 with 1 Axes>"
            ]
          },
          "metadata": {
            "tags": [],
            "needs_background": "light"
          }
        }
      ]
    },
    {
      "cell_type": "code",
      "metadata": {
        "id": "NRlRCTnb1B5E"
      },
      "source": [
        "rf_param_grid = {\n",
        "    #'max_depth' : [7],\n",
        "    'min_samples_leaf' : [20],\n",
        "    'min_samples_split' : [10],\n",
        "    'max_features' : [3],\n",
        "    'n_estimators' : [1000]\n",
        "}"
      ],
      "execution_count": 111,
      "outputs": []
    },
    {
      "cell_type": "code",
      "metadata": {
        "colab": {
          "base_uri": "https://localhost:8080/"
        },
        "id": "H_ZS-h5H1uvF",
        "outputId": "97c47f06-78da-44af-cdb2-376bf67619bc"
      },
      "source": [
        "rf_ht = RandomForestClassifier()\n",
        "rf_gs = GridSearchCV(estimator=rf_ht, param_grid=rf_param_grid, cv = 3)\n",
        "rf_gs.fit(X_train, train_labels)"
      ],
      "execution_count": 112,
      "outputs": [
        {
          "output_type": "execute_result",
          "data": {
            "text/plain": [
              "GridSearchCV(cv=3, error_score=nan,\n",
              "             estimator=RandomForestClassifier(bootstrap=True, ccp_alpha=0.0,\n",
              "                                              class_weight=None,\n",
              "                                              criterion='gini', max_depth=None,\n",
              "                                              max_features='auto',\n",
              "                                              max_leaf_nodes=None,\n",
              "                                              max_samples=None,\n",
              "                                              min_impurity_decrease=0.0,\n",
              "                                              min_impurity_split=None,\n",
              "                                              min_samples_leaf=1,\n",
              "                                              min_samples_split=2,\n",
              "                                              min_weight_fraction_leaf=0.0,\n",
              "                                              n_estimators=100, n_jobs=None,\n",
              "                                              oob_score=False,\n",
              "                                              random_state=None, verbose=0,\n",
              "                                              warm_start=False),\n",
              "             iid='deprecated', n_jobs=None,\n",
              "             param_grid={'max_features': [3], 'min_samples_leaf': [20],\n",
              "                         'min_samples_split': [10], 'n_estimators': [1000]},\n",
              "             pre_dispatch='2*n_jobs', refit=True, return_train_score=False,\n",
              "             scoring=None, verbose=0)"
            ]
          },
          "metadata": {
            "tags": []
          },
          "execution_count": 112
        }
      ]
    },
    {
      "cell_type": "code",
      "metadata": {
        "colab": {
          "base_uri": "https://localhost:8080/"
        },
        "id": "WV0rQeHe2KqZ",
        "outputId": "fabfd689-b855-474a-e785-92e49655b07c"
      },
      "source": [
        "print(rf_gs.best_params_)\n",
        "best_rf = rf_gs.best_estimator_\n",
        "ytrain_predict = best_rf.predict(X_train)\n",
        "ytest_predict = best_rf.predict(X_test)"
      ],
      "execution_count": 113,
      "outputs": [
        {
          "output_type": "stream",
          "text": [
            "{'max_features': 3, 'min_samples_leaf': 20, 'min_samples_split': 10, 'n_estimators': 1000}\n"
          ],
          "name": "stdout"
        }
      ]
    },
    {
      "cell_type": "code",
      "metadata": {
        "colab": {
          "base_uri": "https://localhost:8080/"
        },
        "id": "QXa2bplwCI-o",
        "outputId": "fdf0e5f8-228e-43a5-9a5c-4771602a18bc"
      },
      "source": [
        "#{'max_depth': 7, 'max_features': 3, 'min_samples_leaf': 100, 'min_samples_split': 60, 'n_estimators': 100}\n",
        "#Train data Confusion Matrix\n",
        "print('Random Forest stats on train data:')\n",
        "print(confusion_matrix(train_labels, ytrain_predict))\n",
        "#Train Data Accuracy\n",
        "print('Accuracy score : %.1f percent' % (best_rf.score(X_train,train_labels)*100) )\n",
        "print(classification_report(train_labels, ytrain_predict))\n",
        "print('\\n')\n",
        "#Test data Confusion Matrix\n",
        "print('Random Forest stats on test data:')\n",
        "print(confusion_matrix(test_labels, ytest_predict))\n",
        "#Test Data Accuracy\n",
        "print('Accuracy score : %.1f percent' % (best_rf.score(X_test,test_labels)*100) )\n",
        "print(classification_report(test_labels, ytest_predict))"
      ],
      "execution_count": 84,
      "outputs": [
        {
          "output_type": "stream",
          "text": [
            "Random Forest stats on train data:\n",
            "[[31079    44]\n",
            " [ 2577   362]]\n",
            "Accuracy score : 92.3 percent\n",
            "              precision    recall  f1-score   support\n",
            "\n",
            "           0       0.92      1.00      0.96     31123\n",
            "           1       0.89      0.12      0.22      2939\n",
            "\n",
            "    accuracy                           0.92     34062\n",
            "   macro avg       0.91      0.56      0.59     34062\n",
            "weighted avg       0.92      0.92      0.90     34062\n",
            "\n",
            "\n",
            "\n",
            "Random Forest stats on test data:\n",
            "[[13282    23]\n",
            " [ 1131   162]]\n",
            "Accuracy score : 92.1 percent\n",
            "              precision    recall  f1-score   support\n",
            "\n",
            "           0       0.92      1.00      0.96     13305\n",
            "           1       0.88      0.13      0.22      1293\n",
            "\n",
            "    accuracy                           0.92     14598\n",
            "   macro avg       0.90      0.56      0.59     14598\n",
            "weighted avg       0.92      0.92      0.89     14598\n",
            "\n"
          ],
          "name": "stdout"
        }
      ]
    },
    {
      "cell_type": "code",
      "metadata": {
        "colab": {
          "base_uri": "https://localhost:8080/"
        },
        "id": "HQQApsiiCWIh",
        "outputId": "005efa94-f7eb-4242-babc-9e270e187810"
      },
      "source": [
        "#{'max_features': 3, 'min_samples_leaf': 50, 'min_samples_split': 60, 'n_estimators': 300}\n",
        "#Train data Confusion Matrix\n",
        "print('Random Forest stats on train data:')\n",
        "print(confusion_matrix(train_labels, ytrain_predict))\n",
        "#Train Data Accuracy\n",
        "print('Accuracy score : %.1f percent' % (best_rf.score(X_train,train_labels)*100) )\n",
        "print(classification_report(train_labels, ytrain_predict))\n",
        "print('\\n')\n",
        "#Test data Confusion Matrix\n",
        "print('Random Forest stats on test data:')\n",
        "print(confusion_matrix(test_labels, ytest_predict))\n",
        "#Test Data Accuracy\n",
        "print('Accuracy score : %.1f percent' % (best_rf.score(X_test,test_labels)*100) )\n",
        "print(classification_report(test_labels, ytest_predict))"
      ],
      "execution_count": 85,
      "outputs": [
        {
          "output_type": "stream",
          "text": [
            "Random Forest stats on train data:\n",
            "[[31079    44]\n",
            " [ 2577   362]]\n",
            "Accuracy score : 92.3 percent\n",
            "              precision    recall  f1-score   support\n",
            "\n",
            "           0       0.92      1.00      0.96     31123\n",
            "           1       0.89      0.12      0.22      2939\n",
            "\n",
            "    accuracy                           0.92     34062\n",
            "   macro avg       0.91      0.56      0.59     34062\n",
            "weighted avg       0.92      0.92      0.90     34062\n",
            "\n",
            "\n",
            "\n",
            "Random Forest stats on test data:\n",
            "[[13282    23]\n",
            " [ 1131   162]]\n",
            "Accuracy score : 92.1 percent\n",
            "              precision    recall  f1-score   support\n",
            "\n",
            "           0       0.92      1.00      0.96     13305\n",
            "           1       0.88      0.13      0.22      1293\n",
            "\n",
            "    accuracy                           0.92     14598\n",
            "   macro avg       0.90      0.56      0.59     14598\n",
            "weighted avg       0.92      0.92      0.89     14598\n",
            "\n"
          ],
          "name": "stdout"
        }
      ]
    },
    {
      "cell_type": "code",
      "metadata": {
        "colab": {
          "base_uri": "https://localhost:8080/"
        },
        "id": "-jz0VEiFED-4",
        "outputId": "f1a26c98-4cf3-4d1f-aa6f-781651d2c3c5"
      },
      "source": [
        "#{'max_features': 3, 'min_samples_split': 30, 'n_estimators': 300}\n",
        "#Train data Confusion Matrix\n",
        "print('Random Forest stats on train data:')\n",
        "print(confusion_matrix(train_labels, ytrain_predict))\n",
        "#Train Data Accuracy\n",
        "print('Accuracy score : %.1f percent' % (best_rf.score(X_train,train_labels)*100) )\n",
        "print(classification_report(train_labels, ytrain_predict))\n",
        "print('\\n')\n",
        "#Test data Confusion Matrix\n",
        "print('Random Forest stats on test data:')\n",
        "print(confusion_matrix(test_labels, ytest_predict))\n",
        "#Test Data Accuracy\n",
        "print('Accuracy score : %.1f percent' % (best_rf.score(X_test,test_labels)*100) )\n",
        "print(classification_report(test_labels, ytest_predict))"
      ],
      "execution_count": 89,
      "outputs": [
        {
          "output_type": "stream",
          "text": [
            "Random Forest stats on train data:\n",
            "[[31086    37]\n",
            " [ 1963   976]]\n",
            "Accuracy score : 94.1 percent\n",
            "              precision    recall  f1-score   support\n",
            "\n",
            "           0       0.94      1.00      0.97     31123\n",
            "           1       0.96      0.33      0.49      2939\n",
            "\n",
            "    accuracy                           0.94     34062\n",
            "   macro avg       0.95      0.67      0.73     34062\n",
            "weighted avg       0.94      0.94      0.93     34062\n",
            "\n",
            "\n",
            "\n",
            "Random Forest stats on test data:\n",
            "[[13282    23]\n",
            " [  901   392]]\n",
            "Accuracy score : 93.7 percent\n",
            "              precision    recall  f1-score   support\n",
            "\n",
            "           0       0.94      1.00      0.97     13305\n",
            "           1       0.94      0.30      0.46      1293\n",
            "\n",
            "    accuracy                           0.94     14598\n",
            "   macro avg       0.94      0.65      0.71     14598\n",
            "weighted avg       0.94      0.94      0.92     14598\n",
            "\n"
          ],
          "name": "stdout"
        }
      ]
    },
    {
      "cell_type": "code",
      "metadata": {
        "colab": {
          "base_uri": "https://localhost:8080/"
        },
        "id": "-rcvQulBFMpB",
        "outputId": "27b5be0f-767e-454f-ecd7-83ddc9a7038b"
      },
      "source": [
        "#{'max_features': 3}\n",
        "#Train data Confusion Matrix\n",
        "print('Random Forest stats on train data:')\n",
        "print(confusion_matrix(train_labels, ytrain_predict))\n",
        "#Train Data Accuracy\n",
        "print('Accuracy score : %.1f percent' % (best_rf.score(X_train,train_labels)*100) )\n",
        "print(classification_report(train_labels, ytrain_predict))\n",
        "print('\\n')\n",
        "#Test data Confusion Matrix\n",
        "print('Random Forest stats on test data:')\n",
        "print(confusion_matrix(test_labels, ytest_predict))\n",
        "#Test Data Accuracy\n",
        "print('Accuracy score : %.1f percent' % (best_rf.score(X_test,test_labels)*100) )\n",
        "print(classification_report(test_labels, ytest_predict))"
      ],
      "execution_count": 93,
      "outputs": [
        {
          "output_type": "stream",
          "text": [
            "Random Forest stats on train data:\n",
            "[[31101    22]\n",
            " [  141  2798]]\n",
            "Accuracy score : 99.5 percent\n",
            "              precision    recall  f1-score   support\n",
            "\n",
            "           0       1.00      1.00      1.00     31123\n",
            "           1       0.99      0.95      0.97      2939\n",
            "\n",
            "    accuracy                           1.00     34062\n",
            "   macro avg       0.99      0.98      0.98     34062\n",
            "weighted avg       1.00      1.00      1.00     34062\n",
            "\n",
            "\n",
            "\n",
            "Random Forest stats on test data:\n",
            "[[13136   169]\n",
            " [  852   441]]\n",
            "Accuracy score : 93.0 percent\n",
            "              precision    recall  f1-score   support\n",
            "\n",
            "           0       0.94      0.99      0.96     13305\n",
            "           1       0.72      0.34      0.46      1293\n",
            "\n",
            "    accuracy                           0.93     14598\n",
            "   macro avg       0.83      0.66      0.71     14598\n",
            "weighted avg       0.92      0.93      0.92     14598\n",
            "\n"
          ],
          "name": "stdout"
        }
      ]
    },
    {
      "cell_type": "code",
      "metadata": {
        "colab": {
          "base_uri": "https://localhost:8080/"
        },
        "id": "aD558N0eFeft",
        "outputId": "9fc607b3-9d0c-4454-97c1-69a312517733"
      },
      "source": [
        "#{'max_features': 3, 'min_samples_split': 30}\n",
        "#Train data Confusion Matrix\n",
        "print('Random Forest stats on train data:')\n",
        "print(confusion_matrix(train_labels, ytrain_predict))\n",
        "#Train Data Accuracy\n",
        "print('Accuracy score : %.1f percent' % (best_rf.score(X_train,train_labels)*100) )\n",
        "print(classification_report(train_labels, ytrain_predict))\n",
        "print('\\n')\n",
        "#Test data Confusion Matrix\n",
        "print('Random Forest stats on test data:')\n",
        "print(confusion_matrix(test_labels, ytest_predict))\n",
        "#Test Data Accuracy\n",
        "print('Accuracy score : %.1f percent' % (best_rf.score(X_test,test_labels)*100) )\n",
        "print(classification_report(test_labels, ytest_predict))"
      ],
      "execution_count": 97,
      "outputs": [
        {
          "output_type": "stream",
          "text": [
            "Random Forest stats on train data:\n",
            "[[31085    38]\n",
            " [ 1965   974]]\n",
            "Accuracy score : 94.1 percent\n",
            "              precision    recall  f1-score   support\n",
            "\n",
            "           0       0.94      1.00      0.97     31123\n",
            "           1       0.96      0.33      0.49      2939\n",
            "\n",
            "    accuracy                           0.94     34062\n",
            "   macro avg       0.95      0.67      0.73     34062\n",
            "weighted avg       0.94      0.94      0.93     34062\n",
            "\n",
            "\n",
            "\n",
            "Random Forest stats on test data:\n",
            "[[13278    27]\n",
            " [  904   389]]\n",
            "Accuracy score : 93.6 percent\n",
            "              precision    recall  f1-score   support\n",
            "\n",
            "           0       0.94      1.00      0.97     13305\n",
            "           1       0.94      0.30      0.46      1293\n",
            "\n",
            "    accuracy                           0.94     14598\n",
            "   macro avg       0.94      0.65      0.71     14598\n",
            "weighted avg       0.94      0.94      0.92     14598\n",
            "\n"
          ],
          "name": "stdout"
        }
      ]
    },
    {
      "cell_type": "code",
      "metadata": {
        "colab": {
          "base_uri": "https://localhost:8080/"
        },
        "id": "OrA1cUNBF3RU",
        "outputId": "7cadc60e-ed06-435d-bf86-4b479edd6612"
      },
      "source": [
        "#{'max_features': 3, 'min_samples_split': 30, 'n_estimators': 1000}\n",
        "#Train data Confusion Matrix\n",
        "print('Random Forest stats on train data:')\n",
        "print(confusion_matrix(train_labels, ytrain_predict))\n",
        "#Train Data Accuracy\n",
        "print('Accuracy score : %.1f percent' % (best_rf.score(X_train,train_labels)*100) )\n",
        "print(classification_report(train_labels, ytrain_predict))\n",
        "print('\\n')\n",
        "#Test data Confusion Matrix\n",
        "print('Random Forest stats on test data:')\n",
        "print(confusion_matrix(test_labels, ytest_predict))\n",
        "#Test Data Accuracy\n",
        "print('Accuracy score : %.1f percent' % (best_rf.score(X_test,test_labels)*100) )\n",
        "print(classification_report(test_labels, ytest_predict))"
      ],
      "execution_count": 101,
      "outputs": [
        {
          "output_type": "stream",
          "text": [
            "Random Forest stats on train data:\n",
            "[[31087    36]\n",
            " [ 1967   972]]\n",
            "Accuracy score : 94.1 percent\n",
            "              precision    recall  f1-score   support\n",
            "\n",
            "           0       0.94      1.00      0.97     31123\n",
            "           1       0.96      0.33      0.49      2939\n",
            "\n",
            "    accuracy                           0.94     34062\n",
            "   macro avg       0.95      0.66      0.73     34062\n",
            "weighted avg       0.94      0.94      0.93     34062\n",
            "\n",
            "\n",
            "\n",
            "Random Forest stats on test data:\n",
            "[[13278    27]\n",
            " [  908   385]]\n",
            "Accuracy score : 93.6 percent\n",
            "              precision    recall  f1-score   support\n",
            "\n",
            "           0       0.94      1.00      0.97     13305\n",
            "           1       0.93      0.30      0.45      1293\n",
            "\n",
            "    accuracy                           0.94     14598\n",
            "   macro avg       0.94      0.65      0.71     14598\n",
            "weighted avg       0.94      0.94      0.92     14598\n",
            "\n"
          ],
          "name": "stdout"
        }
      ]
    },
    {
      "cell_type": "code",
      "metadata": {
        "colab": {
          "base_uri": "https://localhost:8080/"
        },
        "id": "y3ztHBTxGuSi",
        "outputId": "31699d5b-c0c0-497f-da84-258049419f32"
      },
      "source": [
        "#{'max_features': 3, 'min_samples_split': 10, 'n_estimators': 1000}\n",
        "#Train data Confusion Matrix\n",
        "print('Random Forest stats on train data:')\n",
        "print(confusion_matrix(train_labels, ytrain_predict))\n",
        "#Train Data Accuracy\n",
        "print('Accuracy score : %.1f percent' % (best_rf.score(X_train,train_labels)*100) )\n",
        "print(classification_report(train_labels, ytrain_predict))\n",
        "print('\\n')\n",
        "#Test data Confusion Matrix\n",
        "print('Random Forest stats on test data:')\n",
        "print(confusion_matrix(test_labels, ytest_predict))\n",
        "#Test Data Accuracy\n",
        "print('Accuracy score : %.1f percent' % (best_rf.score(X_test,test_labels)*100) )\n",
        "print(classification_report(test_labels, ytest_predict))"
      ],
      "execution_count": 105,
      "outputs": [
        {
          "output_type": "stream",
          "text": [
            "Random Forest stats on train data:\n",
            "[[31101    22]\n",
            " [ 1736  1203]]\n",
            "Accuracy score : 94.8 percent\n",
            "              precision    recall  f1-score   support\n",
            "\n",
            "           0       0.95      1.00      0.97     31123\n",
            "           1       0.98      0.41      0.58      2939\n",
            "\n",
            "    accuracy                           0.95     34062\n",
            "   macro avg       0.96      0.70      0.78     34062\n",
            "weighted avg       0.95      0.95      0.94     34062\n",
            "\n",
            "\n",
            "\n",
            "Random Forest stats on test data:\n",
            "[[13269    36]\n",
            " [  879   414]]\n",
            "Accuracy score : 93.7 percent\n",
            "              precision    recall  f1-score   support\n",
            "\n",
            "           0       0.94      1.00      0.97     13305\n",
            "           1       0.92      0.32      0.48      1293\n",
            "\n",
            "    accuracy                           0.94     14598\n",
            "   macro avg       0.93      0.66      0.72     14598\n",
            "weighted avg       0.94      0.94      0.92     14598\n",
            "\n"
          ],
          "name": "stdout"
        }
      ]
    },
    {
      "cell_type": "code",
      "metadata": {
        "colab": {
          "base_uri": "https://localhost:8080/"
        },
        "id": "MC1Mp-92HEl2",
        "outputId": "f8f32886-7794-4385-fd3b-2ccad515262c"
      },
      "source": [
        "#{'max_features': 3, 'min_samples_split': 10, 'n_estimators': 1000}, train:test = 90:10\n",
        "#Train data Confusion Matrix\n",
        "print('Random Forest stats on train data:')\n",
        "print(confusion_matrix(train_labels, ytrain_predict))\n",
        "#Train Data Accuracy\n",
        "print('Accuracy score : %.1f percent' % (best_rf.score(X_train,train_labels)*100) )\n",
        "print(classification_report(train_labels, ytrain_predict))\n",
        "print('\\n')\n",
        "#Test data Confusion Matrix\n",
        "print('Random Forest stats on test data:')\n",
        "print(confusion_matrix(test_labels, ytest_predict))\n",
        "#Test Data Accuracy\n",
        "print('Accuracy score : %.1f percent' % (best_rf.score(X_test,test_labels)*100) )\n",
        "print(classification_report(test_labels, ytest_predict))"
      ],
      "execution_count": 110,
      "outputs": [
        {
          "output_type": "stream",
          "text": [
            "Random Forest stats on train data:\n",
            "[[39968    31]\n",
            " [ 2226  1569]]\n",
            "Accuracy score : 94.8 percent\n",
            "              precision    recall  f1-score   support\n",
            "\n",
            "           0       0.95      1.00      0.97     39999\n",
            "           1       0.98      0.41      0.58      3795\n",
            "\n",
            "    accuracy                           0.95     43794\n",
            "   macro avg       0.96      0.71      0.78     43794\n",
            "weighted avg       0.95      0.95      0.94     43794\n",
            "\n",
            "\n",
            "\n",
            "Random Forest stats on test data:\n",
            "[[4414   15]\n",
            " [ 289  148]]\n",
            "Accuracy score : 93.8 percent\n",
            "              precision    recall  f1-score   support\n",
            "\n",
            "           0       0.94      1.00      0.97      4429\n",
            "           1       0.91      0.34      0.49       437\n",
            "\n",
            "    accuracy                           0.94      4866\n",
            "   macro avg       0.92      0.67      0.73      4866\n",
            "weighted avg       0.94      0.94      0.92      4866\n",
            "\n"
          ],
          "name": "stdout"
        }
      ]
    },
    {
      "cell_type": "code",
      "metadata": {
        "colab": {
          "base_uri": "https://localhost:8080/"
        },
        "id": "eZvt96D2H4eH",
        "outputId": "bdf898e8-0687-4693-cddb-3e8be3ab0ebc"
      },
      "source": [
        "#{'max_features': 3,  'min_samples_leaf': 20, 'min_samples_split': 10, 'n_estimators': 1000}, train:test = 90:10\n",
        "#Train data Confusion Matrix\n",
        "print('Random Forest stats on train data:')\n",
        "print(confusion_matrix(train_labels, ytrain_predict))\n",
        "#Train Data Accuracy\n",
        "print('Accuracy score : %.1f percent' % (best_rf.score(X_train,train_labels)*100) )\n",
        "print(classification_report(train_labels, ytrain_predict))\n",
        "print('\\n')\n",
        "#Test data Confusion Matrix\n",
        "print('Random Forest stats on test data:')\n",
        "print(confusion_matrix(test_labels, ytest_predict))\n",
        "#Test Data Accuracy\n",
        "print('Accuracy score : %.1f percent' % (best_rf.score(X_test,test_labels)*100) )\n",
        "print(classification_report(test_labels, ytest_predict))"
      ],
      "execution_count": 114,
      "outputs": [
        {
          "output_type": "stream",
          "text": [
            "Random Forest stats on train data:\n",
            "[[39951    48]\n",
            " [ 2950   845]]\n",
            "Accuracy score : 93.2 percent\n",
            "              precision    recall  f1-score   support\n",
            "\n",
            "           0       0.93      1.00      0.96     39999\n",
            "           1       0.95      0.22      0.36      3795\n",
            "\n",
            "    accuracy                           0.93     43794\n",
            "   macro avg       0.94      0.61      0.66     43794\n",
            "weighted avg       0.93      0.93      0.91     43794\n",
            "\n",
            "\n",
            "\n",
            "Random Forest stats on test data:\n",
            "[[4424    5]\n",
            " [ 339   98]]\n",
            "Accuracy score : 92.9 percent\n",
            "              precision    recall  f1-score   support\n",
            "\n",
            "           0       0.93      1.00      0.96      4429\n",
            "           1       0.95      0.22      0.36       437\n",
            "\n",
            "    accuracy                           0.93      4866\n",
            "   macro avg       0.94      0.61      0.66      4866\n",
            "weighted avg       0.93      0.93      0.91      4866\n",
            "\n"
          ],
          "name": "stdout"
        }
      ]
    },
    {
      "cell_type": "code",
      "metadata": {
        "id": "3xIlDqR3ItPp"
      },
      "source": [
        ""
      ],
      "execution_count": null,
      "outputs": []
    }
  ]
}