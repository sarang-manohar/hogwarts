{
 "cells": [
  {
   "cell_type": "code",
   "execution_count": null,
   "metadata": {},
   "outputs": [
    {
     "ename": "",
     "evalue": "",
     "output_type": "error",
     "traceback": [
      "\u001b[1;31mRunning cells with 'Python 3.6.13 ('py36')' requires ipykernel package.\n",
      "\u001b[1;31mRun the following command to install 'ipykernel' into the Python environment. \n",
      "\u001b[1;31mCommand: 'conda install -n py36 ipykernel --update-deps --force-reinstall'"
     ]
    }
   ],
   "source": [
    "from datetime import datetime\n",
    "\n",
    "start_time = datetime.now()\n",
    "\n",
    "print('Excecution started at {}'.format(start_time))"
   ]
  },
  {
   "cell_type": "code",
   "execution_count": null,
   "metadata": {},
   "outputs": [
    {
     "ename": "",
     "evalue": "",
     "output_type": "error",
     "traceback": [
      "\u001b[1;31mRunning cells with 'Python 3.6.13 ('py36')' requires ipykernel package.\n",
      "\u001b[1;31mRun the following command to install 'ipykernel' into the Python environment. \n",
      "\u001b[1;31mCommand: 'conda install -n py36 ipykernel --update-deps --force-reinstall'"
     ]
    }
   ],
   "source": [
    "import numpy as np\n",
    "import pandas as pd\n",
    "import matplotlib.pyplot as plt\n",
    "%matplotlib inline\n",
    "import seaborn as sns\n",
    "\n",
    "\n",
    "import warnings\n",
    "warnings.filterwarnings('ignore')\n",
    "\n",
    "print(\"Imported the libraries for EDA\")"
   ]
  },
  {
   "cell_type": "code",
   "execution_count": null,
   "metadata": {},
   "outputs": [
    {
     "ename": "",
     "evalue": "",
     "output_type": "error",
     "traceback": [
      "\u001b[1;31mRunning cells with 'Python 3.6.13 ('py36')' requires ipykernel package.\n",
      "\u001b[1;31mRun the following command to install 'ipykernel' into the Python environment. \n",
      "\u001b[1;31mCommand: 'conda install -n py36 ipykernel --update-deps --force-reinstall'"
     ]
    }
   ],
   "source": [
    "raw_data = pd.read_csv(r'../data/data.csv')"
   ]
  },
  {
   "cell_type": "code",
   "execution_count": null,
   "metadata": {},
   "outputs": [
    {
     "ename": "",
     "evalue": "",
     "output_type": "error",
     "traceback": [
      "\u001b[1;31mRunning cells with 'Python 3.6.13 ('py36')' requires ipykernel package.\n",
      "\u001b[1;31mRun the following command to install 'ipykernel' into the Python environment. \n",
      "\u001b[1;31mCommand: 'conda install -n py36 ipykernel --update-deps --force-reinstall'"
     ]
    }
   ],
   "source": [
    "raw_data.sample(10)"
   ]
  },
  {
   "cell_type": "code",
   "execution_count": null,
   "metadata": {},
   "outputs": [
    {
     "ename": "",
     "evalue": "",
     "output_type": "error",
     "traceback": [
      "\u001b[1;31mRunning cells with 'Python 3.6.13 ('py36')' requires ipykernel package.\n",
      "\u001b[1;31mRun the following command to install 'ipykernel' into the Python environment. \n",
      "\u001b[1;31mCommand: 'conda install -n py36 ipykernel --update-deps --force-reinstall'"
     ]
    }
   ],
   "source": [
    "raw_data.columns"
   ]
  },
  {
   "cell_type": "code",
   "execution_count": null,
   "metadata": {},
   "outputs": [
    {
     "ename": "",
     "evalue": "",
     "output_type": "error",
     "traceback": [
      "\u001b[1;31mRunning cells with 'Python 3.6.13 ('py36')' requires ipykernel package.\n",
      "\u001b[1;31mRun the following command to install 'ipykernel' into the Python environment. \n",
      "\u001b[1;31mCommand: 'conda install -n py36 ipykernel --update-deps --force-reinstall'"
     ]
    }
   ],
   "source": [
    "raw_data.shape"
   ]
  },
  {
   "cell_type": "code",
   "execution_count": null,
   "metadata": {},
   "outputs": [
    {
     "ename": "",
     "evalue": "",
     "output_type": "error",
     "traceback": [
      "\u001b[1;31mRunning cells with 'Python 3.6.13 ('py36')' requires ipykernel package.\n",
      "\u001b[1;31mRun the following command to install 'ipykernel' into the Python environment. \n",
      "\u001b[1;31mCommand: 'conda install -n py36 ipykernel --update-deps --force-reinstall'"
     ]
    }
   ],
   "source": [
    "raw_data[['Num', 'Networth Next Year', 'Total assets', 'Net worth',\n",
    "       'Total income', 'Change in stock', 'Total expenses', 'Profit after tax',\n",
    "       'PBDITA', 'PBT', 'Cash profit', 'PBDITA as % of total income',\n",
    "       'PBT as % of total income', 'PAT as % of total income',\n",
    "       'Cash profit as % of total income', 'PAT as % of net worth']].info()"
   ]
  },
  {
   "cell_type": "code",
   "execution_count": null,
   "metadata": {},
   "outputs": [
    {
     "ename": "",
     "evalue": "",
     "output_type": "error",
     "traceback": [
      "\u001b[1;31mRunning cells with 'Python 3.6.13 ('py36')' requires ipykernel package.\n",
      "\u001b[1;31mRun the following command to install 'ipykernel' into the Python environment. \n",
      "\u001b[1;31mCommand: 'conda install -n py36 ipykernel --update-deps --force-reinstall'"
     ]
    }
   ],
   "source": [
    "raw_data[['Num', 'Networth Next Year', 'Total assets', 'Net worth',\n",
    "       'Total income', 'Change in stock', 'Total expenses', 'Profit after tax',\n",
    "       'PBDITA', 'PBT', 'Cash profit', 'PBDITA as % of total income',\n",
    "       'PBT as % of total income', 'PAT as % of total income',\n",
    "       'Cash profit as % of total income', 'PAT as % of net worth']].describe().T"
   ]
  },
  {
   "cell_type": "code",
   "execution_count": null,
   "metadata": {},
   "outputs": [
    {
     "ename": "",
     "evalue": "",
     "output_type": "error",
     "traceback": [
      "\u001b[1;31mRunning cells with 'Python 3.6.13 ('py36')' requires ipykernel package.\n",
      "\u001b[1;31mRun the following command to install 'ipykernel' into the Python environment. \n",
      "\u001b[1;31mCommand: 'conda install -n py36 ipykernel --update-deps --force-reinstall'"
     ]
    }
   ],
   "source": [
    "raw_data[['Sales', 'Income from fincial services', 'Other income', 'Total capital',\n",
    "       'Reserves and funds', 'Borrowings', 'Current liabilities & provisions',\n",
    "       'Deferred tax liability', 'Shareholders funds',\n",
    "       'Cumulative retained profits', 'Capital employed', 'TOL/TNW',\n",
    "       'Total term liabilities / tangible net worth',\n",
    "       'Contingent liabilities / Net worth (%)', 'Contingent liabilities',\n",
    "       'Net fixed assets']].info()"
   ]
  },
  {
   "cell_type": "code",
   "execution_count": null,
   "metadata": {},
   "outputs": [
    {
     "ename": "",
     "evalue": "",
     "output_type": "error",
     "traceback": [
      "\u001b[1;31mRunning cells with 'Python 3.6.13 ('py36')' requires ipykernel package.\n",
      "\u001b[1;31mRun the following command to install 'ipykernel' into the Python environment. \n",
      "\u001b[1;31mCommand: 'conda install -n py36 ipykernel --update-deps --force-reinstall'"
     ]
    }
   ],
   "source": [
    "raw_data[['Sales', 'Income from fincial services', 'Other income', 'Total capital',\n",
    "       'Reserves and funds', 'Borrowings', 'Current liabilities & provisions',\n",
    "       'Deferred tax liability', 'Shareholders funds',\n",
    "       'Cumulative retained profits', 'Capital employed', 'TOL/TNW',\n",
    "       'Total term liabilities / tangible net worth',\n",
    "       'Contingent liabilities / Net worth (%)', 'Contingent liabilities',\n",
    "       'Net fixed assets']].describe().T"
   ]
  },
  {
   "cell_type": "code",
   "execution_count": null,
   "metadata": {},
   "outputs": [
    {
     "ename": "",
     "evalue": "",
     "output_type": "error",
     "traceback": [
      "\u001b[1;31mRunning cells with 'Python 3.6.13 ('py36')' requires ipykernel package.\n",
      "\u001b[1;31mRun the following command to install 'ipykernel' into the Python environment. \n",
      "\u001b[1;31mCommand: 'conda install -n py36 ipykernel --update-deps --force-reinstall'"
     ]
    }
   ],
   "source": [
    "raw_data[['Investments', 'Current assets',\n",
    "       'Net working capital', 'Quick ratio (times)', 'Current ratio (times)',\n",
    "       'Debt to equity ratio (times)', 'Cash to current liabilities (times)',\n",
    "       'Cash to average cost of sales per day', 'Creditors turnover',\n",
    "       'Debtors turnover', 'Finished goods turnover', 'WIP turnover',\n",
    "       'Raw material turnover', 'Shares outstanding', 'Equity face value',\n",
    "       'EPS', 'Adjusted EPS', 'Total liabilities', 'PE on BSE']].info()"
   ]
  },
  {
   "cell_type": "code",
   "execution_count": null,
   "metadata": {},
   "outputs": [
    {
     "ename": "",
     "evalue": "",
     "output_type": "error",
     "traceback": [
      "\u001b[1;31mRunning cells with 'Python 3.6.13 ('py36')' requires ipykernel package.\n",
      "\u001b[1;31mRun the following command to install 'ipykernel' into the Python environment. \n",
      "\u001b[1;31mCommand: 'conda install -n py36 ipykernel --update-deps --force-reinstall'"
     ]
    }
   ],
   "source": [
    "raw_data[['Investments', 'Current assets',\n",
    "       'Net working capital', 'Quick ratio (times)', 'Current ratio (times)',\n",
    "       'Debt to equity ratio (times)', 'Cash to current liabilities (times)',\n",
    "       'Cash to average cost of sales per day', 'Creditors turnover',\n",
    "       'Debtors turnover', 'Finished goods turnover', 'WIP turnover',\n",
    "       'Raw material turnover', 'Shares outstanding', 'Equity face value',\n",
    "       'EPS', 'Adjusted EPS', 'Total liabilities', 'PE on BSE']].describe().T"
   ]
  },
  {
   "cell_type": "code",
   "execution_count": null,
   "metadata": {},
   "outputs": [
    {
     "ename": "",
     "evalue": "",
     "output_type": "error",
     "traceback": [
      "\u001b[1;31mRunning cells with 'Python 3.6.13 ('py36')' requires ipykernel package.\n",
      "\u001b[1;31mRun the following command to install 'ipykernel' into the Python environment. \n",
      "\u001b[1;31mCommand: 'conda install -n py36 ipykernel --update-deps --force-reinstall'"
     ]
    }
   ],
   "source": [
    "def percent_null(df):\n",
    "    l = df.shape[0]\n",
    "    percent_val = []\n",
    "    for col in df.columns:\n",
    "        percent_val.append(df[col].isnull().sum()/l)\n",
    "    df_percent_null = pd.DataFrame({'col':df.columns,\n",
    "                                    'percent_val':percent_val})\n",
    "    return df_percent_null"
   ]
  },
  {
   "cell_type": "code",
   "execution_count": null,
   "metadata": {},
   "outputs": [
    {
     "ename": "",
     "evalue": "",
     "output_type": "error",
     "traceback": [
      "\u001b[1;31mRunning cells with 'Python 3.6.13 ('py36')' requires ipykernel package.\n",
      "\u001b[1;31mRun the following command to install 'ipykernel' into the Python environment. \n",
      "\u001b[1;31mCommand: 'conda install -n py36 ipykernel --update-deps --force-reinstall'"
     ]
    }
   ],
   "source": [
    "chart_data =  percent_null(raw_data).sort_values(by=['percent_val'], ascending=False).reset_index()\n",
    "\n",
    "x_vals = list(range(len(chart_data)))\n",
    "\n",
    "fig = plt.subplots(figsize=(16,6)); sns.set_style('whitegrid')\n",
    "sns.barplot( data = chart_data, x = 'col', y = 'percent_val')\n",
    "plt.xticks(x_vals, chart_data['col'],  rotation='vertical')\n",
    "plt.show()"
   ]
  }
 ],
 "metadata": {
  "kernelspec": {
   "display_name": "Python 3.6.13 ('py36')",
   "language": "python",
   "name": "python3"
  },
  "language_info": {
   "codemirror_mode": {
    "name": "ipython",
    "version": 3
   },
   "file_extension": ".py",
   "mimetype": "text/x-python",
   "name": "python",
   "nbconvert_exporter": "python",
   "pygments_lexer": "ipython3",
   "version": "3.6.13"
  },
  "orig_nbformat": 4,
  "vscode": {
   "interpreter": {
    "hash": "09dfafbed5d96e5135ad7e86cf18a2e2bd5d14ee1fda4f8638d290baaedb1f7b"
   }
  }
 },
 "nbformat": 4,
 "nbformat_minor": 2
}
