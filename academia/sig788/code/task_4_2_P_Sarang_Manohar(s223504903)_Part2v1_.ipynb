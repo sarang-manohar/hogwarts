{
  "cells": [
    {
      "cell_type": "markdown",
      "metadata": {
        "id": "view-in-github",
        "colab_type": "text"
      },
      "source": [
        "<a href=\"https://colab.research.google.com/github/sarang-manohar/hogwarts/blob/main/academia/sig788/code/task_4_2_P_Sarang_Manohar(s223504903)_Part2v1_.ipynb\" target=\"_parent\"><img src=\"https://colab.research.google.com/assets/colab-badge.svg\" alt=\"Open In Colab\"/></a>"
      ]
    },
    {
      "cell_type": "code",
      "execution_count": null,
      "metadata": {
        "id": "ybdsRgG3wR7A"
      },
      "outputs": [],
      "source": [
        "import cv2, requests, json, io, time\n",
        "import numpy as np\n",
        "from PIL import Image, ImageDraw, ImageFont\n"
      ]
    },
    {
      "cell_type": "code",
      "execution_count": null,
      "metadata": {
        "id": "5tHFrB3AwR7I"
      },
      "outputs": [],
      "source": [
        "#read video frames from video file\n",
        "cap = cv2.VideoCapture('sig788task4.2.mp4')"
      ]
    },
    {
      "cell_type": "code",
      "execution_count": null,
      "metadata": {
        "id": "OvLun4VhwR7J",
        "outputId": "bd37865f-6c21-405f-a2da-b208e1899106"
      },
      "outputs": [
        {
          "name": "stdout",
          "output_type": "stream",
          "text": [
            "Width : 640.0\n",
            "Height : 360.0\n",
            "FPS : 10.0\n",
            "Frame Count : 600.0\n"
          ]
        }
      ],
      "source": [
        "#print video properties\n",
        "print(\"Width :\",cap.get(cv2.CAP_PROP_FRAME_WIDTH))\n",
        "print(\"Height :\",cap.get(cv2.CAP_PROP_FRAME_HEIGHT))\n",
        "print(\"FPS :\",cap.get(cv2.CAP_PROP_FPS))\n",
        "print(\"Frame Count :\",cap.get(cv2.CAP_PROP_FRAME_COUNT))"
      ]
    },
    {
      "cell_type": "code",
      "execution_count": null,
      "metadata": {
        "id": "L-wJTEnCwR7K"
      },
      "outputs": [],
      "source": [
        "#read credentials file\n",
        "with open('creds.txt') as f:\n",
        "    contents = f.read()\n",
        "    creds = json.loads(contents)\n",
        "\n",
        "# API endpoint and prediction key\n",
        "ENDPOINT = creds[\"ENDPOINT\"]\n",
        "KEY = creds['prediction_key']\n",
        "\n",
        "# Set the threshold for the probability of the predictions\n",
        "THRESHOLD = 0.25\n",
        "\n",
        "# Set the font for drawing the tag labels\n",
        "FONT = ImageFont.truetype(\"arial.ttf\", 16)\n",
        "\n",
        "# Set the tag colors dictionary\n",
        "TAG_COLORS = {\n",
        "    \"person\": (253, 1, 0),\n",
        "    \"bicycle\": (247, 105, 21),\n",
        "    \"motorcycle\": (238, 222, 4),\n",
        "    \"bus\": (47, 162, 54),\n",
        "    \"car\": (51, 62, 212)\n",
        "}\n",
        "# Video reader and writer\n",
        "width = int(cap.get(cv2.CAP_PROP_FRAME_WIDTH))\n",
        "height = int(cap.get(cv2.CAP_PROP_FRAME_HEIGHT))\n",
        "frame_rate = int(cap.get(cv2.CAP_PROP_FPS))\n",
        "fourcc = cv2.VideoWriter_fourcc(*'mp4v')\n",
        "video_writer = cv2.VideoWriter(\"object_tracking.mp4\", fourcc, frame_rate, (width, height))"
      ]
    },
    {
      "cell_type": "code",
      "execution_count": null,
      "metadata": {
        "id": "cAn1k1jqwR7L"
      },
      "outputs": [],
      "source": [
        "# Define the draw_boxes function\n",
        "def draw_boxes(image, predictions, tag_colors):\n",
        "    draw = ImageDraw.Draw(image)\n",
        "    for prediction in predictions:\n",
        "        tag = prediction[\"tagName\"]\n",
        "        probability = prediction[\"probability\"]\n",
        "        if probability >= THRESHOLD:\n",
        "            box = prediction[\"boundingBox\"]\n",
        "            left = int(box[\"left\"] * width)\n",
        "            top = int(box[\"top\"] * height)\n",
        "            right = int((box[\"left\"] + box[\"width\"]) * width)\n",
        "            bottom = int((box[\"top\"] + box[\"height\"]) * height)\n",
        "            draw.rectangle([(left, top), (right, bottom)], outline=tag_colors.get(tag, \"red\"), width=2)\n",
        "            draw.text((left, top-20), f\"{tag} {probability:.2f}\", font=FONT, fill=tag_colors.get(tag, \"red\"))\n",
        "    return image"
      ]
    },
    {
      "cell_type": "code",
      "execution_count": null,
      "metadata": {
        "id": "RbtoVvrgwR7M"
      },
      "outputs": [],
      "source": [
        "# Loop through the frames\n",
        "while True:\n",
        "    # Read the next frame from the video file\n",
        "    ret, frame = cap.read()\n",
        "    if not ret:\n",
        "        break\n",
        "\n",
        "    # Preprocess the frame\n",
        "    frame = cv2.cvtColor(frame, cv2.COLOR_BGR2RGB)    \n",
        "\n",
        "    # Compress the frame as a JPEG image\n",
        "    _, encoded_frame = cv2.imencode(\".jpg\", frame, [int(cv2.IMWRITE_JPEG_QUALITY), 80])\n",
        "\n",
        "\n",
        "    # Make a prediction using the Custom Vision API\n",
        "    headers = {\n",
        "        \"Prediction-Key\": KEY,\n",
        "        \"Content-Type\": creds['content_type']\n",
        "    }\n",
        "    body = {\n",
        "        \"Data\": frame.tolist()\n",
        "    }\n",
        "    response = requests.post(ENDPOINT, headers=headers, json=body, data=encoded_frame.tobytes())\n",
        "    response.raise_for_status()\n",
        "    predictions = response.json()[\"predictions\"]\n",
        "\n",
        "    # Draw the bounding boxes and labels on the image\n",
        "    frame_with_boxes = draw_boxes(Image.fromarray(frame), predictions, TAG_COLORS)\n",
        "    frame_with_boxes = cv2.cvtColor(np.asarray(frame_with_boxes), cv2.COLOR_RGB2BGR)  \n",
        "\n",
        "    #Display the annotated frame\n",
        "    cv2.imshow(\"Frame\", np.asarray(frame_with_boxes))\n",
        "\n",
        "    # Write the annotated frame to the output video file\n",
        "    video_writer.write(np.asarray(frame_with_boxes))\n",
        "\n",
        "    cv2.waitKey(1)\n",
        "    time.sleep(11)\n",
        "\n",
        "\n",
        "\n",
        "# Release the video reader and writer\n",
        "cap.release()\n",
        "video_writer.release()\n",
        "\n",
        "cv2.destroyAllWindows()\n"
      ]
    }
  ],
  "metadata": {
    "kernelspec": {
      "display_name": "Python 3",
      "language": "python",
      "name": "python3"
    },
    "language_info": {
      "codemirror_mode": {
        "name": "ipython",
        "version": 3
      },
      "file_extension": ".py",
      "mimetype": "text/x-python",
      "name": "python",
      "nbconvert_exporter": "python",
      "pygments_lexer": "ipython3",
      "version": "3.7.0"
    },
    "orig_nbformat": 4,
    "colab": {
      "provenance": [],
      "include_colab_link": true
    }
  },
  "nbformat": 4,
  "nbformat_minor": 0
}