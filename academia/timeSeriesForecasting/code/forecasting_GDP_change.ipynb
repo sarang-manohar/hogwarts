{
 "cells": [
  {
   "cell_type": "code",
   "execution_count": 6,
   "source": [
    "%%capture\r\n",
    "!pip install pandas==1.0.5;\r\n",
    "!pip install numpy==1.19.0;\r\n",
    "!pip install seaborn==0.10.1;\r\n",
    "!pip install matplotlib==3.2.1;\r\n",
    "!pip install statsmodels==0.11.1;"
   ],
   "outputs": [],
   "metadata": {}
  },
  {
   "cell_type": "code",
   "execution_count": null,
   "source": [],
   "outputs": [],
   "metadata": {}
  }
 ],
 "metadata": {
  "orig_nbformat": 4,
  "language_info": {
   "name": "python",
   "version": "3.8.11"
  },
  "kernelspec": {
   "name": "python3",
   "display_name": "Python 3.8.11 64-bit ('olympus': conda)"
  },
  "interpreter": {
   "hash": "331d75ba62ce03f5d35345ff967349a0637ef8dbc3ea6505b3d9cc1672fd9c23"
  }
 },
 "nbformat": 4,
 "nbformat_minor": 2
}