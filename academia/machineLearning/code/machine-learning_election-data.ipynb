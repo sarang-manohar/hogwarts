{
 "metadata": {
  "language_info": {
   "codemirror_mode": {
    "name": "ipython",
    "version": 3
   },
   "file_extension": ".py",
   "mimetype": "text/x-python",
   "name": "python",
   "nbconvert_exporter": "python",
   "pygments_lexer": "ipython3",
   "version": "3.8.10"
  },
  "orig_nbformat": 4,
  "kernelspec": {
   "name": "python3",
   "display_name": "Python 3.8.10 64-bit ('base': conda)"
  },
  "interpreter": {
   "hash": "e6d57a11395bfad2acecd537d627437145e822dd4efdea80832e0adb16398436"
  }
 },
 "nbformat": 4,
 "nbformat_minor": 2,
 "cells": [
  {
   "cell_type": "code",
   "execution_count": 2,
   "metadata": {},
   "outputs": [
    {
     "output_type": "stream",
     "name": "stdout",
     "text": [
      "Imported the libraries for EDA\n"
     ]
    }
   ],
   "source": [
    "import numpy as np\n",
    "import pandas as pd\n",
    "import matplotlib.pyplot as plt\n",
    "%matplotlib inline\n",
    "import seaborn as sns\n",
    "\n",
    "print(\"Imported the libraries for EDA\")"
   ]
  },
  {
   "source": [
    "### Data Dictionary\n",
    "1. vote: Party choice: Conservative or Labour\n",
    "2. age: in years\n",
    "3. economic.cond.national: Assessment of current national economic conditions, 1 to 5.\n",
    "4. economic.cond.household: Assessment of current household economic conditions, 1 to 5.\n",
    "5. Blair: Assessment of the Labour leader, 1 to 5.\n",
    "6. Hague: Assessment of the Conservative leader, 1 to 5.\n",
    "7. Europe: an 11-point scale that measures respondents' attitudes toward European integration. High scores represent ‘Eurosceptic’ sentiment.\n",
    "8. political.knowledge: Knowledge of parties' positions on European integration, 0 to 3.\n",
    "9. gender: female or male."
   ],
   "cell_type": "markdown",
   "metadata": {}
  },
  {
   "source": [
    "### Exploratoty Data Analysis"
   ],
   "cell_type": "markdown",
   "metadata": {}
  },
  {
   "source": [
    "Read the data"
   ],
   "cell_type": "markdown",
   "metadata": {}
  },
  {
   "source": [
    "raw_data = pd.read_excel('../data/Election_data.xlsx', engine = 'openpyxl', sheet_name = 1); raw_data.head()"
   ],
   "cell_type": "code",
   "metadata": {},
   "execution_count": 10,
   "outputs": [
    {
     "output_type": "execute_result",
     "data": {
      "text/plain": [
       "   Unnamed: 0    vote  age  economic.cond.national  economic.cond.household  \\\n",
       "0           1  Labour   43                       3                        3   \n",
       "1           2  Labour   36                       4                        4   \n",
       "2           3  Labour   35                       4                        4   \n",
       "3           4  Labour   24                       4                        2   \n",
       "4           5  Labour   41                       2                        2   \n",
       "\n",
       "   Blair  Hague  Europe  political.knowledge  gender  \n",
       "0      4      1       2                    2  female  \n",
       "1      4      4       5                    2    male  \n",
       "2      5      2       3                    2    male  \n",
       "3      2      1       4                    0  female  \n",
       "4      1      1       6                    2    male  "
      ],
      "text/html": "<div>\n<style scoped>\n    .dataframe tbody tr th:only-of-type {\n        vertical-align: middle;\n    }\n\n    .dataframe tbody tr th {\n        vertical-align: top;\n    }\n\n    .dataframe thead th {\n        text-align: right;\n    }\n</style>\n<table border=\"1\" class=\"dataframe\">\n  <thead>\n    <tr style=\"text-align: right;\">\n      <th></th>\n      <th>Unnamed: 0</th>\n      <th>vote</th>\n      <th>age</th>\n      <th>economic.cond.national</th>\n      <th>economic.cond.household</th>\n      <th>Blair</th>\n      <th>Hague</th>\n      <th>Europe</th>\n      <th>political.knowledge</th>\n      <th>gender</th>\n    </tr>\n  </thead>\n  <tbody>\n    <tr>\n      <th>0</th>\n      <td>1</td>\n      <td>Labour</td>\n      <td>43</td>\n      <td>3</td>\n      <td>3</td>\n      <td>4</td>\n      <td>1</td>\n      <td>2</td>\n      <td>2</td>\n      <td>female</td>\n    </tr>\n    <tr>\n      <th>1</th>\n      <td>2</td>\n      <td>Labour</td>\n      <td>36</td>\n      <td>4</td>\n      <td>4</td>\n      <td>4</td>\n      <td>4</td>\n      <td>5</td>\n      <td>2</td>\n      <td>male</td>\n    </tr>\n    <tr>\n      <th>2</th>\n      <td>3</td>\n      <td>Labour</td>\n      <td>35</td>\n      <td>4</td>\n      <td>4</td>\n      <td>5</td>\n      <td>2</td>\n      <td>3</td>\n      <td>2</td>\n      <td>male</td>\n    </tr>\n    <tr>\n      <th>3</th>\n      <td>4</td>\n      <td>Labour</td>\n      <td>24</td>\n      <td>4</td>\n      <td>2</td>\n      <td>2</td>\n      <td>1</td>\n      <td>4</td>\n      <td>0</td>\n      <td>female</td>\n    </tr>\n    <tr>\n      <th>4</th>\n      <td>5</td>\n      <td>Labour</td>\n      <td>41</td>\n      <td>2</td>\n      <td>2</td>\n      <td>1</td>\n      <td>1</td>\n      <td>6</td>\n      <td>2</td>\n      <td>male</td>\n    </tr>\n  </tbody>\n</table>\n</div>"
     },
     "metadata": {},
     "execution_count": 10
    }
   ]
  },
  {
   "source": [
    "raw_data.info()"
   ],
   "cell_type": "code",
   "metadata": {},
   "execution_count": 11,
   "outputs": [
    {
     "output_type": "stream",
     "name": "stdout",
     "text": [
      "<class 'pandas.core.frame.DataFrame'>\nRangeIndex: 1525 entries, 0 to 1524\nData columns (total 10 columns):\n #   Column                   Non-Null Count  Dtype \n---  ------                   --------------  ----- \n 0   Unnamed: 0               1525 non-null   int64 \n 1   vote                     1525 non-null   object\n 2   age                      1525 non-null   int64 \n 3   economic.cond.national   1525 non-null   int64 \n 4   economic.cond.household  1525 non-null   int64 \n 5   Blair                    1525 non-null   int64 \n 6   Hague                    1525 non-null   int64 \n 7   Europe                   1525 non-null   int64 \n 8   political.knowledge      1525 non-null   int64 \n 9   gender                   1525 non-null   object\ndtypes: int64(8), object(2)\nmemory usage: 119.3+ KB\n"
     ]
    }
   ]
  },
  {
   "cell_type": "code",
   "execution_count": 13,
   "metadata": {},
   "outputs": [
    {
     "output_type": "execute_result",
     "data": {
      "text/plain": [
       "         Unnamed: 0    vote          age  economic.cond.national  \\\n",
       "count   1525.000000    1525  1525.000000             1525.000000   \n",
       "unique          NaN       2          NaN                     NaN   \n",
       "top             NaN  Labour          NaN                     NaN   \n",
       "freq            NaN    1063          NaN                     NaN   \n",
       "mean     763.000000     NaN    54.182295                3.245902   \n",
       "std      440.373894     NaN    15.711209                0.880969   \n",
       "min        1.000000     NaN    24.000000                1.000000   \n",
       "25%      382.000000     NaN    41.000000                3.000000   \n",
       "50%      763.000000     NaN    53.000000                3.000000   \n",
       "75%     1144.000000     NaN    67.000000                4.000000   \n",
       "max     1525.000000     NaN    93.000000                5.000000   \n",
       "\n",
       "        economic.cond.household        Blair        Hague       Europe  \\\n",
       "count               1525.000000  1525.000000  1525.000000  1525.000000   \n",
       "unique                      NaN          NaN          NaN          NaN   \n",
       "top                         NaN          NaN          NaN          NaN   \n",
       "freq                        NaN          NaN          NaN          NaN   \n",
       "mean                   3.140328     3.334426     2.746885     6.728525   \n",
       "std                    0.929951     1.174824     1.230703     3.297538   \n",
       "min                    1.000000     1.000000     1.000000     1.000000   \n",
       "25%                    3.000000     2.000000     2.000000     4.000000   \n",
       "50%                    3.000000     4.000000     2.000000     6.000000   \n",
       "75%                    4.000000     4.000000     4.000000    10.000000   \n",
       "max                    5.000000     5.000000     5.000000    11.000000   \n",
       "\n",
       "        political.knowledge  gender  \n",
       "count           1525.000000    1525  \n",
       "unique                  NaN       2  \n",
       "top                     NaN  female  \n",
       "freq                    NaN     812  \n",
       "mean               1.542295     NaN  \n",
       "std                1.083315     NaN  \n",
       "min                0.000000     NaN  \n",
       "25%                0.000000     NaN  \n",
       "50%                2.000000     NaN  \n",
       "75%                2.000000     NaN  \n",
       "max                3.000000     NaN  "
      ],
      "text/html": "<div>\n<style scoped>\n    .dataframe tbody tr th:only-of-type {\n        vertical-align: middle;\n    }\n\n    .dataframe tbody tr th {\n        vertical-align: top;\n    }\n\n    .dataframe thead th {\n        text-align: right;\n    }\n</style>\n<table border=\"1\" class=\"dataframe\">\n  <thead>\n    <tr style=\"text-align: right;\">\n      <th></th>\n      <th>Unnamed: 0</th>\n      <th>vote</th>\n      <th>age</th>\n      <th>economic.cond.national</th>\n      <th>economic.cond.household</th>\n      <th>Blair</th>\n      <th>Hague</th>\n      <th>Europe</th>\n      <th>political.knowledge</th>\n      <th>gender</th>\n    </tr>\n  </thead>\n  <tbody>\n    <tr>\n      <th>count</th>\n      <td>1525.000000</td>\n      <td>1525</td>\n      <td>1525.000000</td>\n      <td>1525.000000</td>\n      <td>1525.000000</td>\n      <td>1525.000000</td>\n      <td>1525.000000</td>\n      <td>1525.000000</td>\n      <td>1525.000000</td>\n      <td>1525</td>\n    </tr>\n    <tr>\n      <th>unique</th>\n      <td>NaN</td>\n      <td>2</td>\n      <td>NaN</td>\n      <td>NaN</td>\n      <td>NaN</td>\n      <td>NaN</td>\n      <td>NaN</td>\n      <td>NaN</td>\n      <td>NaN</td>\n      <td>2</td>\n    </tr>\n    <tr>\n      <th>top</th>\n      <td>NaN</td>\n      <td>Labour</td>\n      <td>NaN</td>\n      <td>NaN</td>\n      <td>NaN</td>\n      <td>NaN</td>\n      <td>NaN</td>\n      <td>NaN</td>\n      <td>NaN</td>\n      <td>female</td>\n    </tr>\n    <tr>\n      <th>freq</th>\n      <td>NaN</td>\n      <td>1063</td>\n      <td>NaN</td>\n      <td>NaN</td>\n      <td>NaN</td>\n      <td>NaN</td>\n      <td>NaN</td>\n      <td>NaN</td>\n      <td>NaN</td>\n      <td>812</td>\n    </tr>\n    <tr>\n      <th>mean</th>\n      <td>763.000000</td>\n      <td>NaN</td>\n      <td>54.182295</td>\n      <td>3.245902</td>\n      <td>3.140328</td>\n      <td>3.334426</td>\n      <td>2.746885</td>\n      <td>6.728525</td>\n      <td>1.542295</td>\n      <td>NaN</td>\n    </tr>\n    <tr>\n      <th>std</th>\n      <td>440.373894</td>\n      <td>NaN</td>\n      <td>15.711209</td>\n      <td>0.880969</td>\n      <td>0.929951</td>\n      <td>1.174824</td>\n      <td>1.230703</td>\n      <td>3.297538</td>\n      <td>1.083315</td>\n      <td>NaN</td>\n    </tr>\n    <tr>\n      <th>min</th>\n      <td>1.000000</td>\n      <td>NaN</td>\n      <td>24.000000</td>\n      <td>1.000000</td>\n      <td>1.000000</td>\n      <td>1.000000</td>\n      <td>1.000000</td>\n      <td>1.000000</td>\n      <td>0.000000</td>\n      <td>NaN</td>\n    </tr>\n    <tr>\n      <th>25%</th>\n      <td>382.000000</td>\n      <td>NaN</td>\n      <td>41.000000</td>\n      <td>3.000000</td>\n      <td>3.000000</td>\n      <td>2.000000</td>\n      <td>2.000000</td>\n      <td>4.000000</td>\n      <td>0.000000</td>\n      <td>NaN</td>\n    </tr>\n    <tr>\n      <th>50%</th>\n      <td>763.000000</td>\n      <td>NaN</td>\n      <td>53.000000</td>\n      <td>3.000000</td>\n      <td>3.000000</td>\n      <td>4.000000</td>\n      <td>2.000000</td>\n      <td>6.000000</td>\n      <td>2.000000</td>\n      <td>NaN</td>\n    </tr>\n    <tr>\n      <th>75%</th>\n      <td>1144.000000</td>\n      <td>NaN</td>\n      <td>67.000000</td>\n      <td>4.000000</td>\n      <td>4.000000</td>\n      <td>4.000000</td>\n      <td>4.000000</td>\n      <td>10.000000</td>\n      <td>2.000000</td>\n      <td>NaN</td>\n    </tr>\n    <tr>\n      <th>max</th>\n      <td>1525.000000</td>\n      <td>NaN</td>\n      <td>93.000000</td>\n      <td>5.000000</td>\n      <td>5.000000</td>\n      <td>5.000000</td>\n      <td>5.000000</td>\n      <td>11.000000</td>\n      <td>3.000000</td>\n      <td>NaN</td>\n    </tr>\n  </tbody>\n</table>\n</div>"
     },
     "metadata": {},
     "execution_count": 13
    }
   ],
   "source": [
    "raw_data.describe(include = 'all')"
   ]
  },
  {
   "cell_type": "code",
   "execution_count": null,
   "metadata": {},
   "outputs": [],
   "source": [
    "\n"
   ]
  }
 ]
}