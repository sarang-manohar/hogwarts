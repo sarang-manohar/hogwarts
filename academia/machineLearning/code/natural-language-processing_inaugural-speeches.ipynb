{
 "cells": [
  {
   "cell_type": "markdown",
   "id": "03e2a2c8",
   "metadata": {},
   "source": [
    "nltk.download('inaugural')\n",
    "nltk.download('stopwords')\n",
    "nltk.download('punkt')"
   ]
  },
  {
   "cell_type": "code",
   "execution_count": 2,
   "id": "305e6df4",
   "metadata": {},
   "outputs": [
    {
     "output_type": "stream",
     "name": "stdout",
     "text": [
      "Excecution started at 2021-07-25 07:28:54.808673\n"
     ]
    }
   ],
   "source": [
    "from datetime import datetime\n",
    "\n",
    "start_time = datetime.now()\n",
    "\n",
    "print('Excecution started at {}'.format(start_time))"
   ]
  },
  {
   "cell_type": "code",
   "execution_count": 39,
   "id": "f433a4bd",
   "metadata": {},
   "outputs": [
    {
     "output_type": "stream",
     "name": "stdout",
     "text": [
      "Imported the libraries for EDA\n"
     ]
    }
   ],
   "source": [
    "import nltk\n",
    "\n",
    "import numpy as np\n",
    "from nltk.corpus import inaugural\n",
    "from nltk.stem.snowball import SnowballStemmer\n",
    "import re\n",
    "import string\n",
    "\n",
    "import warnings\n",
    "warnings.filterwarnings('ignore')\n",
    "\n",
    "print(\"Imported the libraries for EDA\")"
   ]
  },
  {
   "cell_type": "code",
   "execution_count": 4,
   "metadata": {},
   "outputs": [],
   "source": [
    "stopwords = nltk.corpus.stopwords.words('english') + list(string.punctuation)"
   ]
  },
  {
   "cell_type": "code",
   "execution_count": 10,
   "metadata": {},
   "outputs": [],
   "source": [
    "stemmer = SnowballStemmer('english')"
   ]
  },
  {
   "cell_type": "code",
   "execution_count": 52,
   "metadata": {},
   "outputs": [],
   "source": [
    "roosevelt_words = inaugural.words('1941-Roosevelt.txt')\n",
    "kennedy_words = inaugural.words('1961-Kennedy.txt')\n",
    "nixon_words = inaugural.words('1973-Nixon.txt')"
   ]
  },
  {
   "cell_type": "code",
   "execution_count": 53,
   "metadata": {},
   "outputs": [
    {
     "output_type": "stream",
     "name": "stdout",
     "text": [
      "Roosevelt's inaugural speech in 1941 had 1536 words.\nKennedy's inaugural speech in 1961 had 1546 words.\nNixon's inaugural speech in 1973 had 2028 words.\n"
     ]
    }
   ],
   "source": [
    "print(\"Roosevelt's inaugural speech in 1941 had {} words.\".format(len(list(roosevelt_words))))\n",
    "print(\"Kennedy's inaugural speech in 1961 had {} words.\".format(len(list(kennedy_words))))\n",
    "print(\"Nixon's inaugural speech in 1973 had {} words.\".format(len(list(nixon_words))))"
   ]
  },
  {
   "cell_type": "code",
   "execution_count": 55,
   "metadata": {},
   "outputs": [],
   "source": [
    "roosevelt_sentences = inaugural.sents('1941-Roosevelt.txt')\n",
    "kennedy_sentences = inaugural.sents('1961-Kennedy.txt')\n",
    "nixon_sentences = inaugural.sents('1973-Nixon.txt')"
   ]
  },
  {
   "cell_type": "code",
   "execution_count": 56,
   "metadata": {},
   "outputs": [
    {
     "output_type": "stream",
     "name": "stdout",
     "text": [
      "Roosevelt's inaugural speech in 1941 had 68 sentences.\nKennedy's inaugural speech in 1961 had 52 sentences.\nNixon's inaugural speech in 1973 had 69 sentences.\n"
     ]
    }
   ],
   "source": [
    "print(\"Roosevelt's inaugural speech in 1941 had {} sentences.\".format(len(list(roosevelt_sentences))))\n",
    "print(\"Kennedy's inaugural speech in 1961 had {} sentences.\".format(len(list(kennedy_sentences))))\n",
    "print(\"Nixon's inaugural speech in 1973 had {} sentences.\".format(len(list(nixon_sentences))))"
   ]
  },
  {
   "cell_type": "code",
   "execution_count": 59,
   "metadata": {},
   "outputs": [
    {
     "output_type": "stream",
     "name": "stdout",
     "text": [
      "Roosevelt's inaugural speech in 1941 had 6174 characters.\nKennedy's inaugural speech in 1961 had 6202 characters.\nNixon's inaugural speech in 1973 had 8122 characters.\n"
     ]
    }
   ],
   "source": [
    "print(\"Roosevelt's inaugural speech in 1941 had {} characters.\".format(len([char for sentence in roosevelt_sentences for word in sentence for char in word])))\n",
    "print(\"Kennedy's inaugural speech in 1961 had {} characters.\".format(len([char for sentence in kennedy_sentences for word in sentence for char in word])))\n",
    "print(\"Nixon's inaugural speech in 1973 had {} characters.\".format(len([char for sentence in nixon_sentences for word in sentence for char in word])))"
   ]
  },
  {
   "cell_type": "code",
   "execution_count": 29,
   "id": "b0b71f5c",
   "metadata": {},
   "outputs": [
    {
     "output_type": "error",
     "ename": "AttributeError",
     "evalue": "'str' object has no attribute 'words'",
     "traceback": [
      "\u001b[1;31m---------------------------------------------------------------------------\u001b[0m",
      "\u001b[1;31mAttributeError\u001b[0m                            Traceback (most recent call last)",
      "\u001b[1;32m<ipython-input-29-ac38ebaa9f10>\u001b[0m in \u001b[0;36m<module>\u001b[1;34m\u001b[0m\n\u001b[1;32m----> 1\u001b[1;33m \u001b[0mroosevelt_raw\u001b[0m\u001b[1;33m.\u001b[0m\u001b[0mwords\u001b[0m\u001b[1;33m(\u001b[0m\u001b[1;33m)\u001b[0m\u001b[1;33m\u001b[0m\u001b[1;33m\u001b[0m\u001b[0m\n\u001b[0m",
      "\u001b[1;31mAttributeError\u001b[0m: 'str' object has no attribute 'words'"
     ]
    }
   ],
   "source": [
    "roosevelt_raw"
   ]
  },
  {
   "cell_type": "code",
   "execution_count": null,
   "metadata": {},
   "outputs": [],
   "source": []
  },
  {
   "cell_type": "code",
   "execution_count": null,
   "metadata": {},
   "outputs": [],
   "source": []
  },
  {
   "cell_type": "code",
   "execution_count": 31,
   "id": "f5d85065",
   "metadata": {},
   "outputs": [
    {
     "output_type": "error",
     "ename": "AttributeError",
     "evalue": "'PlaintextCorpusReader' object has no attribute 'sent'",
     "traceback": [
      "\u001b[1;31m---------------------------------------------------------------------------\u001b[0m",
      "\u001b[1;31mAttributeError\u001b[0m                            Traceback (most recent call last)",
      "\u001b[1;32m<ipython-input-31-bdae7d4a0c41>\u001b[0m in \u001b[0;36m<module>\u001b[1;34m\u001b[0m\n\u001b[1;32m----> 1\u001b[1;33m \u001b[0minaugural\u001b[0m\u001b[1;33m.\u001b[0m\u001b[0msent\u001b[0m\u001b[1;33m(\u001b[0m\u001b[1;34m'1941-Roosevelt.txt'\u001b[0m\u001b[1;33m)\u001b[0m\u001b[1;33m\u001b[0m\u001b[1;33m\u001b[0m\u001b[0m\n\u001b[0m",
      "\u001b[1;31mAttributeError\u001b[0m: 'PlaintextCorpusReader' object has no attribute 'sent'"
     ]
    }
   ],
   "source": [
    "inaugural.sent('1941-Roosevelt.txt')"
   ]
  },
  {
   "cell_type": "code",
   "execution_count": 8,
   "id": "007f3031",
   "metadata": {},
   "outputs": [
    {
     "output_type": "execute_result",
     "data": {
      "text/plain": [
       "'Vice President Johnson, Mr. Speaker, Mr. Chief Justice, President Eisenhower, Vice President Nixon, President Truman, reverend clergy, fellow citizens, we observe today not a victory of party, but a celebration of freedom -- symbolizing an end, as well as a beginning -- signifying renewal, as well as change. For I have sworn I before you and Almighty God the same solemn oath our forebears l prescribed nearly a century and three quarters ago.\\n\\nThe world is very different now. For man holds in his mortal hands the power to abolish all forms of human poverty and all forms of human life. And yet the same revolutionary beliefs for which our forebears fought are still at issue around the globe -- the belief that the rights of man come not from the generosity of the state, but from the hand of God.\\n\\nWe dare not forget today that we are the heirs of that first revolution. Let the word go forth from this time and place, to friend and foe alike, that the torch has been passed to a new generation of Americans -- born in this century, tempered by war, disciplined by a hard and bitter peace, proud of our ancient heritage -- and unwilling to witness or permit the slow undoing of those human rights to which this Nation has always been committed, and to which we are committed today at home and around the world.\\n\\nLet every nation know, whether it wishes us well or ill, that we shall pay any price, bear any burden, meet any hardship, support any friend, oppose any foe, in order to assure the survival and the success of liberty.\\n\\nThis much we pledge -- and more.\\n\\nTo those old allies whose cultural and spiritual origins we share, we pledge the loyalty of faithful friends. United, there is little we cannot do in a host of cooperative ventures. Divided, there is little we can do -- for we dare not meet a powerful challenge at odds and split asunder.\\n\\nTo those new States whom we welcome to the ranks of the free, we pledge our word that one form of colonial control shall not have passed away merely to be replaced by a far more iron tyranny. We shall not always expect to find them supporting our view. But we shall always hope to find them strongly supporting their own freedom -- and to remember that, in the past, those who foolishly sought power by riding the back of the tiger ended up inside.\\n\\nTo those peoples in the huts and villages across the globe struggling to break the bonds of mass misery, we pledge our best efforts to help them help themselves, for whatever period is required -- not because the Communists may be doing it, not because we seek their votes, but because it is right. If a free society cannot help the many who are poor, it cannot save the few who are rich.\\n\\nTo our sister republics south of our border, we offer a special pledge -- to convert our good words into good deeds -- in a new alliance for progress -- to assist free men and free governments in casting off the chains of poverty. But this peaceful revolution of hope cannot become the prey of hostile powers. Let all our neighbors know that we shall join with them to oppose aggression or subversion anywhere in the Americas. And let every other power know that this Hemisphere intends to remain the master of its own house.\\n\\nTo that world assembly of sovereign states, the United Nations, our last best hope in an age where the instruments of war have far outpaced the instruments of peace, we renew our pledge of support--to prevent it from becoming merely a forum for invective -- to strengthen its shield of the new and the weak -- and to enlarge the area in which its writ may run.\\n\\nFinally, to those nations who would make themselves our adversary, we offer not a pledge but a request: that both sides begin anew the quest for peace, before the dark powers of destruction unleashed by science engulf all humanity in planned or accidental self-destruction.\\n\\nWe dare not tempt them with weakness. For only when our arms are sufficient beyond doubt can we be certain beyond doubt that they will never be employed.\\n\\nBut neither can two great and powerful groups of nations take comfort from our present course -- both sides overburdened by the cost of modern weapons, both rightly alarmed by the steady spread of the deadly atom, yet both racing to alter that uncertain balance of terror that stays the hand of mankind\\'s final war.\\n\\nSo let us begin anew -- remembering on both sides that civility is not a sign of weakness, and sincerity is always subject to proof. Let us never negotiate out of fear. But let us never fear to negotiate.\\n\\nLet both sides explore what problems unite us instead of belaboring those problems which divide us.\\n\\nLet both sides, for the first time, formulate serious and precise proposals for the inspection and control of arms -- and bring the absolute power to destroy other nations under the absolute control of all nations.\\n\\nLet both sides seek to invoke the wonders of science instead of its terrors. Together let us explore the stars, conquer the deserts, eradicate disease, tap the ocean depths, and encourage the arts and commerce.\\n\\nLet both sides unite to heed in all corners of the earth the command of Isaiah -- to \"undo the heavy burdens ... and to let the oppressed go free.\"\\n\\nAnd if a beachhead of cooperation may push back the jungle of suspicion, let both sides join in creating a new endeavor, not a new balance of power, but a new world of law, where the strong are just and the weak secure and the peace preserved.\\n\\nAll this will not be finished in the first 100 days. Nor will it be finished in the first 1,000 days, nor in the life of this Administration, nor even perhaps in our lifetime on this planet. But let us begin.\\n\\nIn your hands, my fellow citizens, more than in mine, will rest the final success or failure of our course. Since this country was founded, each generation of Americans has been summoned to give testimony to its national loyalty. The graves of young Americans who answered the call to service surround the globe.\\n\\nNow the trumpet summons us again -- not as a call to bear arms, though arms we need; not as a call to battle, though embattled we are -- but a call to bear the burden of a long twilight struggle, year in and year out, \"rejoicing in hope, patient in tribulation\" -- a struggle against the common enemies of man: tyranny, poverty, disease, and war itself.\\n\\nCan we forge against these enemies a grand and global alliance, North and South, East and West, that can assure a more fruitful life for all mankind? Will you join in that historic effort?\\n\\nIn the long history of the world, only a few generations have been granted the role of defending freedom in its hour of maximum danger. I do not shrink from this responsibility -- I welcome it. I do not believe that any of us would exchange places with any other people or any other generation. The energy, the faith, the devotion which we bring to this endeavor will light our country and all who serve it -- and the glow from that fire can truly light the world.\\n\\nAnd so, my fellow Americans: ask not what your country can do for you -- ask what you can do for your country.\\n\\nMy fellow citizens of the world: ask not what America will do for you, but what together we can do for the freedom of man.\\n\\nFinally, whether you are citizens of America or citizens of the world, ask of us the same high standards of strength and sacrifice which we ask of you. With a good conscience our only sure reward, with history the final judge of our deeds, let us go forth to lead the land we love, asking His blessing and His help, but knowing that here on earth God\\'s work must truly be our own.\\n'"
      ]
     },
     "metadata": {},
     "execution_count": 8
    }
   ],
   "source": [
    "inaugural.raw('1961-Kennedy.txt')"
   ]
  },
  {
   "cell_type": "code",
   "execution_count": 9,
   "id": "bd13f640",
   "metadata": {},
   "outputs": [
    {
     "output_type": "execute_result",
     "data": {
      "text/plain": [
       "'Mr. Vice President, Mr. Speaker, Mr. Chief Justice, Senator Cook, Mrs. Eisenhower, and my fellow citizens of this great and good country we share together:\\n\\nWhen we met here four years ago, America was bleak in spirit, depressed by the prospect of seemingly endless war abroad and of destructive conflict at home.\\n\\nAs we meet here today, we stand on the threshold of a new era of peace in the world.\\n\\nThe central question before us is: How shall we use that peace? Let us resolve that this era we are about to enter will not be what other postwar periods have so often been: a time of retreat and isolation that leads to stagnation at home and invites new danger abroad.\\n\\nLet us resolve that this will be what it can become: a time of great responsibilities greatly borne, in which we renew the spirit and the promise of America as we enter our third century as a nation.\\n\\nThis past year saw far-reaching results from our new policies for peace. By continuing to revitalize our traditional friendships, and by our missions to Peking and to Moscow, we were able to establish the base for a new and more durable pattern of relationships among the nations of the world. Because of America\\'s bold initiatives, 1972 will be long remembered as the year of the greatest progress since the end of World War II toward a lasting peace in the world.\\n\\nThe peace we seek in the world is not the flimsy peace which is merely an interlude between wars, but a peace which can endure for generations to come.\\n\\nIt is important that we understand both the necessity and the limitations of America\\'s role in maintaining that peace.\\n\\nUnless we in America work to preserve the peace, there will be no peace.\\n\\nUnless we in America work to preserve freedom, there will be no freedom.\\n\\nBut let us clearly understand the new nature of America\\'s role, as a result of the new policies we have adopted over these past four years.\\n\\nWe shall respect our treaty commitments.\\n\\nWe shall support vigorously the principle that no country has the right to impose its will or rule on another by force.\\n\\nWe shall continue, in this era of negotiation, to work for the limitation of nuclear arms, and to reduce the danger of confrontation between the great powers.\\n\\nWe shall do our share in defending peace and freedom in the world. But we shall expect others to do their share.\\n\\nThe time has passed when America will make every other nation\\'s conflict our own, or make every other nation\\'s future our responsibility, or presume to tell the people of other nations how to manage their own affairs.\\n\\nJust as we respect the right of each nation to determine its own future, we also recognize the responsibility of each nation to secure its own future.\\n\\nJust as America\\'s role is indispensable in preserving the world\\'s peace, so is each nation\\'s role indispensable in preserving its own peace.\\n\\nTogether with the rest of the world, let us resolve to move forward from the beginnings we have made. Let us continue to bring down the walls of hostility which have divided the world for too long, and to build in their place bridges of understanding -- so that despite profound differences between systems of government, the people of the world can be friends.\\n\\nLet us build a structure of peace in the world in which the weak are as safe as the strong -- in which each respects the right of the other to live by a different system -- in which those who would influence others will do so by the strength of their ideas, and not by the force of their arms.\\n\\nLet us accept that high responsibility not as a burden, but gladly -- gladly because the chance to build such a peace is the noblest endeavor in which a nation can engage; gladly, also, because only if we act greatly in meeting our responsibilities abroad will we remain a great Nation, and only if we remain a great Nation will we act greatly in meeting our challenges at home.\\n\\nWe have the chance today to do more than ever before in our history to make life better in America -- to ensure better education, better health, better housing, better transportation, a cleaner environment -- to restore respect for law, to make our communities more livable -- and to insure the God-given right of every American to full and equal opportunity.\\n\\nBecause the range of our needs is so great -- because the reach of our opportunities is so great -- let us be bold in our determination to meet those needs in new ways.\\n\\nJust as building a structure of peace abroad has required turning away from old policies that failed, so building a new era of progress at home requires turning away from old policies that have failed.\\n\\nAbroad, the shift from old policies to new has not been a retreat from our responsibilities, but a better way to peace.\\n\\nAnd at home, the shift from old policies to new will not be a retreat from our responsibilities, but a better way to progress.\\n\\nAbroad and at home, the key to those new responsibilities lies in the placing and the division of responsibility. We have lived too long with the consequences of attempting to gather all power and responsibility in Washington.\\n\\nAbroad and at home, the time has come to turn away from the condescending policies of paternalism -- of \"Washington knows best.\"\\n\\nA person can be expected to act responsibly only if he has responsibility. This is human nature. So let us encourage individuals at home and nations abroad to do more for themselves, to decide more for themselves. Let us locate responsibility in more places. Let us measure what we will do for others by what they will do for themselves.\\n\\nThat is why today I offer no promise of a purely governmental solution for every problem. We have lived too long with that false promise. In trusting too much in government, we have asked of it more than it can deliver. This leads only to inflated expectations, to reduced individual effort, and to a disappointment and frustration that erode confidence both in what government can do and in what people can do.\\n\\nGovernment must learn to take less from people so that people an do more for themselves.\\n\\nLet us remember that America was built not by government, but by people -- not by welfare, but by work -- not by shirking responsibility, but by seeking responsibility.\\n\\nIn our own lives, let each of us ask -- not just what will government do for me, but what can I do for myself?\\n\\nIn the challenges we face together, let each of us ask -- not just how can government help, but how can I help?\\n\\nYour National Government has a great and vital role to play. And I pledge to you that where this Government should act, we will act boldly and we will lead boldly. But just as important is the role that each and every one of us must play, as an individual and as a member of his own community.\\n\\nFrom this day forward, let each of us make a solemn commitment in his own heart: to bear his responsibility, to do his part, to live his ideals -- so that together, we can see the dawn of a new age of progress for America, and together, as we celebrate our 200th anniversary as a nation, we can do so proud in the fulfillment of our promise to ourselves and to the world.\\n\\nAs America\\'s longest and most difficult war comes to an end, let us again learn to debate our differences with civility and decency. And let each of us reach out for that one precious quality government cannot provide -- a new level of respect for the rights and feelings of one another, a new level of respect for the individual human dignity which is the cherished birthright of every American.\\n\\nAbove all else, the time has come for us to renew our faith in ourselves and in America.\\n\\nIn recent years, that faith has been challenged.\\n\\nOur children have been taught to be ashamed of their country, ashamed of their parents, ashamed of America\\'s record at home and of its role in the world.\\n\\nAt every turn, we have been beset by those who find everything wrong with America and little that is right. But I am confident that this will not be the judgment of history on these remarkable times in which we are privileged to live.\\n\\nAmerica\\'s record in this century has been unparalleled in the world\\'s history for its responsibility, for its generosity, for its creativity and for its progress.\\n\\nLet us be proud that our system has produced and provided more freedom and more abundance, more widely shared, than any other system in the history of the world.\\n\\nLet us be proud that in each of the four wars in which we have been engaged in this century, including the one we are now bringing to an end, we have fought not for our selfish advantage, but to help others resist aggression.\\n\\nLet us be proud that by our bold, new initiatives, and by our steadfastness for peace with honor, we have made a break-through toward creating in the world what the world has not known before -- a structure of peace that can last, not merely for our time, but for generations to come.\\n\\nWe are embarking here today on an era that presents challenges great as those any nation, or any generation, has ever faced.\\n\\nWe shall answer to God, to history, and to our conscience for the way in which we use these years.\\n\\nAs I stand in this place, so hallowed by history, I think of others who have stood here before me. I think of the dreams they had for America, and I think of how each recognized that he needed help far beyond himself in order to make those dreams come true.\\n\\nToday, I ask your prayers that in the years ahead I may have God\\'s help in making decisions that are right for America, and I pray for your help so that together we may be worthy of our challenge.\\n\\nLet us pledge together to make these next four years the best four years in America\\'s history, so that on its 200th birthday America will be as young and as vital as when it began, and as bright a beacon of hope for all the world.\\n\\nLet us go forward from here confident in hope, strong in our faith in one another, sustained by our faith in God who created us, and striving always to serve His purpose.\\n'"
      ]
     },
     "metadata": {},
     "execution_count": 9
    }
   ],
   "source": [
    "inaugural.raw('1973-Nixon.txt')"
   ]
  },
  {
   "cell_type": "code",
   "execution_count": null,
   "id": "ce1e4b47",
   "metadata": {},
   "outputs": [],
   "source": []
  }
 ],
 "metadata": {
  "kernelspec": {
   "name": "python3",
   "display_name": "Python 3.8.8 64-bit ('base': conda)"
  },
  "language_info": {
   "codemirror_mode": {
    "name": "ipython",
    "version": 3
   },
   "file_extension": ".py",
   "mimetype": "text/x-python",
   "name": "python",
   "nbconvert_exporter": "python",
   "pygments_lexer": "ipython3",
   "version": "3.8.8"
  },
  "interpreter": {
   "hash": "07efdcd4b820c98a756949507a4d29d7862823915ec7477944641bea022f4f62"
  }
 },
 "nbformat": 4,
 "nbformat_minor": 5
}